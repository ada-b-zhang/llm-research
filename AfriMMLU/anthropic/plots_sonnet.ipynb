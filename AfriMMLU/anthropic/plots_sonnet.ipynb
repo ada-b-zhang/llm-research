{
 "cells": [
  {
   "cell_type": "code",
   "execution_count": null,
   "metadata": {},
   "outputs": [],
   "source": [
    "import pandas as pd\n",
    "# List all the accuracy CSV files\n",
    "accuracy_files = [f for f in os.listdir(output_path) if f.endswith('_accuracy.csv')]\n",
    "\n",
    "# Initialize a list to hold individual DataFrames\n",
    "dfs = []\n",
    "\n",
    "# Loop through each CSV file and load it into a DataFrame\n",
    "for accuracy_file in accuracy_files:\n",
    "    file_path = os.path.join(output_path, accuracy_file)\n",
    "    try:\n",
    "        # Load the CSV into a DataFrame\n",
    "        df = pd.read_csv(file_path)\n",
    "        \n",
    "        # Add a column to the DataFrame for the file name (language)\n",
    "        df['language'] = accuracy_file.replace('_accuracy.csv', '')  # Remove '_accuracy.csv' to get the language name\n",
    "        \n",
    "        # Add the DataFrame to the list\n",
    "        dfs.append(df)\n",
    "    except Exception as e:\n",
    "        print(f\"Error loading {accuracy_file}: {e}\")\n",
    "\n",
    "# Concatenate all DataFrames into one\n",
    "combined_df = pd.concat(dfs, ignore_index=True)\n",
    "\n",
    "# Display the resulting DataFrame\n",
    "(combined_df)"
   ]
  }
 ],
 "metadata": {
  "language_info": {
   "name": "python"
  }
 },
 "nbformat": 4,
 "nbformat_minor": 2
}
