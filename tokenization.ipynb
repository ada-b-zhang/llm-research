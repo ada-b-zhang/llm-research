{
 "cells": [
  {
   "cell_type": "markdown",
   "metadata": {},
   "source": [
    "# Tokenizer Fertility Comparison\n",
    "\n",
    "Resources:\n",
    "* [Tokenizer Summary](https://huggingface.co/docs/transformers/tokenizer_summary)\n",
    "* [BBC Articles Dataset with Extra Features](https://www.kaggle.com/datasets/jacopoferretti/bbc-articles-dataset)\n",
    "* [AutoTokenizer](https://huggingface.co/docs/transformers/v4.14.1/en/model_doc/auto#transformers.AutoTokenizer)"
   ]
  },
  {
   "cell_type": "code",
   "execution_count": 33,
   "metadata": {},
   "outputs": [],
   "source": [
    "# !pip install transformers\n",
    "# !pip install kagglehub\n",
    "# ! pip install sentencepiece\n",
    "from transformers import AutoTokenizer, BertTokenizer, XLNetTokenizer, DistilBertModel, AlbertTokenizer, AlbertModel, T5Tokenizer, T5Model\n",
    "import pandas as pd\n",
    "import numpy as np"
   ]
  },
  {
   "cell_type": "code",
   "execution_count": 34,
   "metadata": {},
   "outputs": [],
   "source": [
    "def fertility(text, \n",
    "              tokenizer_class='BertTokenizer', \n",
    "              model='google-bert/bert-base-uncased'):\n",
    "\n",
    "    tokenizer_class_ = getattr(__import__(\"transformers\"), tokenizer_class, None)\n",
    "    tokenizer = tokenizer_class_.from_pretrained(model)\n",
    "\n",
    "    tokenized = tokenizer.tokenize(text) # Note: Transformers typically doesn't remove stopwords \n",
    "    num_words = len(text.split())\n",
    "\n",
    "    fertility = len(tokenized) / num_words\n",
    "    return fertility"
   ]
  },
  {
   "cell_type": "code",
   "execution_count": 35,
   "metadata": {},
   "outputs": [],
   "source": [
    "df = pd.read_csv('bbc_news_text_complexity_summarization.csv')  # replace with your df\n",
    "texts = df['text'][:100]"
   ]
  },
  {
   "cell_type": "code",
   "execution_count": 36,
   "metadata": {},
   "outputs": [],
   "source": [
    "# Tokenizer Class: BertTokenizer\n",
    "# Model: google-bert/bert-base-uncased\n",
    "\n",
    "bert_fertilities = texts.apply(lambda text: fertility(text))"
   ]
  },
  {
   "cell_type": "code",
   "execution_count": 37,
   "metadata": {},
   "outputs": [],
   "source": [
    "# Tokenizer Class: XLNetTokenizer\n",
    "# Model: xlnet/xlnet-base-cased\n",
    "\n",
    "tokenizer_class='XLNetTokenizer'\n",
    "model='xlnet/xlnet-base-cased'\n",
    "XLNet_fertilities = texts.apply(lambda text: fertility(text, tokenizer_class, model))"
   ]
  },
  {
   "cell_type": "code",
   "execution_count": 38,
   "metadata": {},
   "outputs": [],
   "source": [
    "# Tokenizer Class: DistilBertTokenizer\n",
    "# Model: distilbert-base-uncased\n",
    "\n",
    "tokenizer_class='DistilBertTokenizer'\n",
    "model='distilbert-base-uncased'\n",
    "DistilBert_fertilities = texts.apply(lambda text: fertility(text, tokenizer_class, model))"
   ]
  },
  {
   "cell_type": "code",
   "execution_count": 39,
   "metadata": {},
   "outputs": [],
   "source": [
    "# Tokenizer Class: AlbertTokenizer\n",
    "# Model: 'albert-base-v2'\n",
    "\n",
    "tokenizer_class='AlbertTokenizer'\n",
    "model='albert-base-v2'\n",
    "Albert_fertilities = texts.apply(lambda text: fertility(text, tokenizer_class, model))"
   ]
  },
  {
   "cell_type": "code",
   "execution_count": 40,
   "metadata": {},
   "outputs": [],
   "source": [
    "# Tokenizer Class: T5Tokenizer\n",
    "# Model: 't5-small'\n",
    "\n",
    "tokenizer_class='AlbertTokenizer'\n",
    "model='albert-base-v2'\n",
    "T5_fertilities = texts.apply(lambda text: fertility(text, tokenizer_class, model))"
   ]
  },
  {
   "cell_type": "code",
   "execution_count": 41,
   "metadata": {},
   "outputs": [
    {
     "data": {
      "text/html": [
       "<div>\n",
       "<style scoped>\n",
       "    .dataframe tbody tr th:only-of-type {\n",
       "        vertical-align: middle;\n",
       "    }\n",
       "\n",
       "    .dataframe tbody tr th {\n",
       "        vertical-align: top;\n",
       "    }\n",
       "\n",
       "    .dataframe thead th {\n",
       "        text-align: right;\n",
       "    }\n",
       "</style>\n",
       "<table border=\"1\" class=\"dataframe\">\n",
       "  <thead>\n",
       "    <tr style=\"text-align: right;\">\n",
       "      <th></th>\n",
       "      <th>BERT</th>\n",
       "      <th>XLNet</th>\n",
       "      <th>DistilBert</th>\n",
       "      <th>Albert</th>\n",
       "      <th>T5</th>\n",
       "    </tr>\n",
       "  </thead>\n",
       "  <tbody>\n",
       "    <tr>\n",
       "      <th>0</th>\n",
       "      <td>1.353919</td>\n",
       "      <td>1.339667</td>\n",
       "      <td>1.353919</td>\n",
       "      <td>1.363420</td>\n",
       "      <td>1.363420</td>\n",
       "    </tr>\n",
       "    <tr>\n",
       "      <th>1</th>\n",
       "      <td>1.231771</td>\n",
       "      <td>1.221354</td>\n",
       "      <td>1.231771</td>\n",
       "      <td>1.250000</td>\n",
       "      <td>1.250000</td>\n",
       "    </tr>\n",
       "    <tr>\n",
       "      <th>2</th>\n",
       "      <td>1.382576</td>\n",
       "      <td>1.329545</td>\n",
       "      <td>1.382576</td>\n",
       "      <td>1.363636</td>\n",
       "      <td>1.363636</td>\n",
       "    </tr>\n",
       "    <tr>\n",
       "      <th>3</th>\n",
       "      <td>1.364532</td>\n",
       "      <td>1.401478</td>\n",
       "      <td>1.364532</td>\n",
       "      <td>1.413793</td>\n",
       "      <td>1.413793</td>\n",
       "    </tr>\n",
       "    <tr>\n",
       "      <th>4</th>\n",
       "      <td>1.494340</td>\n",
       "      <td>1.566038</td>\n",
       "      <td>1.494340</td>\n",
       "      <td>1.520755</td>\n",
       "      <td>1.520755</td>\n",
       "    </tr>\n",
       "    <tr>\n",
       "      <th>...</th>\n",
       "      <td>...</td>\n",
       "      <td>...</td>\n",
       "      <td>...</td>\n",
       "      <td>...</td>\n",
       "      <td>...</td>\n",
       "    </tr>\n",
       "    <tr>\n",
       "      <th>95</th>\n",
       "      <td>1.228571</td>\n",
       "      <td>1.257143</td>\n",
       "      <td>1.228571</td>\n",
       "      <td>1.250000</td>\n",
       "      <td>1.250000</td>\n",
       "    </tr>\n",
       "    <tr>\n",
       "      <th>96</th>\n",
       "      <td>1.306306</td>\n",
       "      <td>1.326577</td>\n",
       "      <td>1.306306</td>\n",
       "      <td>1.333333</td>\n",
       "      <td>1.333333</td>\n",
       "    </tr>\n",
       "    <tr>\n",
       "      <th>97</th>\n",
       "      <td>1.368664</td>\n",
       "      <td>1.327189</td>\n",
       "      <td>1.368664</td>\n",
       "      <td>1.377880</td>\n",
       "      <td>1.377880</td>\n",
       "    </tr>\n",
       "    <tr>\n",
       "      <th>98</th>\n",
       "      <td>1.255814</td>\n",
       "      <td>1.258140</td>\n",
       "      <td>1.255814</td>\n",
       "      <td>1.276744</td>\n",
       "      <td>1.276744</td>\n",
       "    </tr>\n",
       "    <tr>\n",
       "      <th>99</th>\n",
       "      <td>1.295322</td>\n",
       "      <td>1.309942</td>\n",
       "      <td>1.295322</td>\n",
       "      <td>1.292398</td>\n",
       "      <td>1.292398</td>\n",
       "    </tr>\n",
       "  </tbody>\n",
       "</table>\n",
       "<p>100 rows × 5 columns</p>\n",
       "</div>"
      ],
      "text/plain": [
       "        BERT     XLNet  DistilBert    Albert        T5\n",
       "0   1.353919  1.339667    1.353919  1.363420  1.363420\n",
       "1   1.231771  1.221354    1.231771  1.250000  1.250000\n",
       "2   1.382576  1.329545    1.382576  1.363636  1.363636\n",
       "3   1.364532  1.401478    1.364532  1.413793  1.413793\n",
       "4   1.494340  1.566038    1.494340  1.520755  1.520755\n",
       "..       ...       ...         ...       ...       ...\n",
       "95  1.228571  1.257143    1.228571  1.250000  1.250000\n",
       "96  1.306306  1.326577    1.306306  1.333333  1.333333\n",
       "97  1.368664  1.327189    1.368664  1.377880  1.377880\n",
       "98  1.255814  1.258140    1.255814  1.276744  1.276744\n",
       "99  1.295322  1.309942    1.295322  1.292398  1.292398\n",
       "\n",
       "[100 rows x 5 columns]"
      ]
     },
     "execution_count": 41,
     "metadata": {},
     "output_type": "execute_result"
    }
   ],
   "source": [
    "tokenizer_fertilities = pd.DataFrame({'BERT': pd.Series(bert_fertilities),\n",
    "                                      'XLNet': pd.Series(XLNet_fertilities),\n",
    "                                      'DistilBert': pd.Series(DistilBert_fertilities),\n",
    "                                      'Albert': pd.Series(Albert_fertilities),\n",
    "                                      'T5': pd.Series(T5_fertilities)})\n",
    "tokenizer_fertilities"
   ]
  },
  {
   "cell_type": "code",
   "execution_count": 42,
   "metadata": {},
   "outputs": [
    {
     "data": {
      "text/plain": [
       "BERT          1.297427\n",
       "XLNet         1.305913\n",
       "DistilBert    1.297427\n",
       "Albert        1.316069\n",
       "T5            1.316069\n",
       "dtype: float64"
      ]
     },
     "execution_count": 42,
     "metadata": {},
     "output_type": "execute_result"
    }
   ],
   "source": [
    "tokenizer_fertilities.apply(lambda row: np.mean(row), axis=0)"
   ]
  },
  {
   "cell_type": "code",
   "execution_count": null,
   "metadata": {},
   "outputs": [],
   "source": []
  }
 ],
 "metadata": {
  "kernelspec": {
   "display_name": "Python 3",
   "language": "python",
   "name": "python3"
  },
  "language_info": {
   "codemirror_mode": {
    "name": "ipython",
    "version": 3
   },
   "file_extension": ".py",
   "mimetype": "text/x-python",
   "name": "python",
   "nbconvert_exporter": "python",
   "pygments_lexer": "ipython3",
   "version": "3.12.2"
  }
 },
 "nbformat": 4,
 "nbformat_minor": 2
}
