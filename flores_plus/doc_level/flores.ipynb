{
 "cells": [
  {
   "cell_type": "code",
   "execution_count": 27,
   "metadata": {},
   "outputs": [],
   "source": [
    "import os\n",
    "\n",
    "import pandas as pd\n",
    "\n",
    "from transformers import AutoTokenizer, AutoModel\n",
    "import torch\n",
    "\n",
    "import time\n",
    "from joblib import Parallel, delayed\n",
    "\n",
    "from tqdm import tqdm"
   ]
  },
  {
   "cell_type": "code",
   "execution_count": 6,
   "metadata": {},
   "outputs": [
    {
     "data": {
      "application/vnd.jupyter.widget-view+json": {
       "model_id": "0d383853eccb444e8152bd183cf1e682",
       "version_major": 2,
       "version_minor": 0
      },
      "text/plain": [
       "VBox(children=(HTML(value='<center> <img\\nsrc=https://huggingface.co/front/assets/huggingface_logo-noborder.sv…"
      ]
     },
     "metadata": {},
     "output_type": "display_data"
    },
    {
     "name": "stderr",
     "output_type": "stream",
     "text": [
      "Token has not been saved to git credential helper.\n"
     ]
    }
   ],
   "source": [
    "from huggingface_hub import login\n",
    "login()"
   ]
  },
  {
   "cell_type": "code",
   "execution_count": 10,
   "metadata": {},
   "outputs": [
    {
     "data": {
      "application/vnd.jupyter.widget-view+json": {
       "model_id": "d557f54d74d140b19b2534f1608fddd5",
       "version_major": 2,
       "version_minor": 0
      },
      "text/plain": [
       "Resolving data files:   0%|          | 0/218 [00:00<?, ?it/s]"
      ]
     },
     "metadata": {},
     "output_type": "display_data"
    },
    {
     "data": {
      "application/vnd.jupyter.widget-view+json": {
       "model_id": "527c2ad167454d0bafbfeab24faf5d80",
       "version_major": 2,
       "version_minor": 0
      },
      "text/plain": [
       "Resolving data files:   0%|          | 0/213 [00:00<?, ?it/s]"
      ]
     },
     "metadata": {},
     "output_type": "display_data"
    },
    {
     "data": {
      "application/vnd.jupyter.widget-view+json": {
       "model_id": "aa57bd563dc943c5af1799462f727f45",
       "version_major": 2,
       "version_minor": 0
      },
      "text/plain": [
       "Resolving data files:   0%|          | 0/218 [00:00<?, ?it/s]"
      ]
     },
     "metadata": {},
     "output_type": "display_data"
    },
    {
     "data": {
      "application/vnd.jupyter.widget-view+json": {
       "model_id": "27f3648b5d0e489181cb6daee05b8ae3",
       "version_major": 2,
       "version_minor": 0
      },
      "text/plain": [
       "Resolving data files:   0%|          | 0/213 [00:00<?, ?it/s]"
      ]
     },
     "metadata": {},
     "output_type": "display_data"
    },
    {
     "data": {
      "application/vnd.jupyter.widget-view+json": {
       "model_id": "3bc0170886f64a0e80f030c57db31e35",
       "version_major": 2,
       "version_minor": 0
      },
      "text/plain": [
       "Downloading data:   0%|          | 0/218 [00:00<?, ?files/s]"
      ]
     },
     "metadata": {},
     "output_type": "display_data"
    },
    {
     "data": {
      "application/vnd.jupyter.widget-view+json": {
       "model_id": "c8bbca9e7e444e1f9e93738898d54278",
       "version_major": 2,
       "version_minor": 0
      },
      "text/plain": [
       "ace_Arab.parquet:   0%|          | 0.00/125k [00:00<?, ?B/s]"
      ]
     },
     "metadata": {},
     "output_type": "display_data"
    },
    {
     "data": {
      "application/vnd.jupyter.widget-view+json": {
       "model_id": "ffe6197d445a41e8952ab6ff7eb69606",
       "version_major": 2,
       "version_minor": 0
      },
      "text/plain": [
       "acq_Arab.parquet:   0%|          | 0.00/136k [00:00<?, ?B/s]"
      ]
     },
     "metadata": {},
     "output_type": "display_data"
    },
    {
     "data": {
      "application/vnd.jupyter.widget-view+json": {
       "model_id": "d0f75c181bc54db4bd257c106612207d",
       "version_major": 2,
       "version_minor": 0
      },
      "text/plain": [
       "amh_Ethi.parquet:   0%|          | 0.00/146k [00:00<?, ?B/s]"
      ]
     },
     "metadata": {},
     "output_type": "display_data"
    },
    {
     "data": {
      "application/vnd.jupyter.widget-view+json": {
       "model_id": "3afce05037904526bcc125ea658e0253",
       "version_major": 2,
       "version_minor": 0
      },
      "text/plain": [
       "arz_Arab.parquet:   0%|          | 0.00/133k [00:00<?, ?B/s]"
      ]
     },
     "metadata": {},
     "output_type": "display_data"
    },
    {
     "data": {
      "application/vnd.jupyter.widget-view+json": {
       "model_id": "d7a55ef8796a44d89a570241cf6020fb",
       "version_major": 2,
       "version_minor": 0
      },
      "text/plain": [
       "ars_Arab.parquet:   0%|          | 0.00/138k [00:00<?, ?B/s]"
      ]
     },
     "metadata": {},
     "output_type": "display_data"
    },
    {
     "data": {
      "application/vnd.jupyter.widget-view+json": {
       "model_id": "1d7cdd8c224b49e2b9cf5b5fbc6d6de5",
       "version_major": 2,
       "version_minor": 0
      },
      "text/plain": [
       "apc_Arab_nort3139.parquet:   0%|          | 0.00/129k [00:00<?, ?B/s]"
      ]
     },
     "metadata": {},
     "output_type": "display_data"
    },
    {
     "data": {
      "application/vnd.jupyter.widget-view+json": {
       "model_id": "4c4b5ac91f2a4dc0973897734fdc4e26",
       "version_major": 2,
       "version_minor": 0
      },
      "text/plain": [
       "ary_Arab.parquet:   0%|          | 0.00/135k [00:00<?, ?B/s]"
      ]
     },
     "metadata": {},
     "output_type": "display_data"
    },
    {
     "data": {
      "application/vnd.jupyter.widget-view+json": {
       "model_id": "4b1f01b3e8fa4469aae5012ba68eade1",
       "version_major": 2,
       "version_minor": 0
      },
      "text/plain": [
       "arb_Arab.parquet:   0%|          | 0.00/137k [00:00<?, ?B/s]"
      ]
     },
     "metadata": {},
     "output_type": "display_data"
    },
    {
     "data": {
      "application/vnd.jupyter.widget-view+json": {
       "model_id": "97e7c9b3bb924dccb36bdb80ac175ad3",
       "version_major": 2,
       "version_minor": 0
      },
      "text/plain": [
       "arb_Latn.parquet:   0%|          | 0.00/130k [00:00<?, ?B/s]"
      ]
     },
     "metadata": {},
     "output_type": "display_data"
    },
    {
     "data": {
      "application/vnd.jupyter.widget-view+json": {
       "model_id": "8866c0e3068240ae99218df5de2e9dca",
       "version_major": 2,
       "version_minor": 0
      },
      "text/plain": [
       "als_Latn.parquet:   0%|          | 0.00/126k [00:00<?, ?B/s]"
      ]
     },
     "metadata": {},
     "output_type": "display_data"
    },
    {
     "data": {
      "application/vnd.jupyter.widget-view+json": {
       "model_id": "08449b6fd7da42ffba68f870a4f974cd",
       "version_major": 2,
       "version_minor": 0
      },
      "text/plain": [
       "acm_Arab.parquet:   0%|          | 0.00/134k [00:00<?, ?B/s]"
      ]
     },
     "metadata": {},
     "output_type": "display_data"
    },
    {
     "data": {
      "application/vnd.jupyter.widget-view+json": {
       "model_id": "b9b4e760cdbb43a5b5e228098d35ef27",
       "version_major": 2,
       "version_minor": 0
      },
      "text/plain": [
       "aeb_Arab.parquet:   0%|          | 0.00/134k [00:00<?, ?B/s]"
      ]
     },
     "metadata": {},
     "output_type": "display_data"
    },
    {
     "data": {
      "application/vnd.jupyter.widget-view+json": {
       "model_id": "ed4d49aeb3754037af6c72399193fd71",
       "version_major": 2,
       "version_minor": 0
      },
      "text/plain": [
       "apc_Arab_sout3123.parquet:   0%|          | 0.00/129k [00:00<?, ?B/s]"
      ]
     },
     "metadata": {},
     "output_type": "display_data"
    },
    {
     "data": {
      "application/vnd.jupyter.widget-view+json": {
       "model_id": "8bf8bed0aa39432c9480a5dd8a9dcd25",
       "version_major": 2,
       "version_minor": 0
      },
      "text/plain": [
       "afr_Latn.parquet:   0%|          | 0.00/117k [00:00<?, ?B/s]"
      ]
     },
     "metadata": {},
     "output_type": "display_data"
    },
    {
     "name": "stderr",
     "output_type": "stream",
     "text": [
      "c:\\Users\\guoha\\AppData\\Local\\Programs\\Python\\Python312\\Lib\\site-packages\\huggingface_hub\\file_download.py:139: UserWarning: `huggingface_hub` cache-system uses symlinks by default to efficiently store duplicated files but your machine does not support them in C:\\Users\\guoha\\.cache\\huggingface\\hub\\datasets--openlanguagedata--flores_plus. Caching files will still work but in a degraded version that might require more space on your disk. This warning can be disabled by setting the `HF_HUB_DISABLE_SYMLINKS_WARNING` environment variable. For more details, see https://huggingface.co/docs/huggingface_hub/how-to-cache#limitations.\n",
      "To support symlinks on Windows, you either need to activate Developer Mode or to run Python as an administrator. In order to activate developer mode, see this article: https://docs.microsoft.com/en-us/windows/apps/get-started/enable-your-device-for-development\n",
      "  warnings.warn(message)\n"
     ]
    },
    {
     "data": {
      "application/vnd.jupyter.widget-view+json": {
       "model_id": "8c6defcdb5314f1e8accaaad7b57143f",
       "version_major": 2,
       "version_minor": 0
      },
      "text/plain": [
       "arg_Latn.parquet:   0%|          | 0.00/128k [00:00<?, ?B/s]"
      ]
     },
     "metadata": {},
     "output_type": "display_data"
    },
    {
     "data": {
      "application/vnd.jupyter.widget-view+json": {
       "model_id": "d3472ffafed3455498c84fa19eb1b06f",
       "version_major": 2,
       "version_minor": 0
      },
      "text/plain": [
       "ace_Latn.parquet:   0%|          | 0.00/114k [00:00<?, ?B/s]"
      ]
     },
     "metadata": {},
     "output_type": "display_data"
    },
    {
     "data": {
      "application/vnd.jupyter.widget-view+json": {
       "model_id": "3f00b78f24154b2b96b13c921803941b",
       "version_major": 2,
       "version_minor": 0
      },
      "text/plain": [
       "asm_Beng.parquet:   0%|          | 0.00/168k [00:00<?, ?B/s]"
      ]
     },
     "metadata": {},
     "output_type": "display_data"
    },
    {
     "data": {
      "application/vnd.jupyter.widget-view+json": {
       "model_id": "abd3c914987e41e79368e379286ecf5d",
       "version_major": 2,
       "version_minor": 0
      },
      "text/plain": [
       "ast_Latn.parquet:   0%|          | 0.00/119k [00:00<?, ?B/s]"
      ]
     },
     "metadata": {},
     "output_type": "display_data"
    },
    {
     "data": {
      "application/vnd.jupyter.widget-view+json": {
       "model_id": "8abec99aca16469aae1f17c8e4978c66",
       "version_major": 2,
       "version_minor": 0
      },
      "text/plain": [
       "awa_Deva.parquet:   0%|          | 0.00/158k [00:00<?, ?B/s]"
      ]
     },
     "metadata": {},
     "output_type": "display_data"
    },
    {
     "data": {
      "application/vnd.jupyter.widget-view+json": {
       "model_id": "42182fec0f1f42c2a4a64750da71b05d",
       "version_major": 2,
       "version_minor": 0
      },
      "text/plain": [
       "ban_Latn.parquet:   0%|          | 0.00/114k [00:00<?, ?B/s]"
      ]
     },
     "metadata": {},
     "output_type": "display_data"
    },
    {
     "data": {
      "application/vnd.jupyter.widget-view+json": {
       "model_id": "cf7e55e9b56c4f479f52c5054e523cfa",
       "version_major": 2,
       "version_minor": 0
      },
      "text/plain": [
       "azj_Latn.parquet:   0%|          | 0.00/128k [00:00<?, ?B/s]"
      ]
     },
     "metadata": {},
     "output_type": "display_data"
    },
    {
     "data": {
      "application/vnd.jupyter.widget-view+json": {
       "model_id": "3db557d56a454d6b9888617b9e3c9b5d",
       "version_major": 2,
       "version_minor": 0
      },
      "text/plain": [
       "ayr_Latn.parquet:   0%|          | 0.00/116k [00:00<?, ?B/s]"
      ]
     },
     "metadata": {},
     "output_type": "display_data"
    },
    {
     "data": {
      "application/vnd.jupyter.widget-view+json": {
       "model_id": "5b83d293344f40fcadf395d18ebd0c8f",
       "version_major": 2,
       "version_minor": 0
      },
      "text/plain": [
       "bam_Latn.parquet:   0%|          | 0.00/111k [00:00<?, ?B/s]"
      ]
     },
     "metadata": {},
     "output_type": "display_data"
    },
    {
     "data": {
      "application/vnd.jupyter.widget-view+json": {
       "model_id": "0a54017414d94c0e983efeb16ed413f5",
       "version_major": 2,
       "version_minor": 0
      },
      "text/plain": [
       "bho_Deva.parquet:   0%|          | 0.00/155k [00:00<?, ?B/s]"
      ]
     },
     "metadata": {},
     "output_type": "display_data"
    },
    {
     "data": {
      "application/vnd.jupyter.widget-view+json": {
       "model_id": "26bb4fdff73e4ad7821bbff5c08012a5",
       "version_major": 2,
       "version_minor": 0
      },
      "text/plain": [
       "azb_Arab.parquet:   0%|          | 0.00/134k [00:00<?, ?B/s]"
      ]
     },
     "metadata": {},
     "output_type": "display_data"
    },
    {
     "data": {
      "application/vnd.jupyter.widget-view+json": {
       "model_id": "de32c089eca644c890a6d23d3c4308a1",
       "version_major": 2,
       "version_minor": 0
      },
      "text/plain": [
       "bak_Cyrl.parquet:   0%|          | 0.00/149k [00:00<?, ?B/s]"
      ]
     },
     "metadata": {},
     "output_type": "display_data"
    },
    {
     "data": {
      "application/vnd.jupyter.widget-view+json": {
       "model_id": "e6976ae3015e4e7fa006dc70d48ec7e0",
       "version_major": 2,
       "version_minor": 0
      },
      "text/plain": [
       "ben_Beng.parquet:   0%|          | 0.00/166k [00:00<?, ?B/s]"
      ]
     },
     "metadata": {},
     "output_type": "display_data"
    },
    {
     "data": {
      "application/vnd.jupyter.widget-view+json": {
       "model_id": "23a6bae0a4e74b148c48ca1410b87da6",
       "version_major": 2,
       "version_minor": 0
      },
      "text/plain": [
       "bjn_Arab.parquet:   0%|          | 0.00/136k [00:00<?, ?B/s]"
      ]
     },
     "metadata": {},
     "output_type": "display_data"
    },
    {
     "data": {
      "application/vnd.jupyter.widget-view+json": {
       "model_id": "a5be092af6dc45919e051445346223a3",
       "version_major": 2,
       "version_minor": 0
      },
      "text/plain": [
       "bjn_Latn.parquet:   0%|          | 0.00/112k [00:00<?, ?B/s]"
      ]
     },
     "metadata": {},
     "output_type": "display_data"
    },
    {
     "data": {
      "application/vnd.jupyter.widget-view+json": {
       "model_id": "0b23e50ec5fb4516b08369e4326670eb",
       "version_major": 2,
       "version_minor": 0
      },
      "text/plain": [
       "bel_Cyrl.parquet:   0%|          | 0.00/169k [00:00<?, ?B/s]"
      ]
     },
     "metadata": {},
     "output_type": "display_data"
    },
    {
     "data": {
      "application/vnd.jupyter.widget-view+json": {
       "model_id": "107d20fdfcf9401c900547cfce71a089",
       "version_major": 2,
       "version_minor": 0
      },
      "text/plain": [
       "bem_Latn.parquet:   0%|          | 0.00/126k [00:00<?, ?B/s]"
      ]
     },
     "metadata": {},
     "output_type": "display_data"
    },
    {
     "data": {
      "application/vnd.jupyter.widget-view+json": {
       "model_id": "b37742741c134c0889b571c69f267aaf",
       "version_major": 2,
       "version_minor": 0
      },
      "text/plain": [
       "bod_Tibt.parquet:   0%|          | 0.00/165k [00:00<?, ?B/s]"
      ]
     },
     "metadata": {},
     "output_type": "display_data"
    },
    {
     "data": {
      "application/vnd.jupyter.widget-view+json": {
       "model_id": "86987ba945d8494fbf6be9aa662f4855",
       "version_major": 2,
       "version_minor": 0
      },
      "text/plain": [
       "bug_Latn.parquet:   0%|          | 0.00/121k [00:00<?, ?B/s]"
      ]
     },
     "metadata": {},
     "output_type": "display_data"
    },
    {
     "data": {
      "application/vnd.jupyter.widget-view+json": {
       "model_id": "1ed3f8325fbd4129bd804b2bb86b8380",
       "version_major": 2,
       "version_minor": 0
      },
      "text/plain": [
       "bul_Cyrl.parquet:   0%|          | 0.00/150k [00:00<?, ?B/s]"
      ]
     },
     "metadata": {},
     "output_type": "display_data"
    },
    {
     "data": {
      "application/vnd.jupyter.widget-view+json": {
       "model_id": "5307531628f3418384132e95edd2b0c6",
       "version_major": 2,
       "version_minor": 0
      },
      "text/plain": [
       "brx_Deva.parquet:   0%|          | 0.00/164k [00:00<?, ?B/s]"
      ]
     },
     "metadata": {},
     "output_type": "display_data"
    },
    {
     "data": {
      "application/vnd.jupyter.widget-view+json": {
       "model_id": "98cccf4c6f714e3cb0b3ea6134114653",
       "version_major": 2,
       "version_minor": 0
      },
      "text/plain": [
       "bos_Latn.parquet:   0%|          | 0.00/122k [00:00<?, ?B/s]"
      ]
     },
     "metadata": {},
     "output_type": "display_data"
    },
    {
     "data": {
      "application/vnd.jupyter.widget-view+json": {
       "model_id": "340f47f576384f57a012f010b052c6d1",
       "version_major": 2,
       "version_minor": 0
      },
      "text/plain": [
       "cat_Latn.parquet:   0%|          | 0.00/123k [00:00<?, ?B/s]"
      ]
     },
     "metadata": {},
     "output_type": "display_data"
    },
    {
     "data": {
      "application/vnd.jupyter.widget-view+json": {
       "model_id": "688f9cb198f7473980af665eef8c9873",
       "version_major": 2,
       "version_minor": 0
      },
      "text/plain": [
       "ceb_Latn.parquet:   0%|          | 0.00/121k [00:00<?, ?B/s]"
      ]
     },
     "metadata": {},
     "output_type": "display_data"
    },
    {
     "data": {
      "application/vnd.jupyter.widget-view+json": {
       "model_id": "50f5b3845ea54323bcc422e4a956710d",
       "version_major": 2,
       "version_minor": 0
      },
      "text/plain": [
       "ces_Latn.parquet:   0%|          | 0.00/126k [00:00<?, ?B/s]"
      ]
     },
     "metadata": {},
     "output_type": "display_data"
    },
    {
     "data": {
      "application/vnd.jupyter.widget-view+json": {
       "model_id": "49e644187e8c4a0180be77c69db8a93b",
       "version_major": 2,
       "version_minor": 0
      },
      "text/plain": [
       "ckb_Arab.parquet:   0%|          | 0.00/144k [00:00<?, ?B/s]"
      ]
     },
     "metadata": {},
     "output_type": "display_data"
    },
    {
     "data": {
      "application/vnd.jupyter.widget-view+json": {
       "model_id": "4b0923943bc9404ea7472d2d5ad06ac4",
       "version_major": 2,
       "version_minor": 0
      },
      "text/plain": [
       "cjk_Latn.parquet:   0%|          | 0.00/122k [00:00<?, ?B/s]"
      ]
     },
     "metadata": {},
     "output_type": "display_data"
    },
    {
     "data": {
      "application/vnd.jupyter.widget-view+json": {
       "model_id": "193c1744d0d941dba6556fb8dea4624f",
       "version_major": 2,
       "version_minor": 0
      },
      "text/plain": [
       "chv_Cyrl.parquet:   0%|          | 0.00/155k [00:00<?, ?B/s]"
      ]
     },
     "metadata": {},
     "output_type": "display_data"
    },
    {
     "data": {
      "application/vnd.jupyter.widget-view+json": {
       "model_id": "43dedf515b32466888840ca3db98dc11",
       "version_major": 2,
       "version_minor": 0
      },
      "text/plain": [
       "cmn_Hans.parquet:   0%|          | 0.00/118k [00:00<?, ?B/s]"
      ]
     },
     "metadata": {},
     "output_type": "display_data"
    },
    {
     "data": {
      "application/vnd.jupyter.widget-view+json": {
       "model_id": "e844223af63242b9b361f9eac263822f",
       "version_major": 2,
       "version_minor": 0
      },
      "text/plain": [
       "cmn_Hant.parquet:   0%|          | 0.00/115k [00:00<?, ?B/s]"
      ]
     },
     "metadata": {},
     "output_type": "display_data"
    },
    {
     "data": {
      "application/vnd.jupyter.widget-view+json": {
       "model_id": "4e58699de96c417e8d33809b827ed21c",
       "version_major": 2,
       "version_minor": 0
      },
      "text/plain": [
       "cym_Latn.parquet:   0%|          | 0.00/118k [00:00<?, ?B/s]"
      ]
     },
     "metadata": {},
     "output_type": "display_data"
    },
    {
     "data": {
      "application/vnd.jupyter.widget-view+json": {
       "model_id": "b0653c207da840d882e3d63150d616b2",
       "version_major": 2,
       "version_minor": 0
      },
      "text/plain": [
       "crh_Latn.parquet:   0%|          | 0.00/121k [00:00<?, ?B/s]"
      ]
     },
     "metadata": {},
     "output_type": "display_data"
    },
    {
     "data": {
      "application/vnd.jupyter.widget-view+json": {
       "model_id": "ec8b3a11ed424292b9da0788775884b3",
       "version_major": 2,
       "version_minor": 0
      },
      "text/plain": [
       "deu_Latn.parquet:   0%|          | 0.00/128k [00:00<?, ?B/s]"
      ]
     },
     "metadata": {},
     "output_type": "display_data"
    },
    {
     "data": {
      "application/vnd.jupyter.widget-view+json": {
       "model_id": "8acdc8b707404eb88246351829c9178d",
       "version_major": 2,
       "version_minor": 0
      },
      "text/plain": [
       "dan_Latn.parquet:   0%|          | 0.00/117k [00:00<?, ?B/s]"
      ]
     },
     "metadata": {},
     "output_type": "display_data"
    },
    {
     "data": {
      "application/vnd.jupyter.widget-view+json": {
       "model_id": "efb7cceb5e4a4961854afd098a6a79ee",
       "version_major": 2,
       "version_minor": 0
      },
      "text/plain": [
       "dgo_Deva.parquet:   0%|          | 0.00/168k [00:00<?, ?B/s]"
      ]
     },
     "metadata": {},
     "output_type": "display_data"
    },
    {
     "data": {
      "application/vnd.jupyter.widget-view+json": {
       "model_id": "7bbf34efa8f5418b843a0cacdd14393d",
       "version_major": 2,
       "version_minor": 0
      },
      "text/plain": [
       "dzo_Tibt.parquet:   0%|          | 0.00/178k [00:00<?, ?B/s]"
      ]
     },
     "metadata": {},
     "output_type": "display_data"
    },
    {
     "data": {
      "application/vnd.jupyter.widget-view+json": {
       "model_id": "e8e3e29e21a84573a087bfe2f4a7d5b9",
       "version_major": 2,
       "version_minor": 0
      },
      "text/plain": [
       "dyu_Latn.parquet:   0%|          | 0.00/123k [00:00<?, ?B/s]"
      ]
     },
     "metadata": {},
     "output_type": "display_data"
    },
    {
     "data": {
      "application/vnd.jupyter.widget-view+json": {
       "model_id": "2ffbeebb544f4bdda4c89753b98bc2e9",
       "version_major": 2,
       "version_minor": 0
      },
      "text/plain": [
       "dik_Latn.parquet:   0%|          | 0.00/106k [00:00<?, ?B/s]"
      ]
     },
     "metadata": {},
     "output_type": "display_data"
    },
    {
     "data": {
      "application/vnd.jupyter.widget-view+json": {
       "model_id": "0dda8496e8724657bfebb0ed52a23533",
       "version_major": 2,
       "version_minor": 0
      },
      "text/plain": [
       "eng_Latn.parquet:   0%|          | 0.00/112k [00:00<?, ?B/s]"
      ]
     },
     "metadata": {},
     "output_type": "display_data"
    },
    {
     "data": {
      "application/vnd.jupyter.widget-view+json": {
       "model_id": "076bb6131907453a9100664eee16fd15",
       "version_major": 2,
       "version_minor": 0
      },
      "text/plain": [
       "ell_Grek.parquet:   0%|          | 0.00/171k [00:00<?, ?B/s]"
      ]
     },
     "metadata": {},
     "output_type": "display_data"
    },
    {
     "data": {
      "application/vnd.jupyter.widget-view+json": {
       "model_id": "c8be821f7aba4d6dbfe6d65f569c0c02",
       "version_major": 2,
       "version_minor": 0
      },
      "text/plain": [
       "eus_Latn.parquet:   0%|          | 0.00/116k [00:00<?, ?B/s]"
      ]
     },
     "metadata": {},
     "output_type": "display_data"
    },
    {
     "data": {
      "application/vnd.jupyter.widget-view+json": {
       "model_id": "cc772829279d45ebba5cea823f80f9e5",
       "version_major": 2,
       "version_minor": 0
      },
      "text/plain": [
       "ewe_Latn.parquet:   0%|          | 0.00/111k [00:00<?, ?B/s]"
      ]
     },
     "metadata": {},
     "output_type": "display_data"
    },
    {
     "data": {
      "application/vnd.jupyter.widget-view+json": {
       "model_id": "0e340e8925764898b382f1b16c5b08a9",
       "version_major": 2,
       "version_minor": 0
      },
      "text/plain": [
       "ekk_Latn.parquet:   0%|          | 0.00/118k [00:00<?, ?B/s]"
      ]
     },
     "metadata": {},
     "output_type": "display_data"
    },
    {
     "data": {
      "application/vnd.jupyter.widget-view+json": {
       "model_id": "d4495b24c739449d83ce66930e8b9ac9",
       "version_major": 2,
       "version_minor": 0
      },
      "text/plain": [
       "fao_Latn.parquet:   0%|          | 0.00/119k [00:00<?, ?B/s]"
      ]
     },
     "metadata": {},
     "output_type": "display_data"
    },
    {
     "data": {
      "application/vnd.jupyter.widget-view+json": {
       "model_id": "db4e223c43ba4fcca56200577f076eaf",
       "version_major": 2,
       "version_minor": 0
      },
      "text/plain": [
       "fij_Latn.parquet:   0%|          | 0.00/111k [00:00<?, ?B/s]"
      ]
     },
     "metadata": {},
     "output_type": "display_data"
    },
    {
     "data": {
      "application/vnd.jupyter.widget-view+json": {
       "model_id": "90806609c5f448b199ff3247f23ce2bb",
       "version_major": 2,
       "version_minor": 0
      },
      "text/plain": [
       "epo_Latn.parquet:   0%|          | 0.00/114k [00:00<?, ?B/s]"
      ]
     },
     "metadata": {},
     "output_type": "display_data"
    },
    {
     "data": {
      "application/vnd.jupyter.widget-view+json": {
       "model_id": "c63793f024b349f88db1a99749792211",
       "version_major": 2,
       "version_minor": 0
      },
      "text/plain": [
       "fil_Latn.parquet:   0%|          | 0.00/125k [00:00<?, ?B/s]"
      ]
     },
     "metadata": {},
     "output_type": "display_data"
    },
    {
     "data": {
      "application/vnd.jupyter.widget-view+json": {
       "model_id": "e98ba33843a2478d8be0d0467839cf3a",
       "version_major": 2,
       "version_minor": 0
      },
      "text/plain": [
       "fin_Latn.parquet:   0%|          | 0.00/124k [00:00<?, ?B/s]"
      ]
     },
     "metadata": {},
     "output_type": "display_data"
    },
    {
     "data": {
      "application/vnd.jupyter.widget-view+json": {
       "model_id": "609cb7494d92403db0311a5ced5977ec",
       "version_major": 2,
       "version_minor": 0
      },
      "text/plain": [
       "fra_Latn.parquet:   0%|          | 0.00/129k [00:00<?, ?B/s]"
      ]
     },
     "metadata": {},
     "output_type": "display_data"
    },
    {
     "data": {
      "application/vnd.jupyter.widget-view+json": {
       "model_id": "2f2eb00e5ac7413884e20e3e5ba2a102",
       "version_major": 2,
       "version_minor": 0
      },
      "text/plain": [
       "fur_Latn.parquet:   0%|          | 0.00/122k [00:00<?, ?B/s]"
      ]
     },
     "metadata": {},
     "output_type": "display_data"
    },
    {
     "data": {
      "application/vnd.jupyter.widget-view+json": {
       "model_id": "368f5e3815984865a2f4b2650f578146",
       "version_major": 2,
       "version_minor": 0
      },
      "text/plain": [
       "fon_Latn.parquet:   0%|          | 0.00/125k [00:00<?, ?B/s]"
      ]
     },
     "metadata": {},
     "output_type": "display_data"
    },
    {
     "data": {
      "application/vnd.jupyter.widget-view+json": {
       "model_id": "8ffbff746fd84ab4ba049b9f99b86ffd",
       "version_major": 2,
       "version_minor": 0
      },
      "text/plain": [
       "gaz_Latn.parquet:   0%|          | 0.00/125k [00:00<?, ?B/s]"
      ]
     },
     "metadata": {},
     "output_type": "display_data"
    },
    {
     "data": {
      "application/vnd.jupyter.widget-view+json": {
       "model_id": "63427bed1ea54c578122e9a8814e67ec",
       "version_major": 2,
       "version_minor": 0
      },
      "text/plain": [
       "fuv_Latn.parquet:   0%|          | 0.00/112k [00:00<?, ?B/s]"
      ]
     },
     "metadata": {},
     "output_type": "display_data"
    },
    {
     "data": {
      "application/vnd.jupyter.widget-view+json": {
       "model_id": "26022f69cab843c3828f8c323f1188d0",
       "version_major": 2,
       "version_minor": 0
      },
      "text/plain": [
       "glg_Latn.parquet:   0%|          | 0.00/123k [00:00<?, ?B/s]"
      ]
     },
     "metadata": {},
     "output_type": "display_data"
    },
    {
     "data": {
      "application/vnd.jupyter.widget-view+json": {
       "model_id": "495e5cfd3fac4e04960089ea72b1ba16",
       "version_major": 2,
       "version_minor": 0
      },
      "text/plain": [
       "gug_Latn.parquet:   0%|          | 0.00/115k [00:00<?, ?B/s]"
      ]
     },
     "metadata": {},
     "output_type": "display_data"
    },
    {
     "data": {
      "application/vnd.jupyter.widget-view+json": {
       "model_id": "c14341c7aee74d0a85837894ca20adc0",
       "version_major": 2,
       "version_minor": 0
      },
      "text/plain": [
       "gom_Deva.parquet:   0%|          | 0.00/160k [00:00<?, ?B/s]"
      ]
     },
     "metadata": {},
     "output_type": "display_data"
    },
    {
     "data": {
      "application/vnd.jupyter.widget-view+json": {
       "model_id": "4ba4c02a728948c1a24f057843154314",
       "version_major": 2,
       "version_minor": 0
      },
      "text/plain": [
       "gle_Latn.parquet:   0%|          | 0.00/129k [00:00<?, ?B/s]"
      ]
     },
     "metadata": {},
     "output_type": "display_data"
    },
    {
     "data": {
      "application/vnd.jupyter.widget-view+json": {
       "model_id": "a644cd9894bd4e2e91e578e64a2c72dc",
       "version_major": 2,
       "version_minor": 0
      },
      "text/plain": [
       "gla_Latn.parquet:   0%|          | 0.00/128k [00:00<?, ?B/s]"
      ]
     },
     "metadata": {},
     "output_type": "display_data"
    },
    {
     "data": {
      "application/vnd.jupyter.widget-view+json": {
       "model_id": "ef6f428cdc4a4dd58ce0e7f4f9b21666",
       "version_major": 2,
       "version_minor": 0
      },
      "text/plain": [
       "guj_Gujr.parquet:   0%|          | 0.00/162k [00:00<?, ?B/s]"
      ]
     },
     "metadata": {},
     "output_type": "display_data"
    },
    {
     "data": {
      "application/vnd.jupyter.widget-view+json": {
       "model_id": "c4257502c1f246a2bcb1cd655277f70f",
       "version_major": 2,
       "version_minor": 0
      },
      "text/plain": [
       "hau_Latn.parquet:   0%|          | 0.00/117k [00:00<?, ?B/s]"
      ]
     },
     "metadata": {},
     "output_type": "display_data"
    },
    {
     "data": {
      "application/vnd.jupyter.widget-view+json": {
       "model_id": "76dc593040fb4470ae1f7782a8971acb",
       "version_major": 2,
       "version_minor": 0
      },
      "text/plain": [
       "hat_Latn.parquet:   0%|          | 0.00/108k [00:00<?, ?B/s]"
      ]
     },
     "metadata": {},
     "output_type": "display_data"
    },
    {
     "data": {
      "application/vnd.jupyter.widget-view+json": {
       "model_id": "a8ccc43d152d4a8d85602300047e86ca",
       "version_major": 2,
       "version_minor": 0
      },
      "text/plain": [
       "heb_Hebr.parquet:   0%|          | 0.00/125k [00:00<?, ?B/s]"
      ]
     },
     "metadata": {},
     "output_type": "display_data"
    },
    {
     "data": {
      "application/vnd.jupyter.widget-view+json": {
       "model_id": "f20f3ee7f61942de9a14cdc1e2b62247",
       "version_major": 2,
       "version_minor": 0
      },
      "text/plain": [
       "hin_Deva.parquet:   0%|          | 0.00/161k [00:00<?, ?B/s]"
      ]
     },
     "metadata": {},
     "output_type": "display_data"
    },
    {
     "data": {
      "application/vnd.jupyter.widget-view+json": {
       "model_id": "aa8feb058fd04c1eb9266d5d209ecd1e",
       "version_major": 2,
       "version_minor": 0
      },
      "text/plain": [
       "hrv_Latn.parquet:   0%|          | 0.00/119k [00:00<?, ?B/s]"
      ]
     },
     "metadata": {},
     "output_type": "display_data"
    },
    {
     "data": {
      "application/vnd.jupyter.widget-view+json": {
       "model_id": "d89698c4553c4b259676b4dc36784f20",
       "version_major": 2,
       "version_minor": 0
      },
      "text/plain": [
       "hne_Deva.parquet:   0%|          | 0.00/157k [00:00<?, ?B/s]"
      ]
     },
     "metadata": {},
     "output_type": "display_data"
    },
    {
     "data": {
      "application/vnd.jupyter.widget-view+json": {
       "model_id": "b7e68e2eb2674c7a833d6b53f0e0cf60",
       "version_major": 2,
       "version_minor": 0
      },
      "text/plain": [
       "hun_Latn.parquet:   0%|          | 0.00/128k [00:00<?, ?B/s]"
      ]
     },
     "metadata": {},
     "output_type": "display_data"
    },
    {
     "data": {
      "application/vnd.jupyter.widget-view+json": {
       "model_id": "df4d408f1a9b4489b09071713546ca72",
       "version_major": 2,
       "version_minor": 0
      },
      "text/plain": [
       "hye_Armn.parquet:   0%|          | 0.00/158k [00:00<?, ?B/s]"
      ]
     },
     "metadata": {},
     "output_type": "display_data"
    },
    {
     "data": {
      "application/vnd.jupyter.widget-view+json": {
       "model_id": "e77e942996124dcb996a793c2c36c4ce",
       "version_major": 2,
       "version_minor": 0
      },
      "text/plain": [
       "ilo_Latn.parquet:   0%|          | 0.00/123k [00:00<?, ?B/s]"
      ]
     },
     "metadata": {},
     "output_type": "display_data"
    },
    {
     "data": {
      "application/vnd.jupyter.widget-view+json": {
       "model_id": "e125073ad3f342b99a777e8936ca9c89",
       "version_major": 2,
       "version_minor": 0
      },
      "text/plain": [
       "ibo_Latn.parquet:   0%|          | 0.00/118k [00:00<?, ?B/s]"
      ]
     },
     "metadata": {},
     "output_type": "display_data"
    },
    {
     "data": {
      "application/vnd.jupyter.widget-view+json": {
       "model_id": "356362e1237a414e8fa81207494f76ca",
       "version_major": 2,
       "version_minor": 0
      },
      "text/plain": [
       "ind_Latn.parquet:   0%|          | 0.00/113k [00:00<?, ?B/s]"
      ]
     },
     "metadata": {},
     "output_type": "display_data"
    },
    {
     "data": {
      "application/vnd.jupyter.widget-view+json": {
       "model_id": "0714e71e82a547768742200b419f19fd",
       "version_major": 2,
       "version_minor": 0
      },
      "text/plain": [
       "isl_Latn.parquet:   0%|          | 0.00/121k [00:00<?, ?B/s]"
      ]
     },
     "metadata": {},
     "output_type": "display_data"
    },
    {
     "data": {
      "application/vnd.jupyter.widget-view+json": {
       "model_id": "5f00b638d281403baa51329e6d17d4ce",
       "version_major": 2,
       "version_minor": 0
      },
      "text/plain": [
       "kab_Latn.parquet:   0%|          | 0.00/117k [00:00<?, ?B/s]"
      ]
     },
     "metadata": {},
     "output_type": "display_data"
    },
    {
     "data": {
      "application/vnd.jupyter.widget-view+json": {
       "model_id": "85fc2636eb824930a2fe222fc11b30bf",
       "version_major": 2,
       "version_minor": 0
      },
      "text/plain": [
       "jpn_Jpan.parquet:   0%|          | 0.00/127k [00:00<?, ?B/s]"
      ]
     },
     "metadata": {},
     "output_type": "display_data"
    },
    {
     "data": {
      "application/vnd.jupyter.widget-view+json": {
       "model_id": "01a15f3d6c704717992662b29335da29",
       "version_major": 2,
       "version_minor": 0
      },
      "text/plain": [
       "jav_Latn.parquet:   0%|          | 0.00/112k [00:00<?, ?B/s]"
      ]
     },
     "metadata": {},
     "output_type": "display_data"
    },
    {
     "data": {
      "application/vnd.jupyter.widget-view+json": {
       "model_id": "77036c5a166a45f99b93ac9f6b3fb9cf",
       "version_major": 2,
       "version_minor": 0
      },
      "text/plain": [
       "kac_Latn.parquet:   0%|          | 0.00/120k [00:00<?, ?B/s]"
      ]
     },
     "metadata": {},
     "output_type": "display_data"
    },
    {
     "data": {
      "application/vnd.jupyter.widget-view+json": {
       "model_id": "8dcd7d1fc2d5424a8b65d02e89159777",
       "version_major": 2,
       "version_minor": 0
      },
      "text/plain": [
       "ita_Latn.parquet:   0%|          | 0.00/127k [00:00<?, ?B/s]"
      ]
     },
     "metadata": {},
     "output_type": "display_data"
    },
    {
     "data": {
      "application/vnd.jupyter.widget-view+json": {
       "model_id": "12509a5f34c4470faf74bacf426391f2",
       "version_major": 2,
       "version_minor": 0
      },
      "text/plain": [
       "kam_Latn.parquet:   0%|          | 0.00/116k [00:00<?, ?B/s]"
      ]
     },
     "metadata": {},
     "output_type": "display_data"
    },
    {
     "data": {
      "application/vnd.jupyter.widget-view+json": {
       "model_id": "8ad44c37ef55459289d0526e69ca73a4",
       "version_major": 2,
       "version_minor": 0
      },
      "text/plain": [
       "kan_Knda.parquet:   0%|          | 0.00/175k [00:00<?, ?B/s]"
      ]
     },
     "metadata": {},
     "output_type": "display_data"
    },
    {
     "data": {
      "application/vnd.jupyter.widget-view+json": {
       "model_id": "5e218355da534b169d242a42404a6f79",
       "version_major": 2,
       "version_minor": 0
      },
      "text/plain": [
       "kas_Deva.parquet:   0%|          | 0.00/163k [00:00<?, ?B/s]"
      ]
     },
     "metadata": {},
     "output_type": "display_data"
    },
    {
     "data": {
      "application/vnd.jupyter.widget-view+json": {
       "model_id": "db2309d688d74a57a200ea5e02583889",
       "version_major": 2,
       "version_minor": 0
      },
      "text/plain": [
       "kas_Arab.parquet:   0%|          | 0.00/150k [00:00<?, ?B/s]"
      ]
     },
     "metadata": {},
     "output_type": "display_data"
    },
    {
     "data": {
      "application/vnd.jupyter.widget-view+json": {
       "model_id": "837d0e1e319941959690db680c351d1c",
       "version_major": 2,
       "version_minor": 0
      },
      "text/plain": [
       "kat_Geor.parquet:   0%|          | 0.00/171k [00:00<?, ?B/s]"
      ]
     },
     "metadata": {},
     "output_type": "display_data"
    },
    {
     "data": {
      "application/vnd.jupyter.widget-view+json": {
       "model_id": "bdd3b8c311c545ff95426dbb30a2b7cc",
       "version_major": 2,
       "version_minor": 0
      },
      "text/plain": [
       "kaz_Cyrl.parquet:   0%|          | 0.00/148k [00:00<?, ?B/s]"
      ]
     },
     "metadata": {},
     "output_type": "display_data"
    },
    {
     "data": {
      "application/vnd.jupyter.widget-view+json": {
       "model_id": "d5fe405629bc48b98ea7fa428b4267c3",
       "version_major": 2,
       "version_minor": 0
      },
      "text/plain": [
       "kbp_Latn.parquet:   0%|          | 0.00/124k [00:00<?, ?B/s]"
      ]
     },
     "metadata": {},
     "output_type": "display_data"
    },
    {
     "data": {
      "application/vnd.jupyter.widget-view+json": {
       "model_id": "c28e45d5e666475590426b22b5141320",
       "version_major": 2,
       "version_minor": 0
      },
      "text/plain": [
       "kir_Cyrl.parquet:   0%|          | 0.00/150k [00:00<?, ?B/s]"
      ]
     },
     "metadata": {},
     "output_type": "display_data"
    },
    {
     "data": {
      "application/vnd.jupyter.widget-view+json": {
       "model_id": "f4cd9d197a284a8ba0b8ff0edaf0a597",
       "version_major": 2,
       "version_minor": 0
      },
      "text/plain": [
       "khk_Cyrl.parquet:   0%|          | 0.00/150k [00:00<?, ?B/s]"
      ]
     },
     "metadata": {},
     "output_type": "display_data"
    },
    {
     "data": {
      "application/vnd.jupyter.widget-view+json": {
       "model_id": "deeb4d8048784b409c96ff6a7c1173ea",
       "version_major": 2,
       "version_minor": 0
      },
      "text/plain": [
       "kea_Latn.parquet:   0%|          | 0.00/113k [00:00<?, ?B/s]"
      ]
     },
     "metadata": {},
     "output_type": "display_data"
    },
    {
     "data": {
      "application/vnd.jupyter.widget-view+json": {
       "model_id": "9b9638cce7304de8b8e958f750635c5e",
       "version_major": 2,
       "version_minor": 0
      },
      "text/plain": [
       "khm_Khmr.parquet:   0%|          | 0.00/205k [00:00<?, ?B/s]"
      ]
     },
     "metadata": {},
     "output_type": "display_data"
    },
    {
     "data": {
      "application/vnd.jupyter.widget-view+json": {
       "model_id": "c99ed5796db24b3a905a89fc1627bebe",
       "version_major": 2,
       "version_minor": 0
      },
      "text/plain": [
       "kmb_Latn.parquet:   0%|          | 0.00/116k [00:00<?, ?B/s]"
      ]
     },
     "metadata": {},
     "output_type": "display_data"
    },
    {
     "data": {
      "application/vnd.jupyter.widget-view+json": {
       "model_id": "a3e48b7e9d0d4ae4a472c2d626582be8",
       "version_major": 2,
       "version_minor": 0
      },
      "text/plain": [
       "kin_Latn.parquet:   0%|          | 0.00/120k [00:00<?, ?B/s]"
      ]
     },
     "metadata": {},
     "output_type": "display_data"
    },
    {
     "data": {
      "application/vnd.jupyter.widget-view+json": {
       "model_id": "9af8c6f11d1645c6a7ca19c720ec1cd0",
       "version_major": 2,
       "version_minor": 0
      },
      "text/plain": [
       "kik_Latn.parquet:   0%|          | 0.00/125k [00:00<?, ?B/s]"
      ]
     },
     "metadata": {},
     "output_type": "display_data"
    },
    {
     "data": {
      "application/vnd.jupyter.widget-view+json": {
       "model_id": "e2e0c73e4c3043399afb099ab14f0cf3",
       "version_major": 2,
       "version_minor": 0
      },
      "text/plain": [
       "knc_Arab.parquet:   0%|          | 0.00/131k [00:00<?, ?B/s]"
      ]
     },
     "metadata": {},
     "output_type": "display_data"
    },
    {
     "data": {
      "application/vnd.jupyter.widget-view+json": {
       "model_id": "4e20c51e31524c3aa105a1fb66cc8b2f",
       "version_major": 2,
       "version_minor": 0
      },
      "text/plain": [
       "kmr_Latn.parquet:   0%|          | 0.00/122k [00:00<?, ?B/s]"
      ]
     },
     "metadata": {},
     "output_type": "display_data"
    },
    {
     "data": {
      "application/vnd.jupyter.widget-view+json": {
       "model_id": "83767e5e6ff34b6cb5bdc123edf898b0",
       "version_major": 2,
       "version_minor": 0
      },
      "text/plain": [
       "lao_Laoo.parquet:   0%|          | 0.00/173k [00:00<?, ?B/s]"
      ]
     },
     "metadata": {},
     "output_type": "display_data"
    },
    {
     "data": {
      "application/vnd.jupyter.widget-view+json": {
       "model_id": "a452ae99487f4a01bd99c218a77e7f23",
       "version_major": 2,
       "version_minor": 0
      },
      "text/plain": [
       "kor_Hang.parquet:   0%|          | 0.00/126k [00:00<?, ?B/s]"
      ]
     },
     "metadata": {},
     "output_type": "display_data"
    },
    {
     "data": {
      "application/vnd.jupyter.widget-view+json": {
       "model_id": "0cba66ef0f6249e09c57b0a0e207f710",
       "version_major": 2,
       "version_minor": 0
      },
      "text/plain": [
       "ktu_Latn.parquet:   0%|          | 0.00/110k [00:00<?, ?B/s]"
      ]
     },
     "metadata": {},
     "output_type": "display_data"
    },
    {
     "data": {
      "application/vnd.jupyter.widget-view+json": {
       "model_id": "5e01292d6744486ebaec40d1b8426525",
       "version_major": 2,
       "version_minor": 0
      },
      "text/plain": [
       "knc_Latn.parquet:   0%|          | 0.00/119k [00:00<?, ?B/s]"
      ]
     },
     "metadata": {},
     "output_type": "display_data"
    },
    {
     "data": {
      "application/vnd.jupyter.widget-view+json": {
       "model_id": "f68ab15c8e3e46eb95c4b112ef708ddf",
       "version_major": 2,
       "version_minor": 0
      },
      "text/plain": [
       "lij_Latn.parquet:   0%|          | 0.00/126k [00:00<?, ?B/s]"
      ]
     },
     "metadata": {},
     "output_type": "display_data"
    },
    {
     "data": {
      "application/vnd.jupyter.widget-view+json": {
       "model_id": "0f6fdcd4f33a47a1abb0fdc23e05bdfc",
       "version_major": 2,
       "version_minor": 0
      },
      "text/plain": [
       "lim_Latn.parquet:   0%|          | 0.00/119k [00:00<?, ?B/s]"
      ]
     },
     "metadata": {},
     "output_type": "display_data"
    },
    {
     "data": {
      "application/vnd.jupyter.widget-view+json": {
       "model_id": "49fd77536ec14f35a6dd5672c338d403",
       "version_major": 2,
       "version_minor": 0
      },
      "text/plain": [
       "lin_Latn.parquet:   0%|          | 0.00/106k [00:00<?, ?B/s]"
      ]
     },
     "metadata": {},
     "output_type": "display_data"
    },
    {
     "data": {
      "application/vnd.jupyter.widget-view+json": {
       "model_id": "cec8936b9c7441a4855e04939dcd83b3",
       "version_major": 2,
       "version_minor": 0
      },
      "text/plain": [
       "lit_Latn.parquet:   0%|          | 0.00/123k [00:00<?, ?B/s]"
      ]
     },
     "metadata": {},
     "output_type": "display_data"
    },
    {
     "data": {
      "application/vnd.jupyter.widget-view+json": {
       "model_id": "f99b50154b8949329ff5aba5107d52f6",
       "version_major": 2,
       "version_minor": 0
      },
      "text/plain": [
       "lug_Latn.parquet:   0%|          | 0.00/118k [00:00<?, ?B/s]"
      ]
     },
     "metadata": {},
     "output_type": "display_data"
    },
    {
     "data": {
      "application/vnd.jupyter.widget-view+json": {
       "model_id": "caf77126c56a4df0a28f6e395e3544be",
       "version_major": 2,
       "version_minor": 0
      },
      "text/plain": [
       "ltg_Latn.parquet:   0%|          | 0.00/120k [00:00<?, ?B/s]"
      ]
     },
     "metadata": {},
     "output_type": "display_data"
    },
    {
     "data": {
      "application/vnd.jupyter.widget-view+json": {
       "model_id": "2138366d73134ace8c01c3b85607dbef",
       "version_major": 2,
       "version_minor": 0
      },
      "text/plain": [
       "lmo_Latn.parquet:   0%|          | 0.00/126k [00:00<?, ?B/s]"
      ]
     },
     "metadata": {},
     "output_type": "display_data"
    },
    {
     "data": {
      "application/vnd.jupyter.widget-view+json": {
       "model_id": "80200465e16d4cafb2f0632897bb4b0a",
       "version_major": 2,
       "version_minor": 0
      },
      "text/plain": [
       "ltz_Latn.parquet:   0%|          | 0.00/125k [00:00<?, ?B/s]"
      ]
     },
     "metadata": {},
     "output_type": "display_data"
    },
    {
     "data": {
      "application/vnd.jupyter.widget-view+json": {
       "model_id": "f698ab7858bf43e09c68c4daa9dc4f75",
       "version_major": 2,
       "version_minor": 0
      },
      "text/plain": [
       "lua_Latn.parquet:   0%|          | 0.00/113k [00:00<?, ?B/s]"
      ]
     },
     "metadata": {},
     "output_type": "display_data"
    },
    {
     "data": {
      "application/vnd.jupyter.widget-view+json": {
       "model_id": "4667a7ead1bc41cea1fe5c6b5bdfcf24",
       "version_major": 2,
       "version_minor": 0
      },
      "text/plain": [
       "lus_Latn.parquet:   0%|          | 0.00/116k [00:00<?, ?B/s]"
      ]
     },
     "metadata": {},
     "output_type": "display_data"
    },
    {
     "data": {
      "application/vnd.jupyter.widget-view+json": {
       "model_id": "c61fbdd421d541bbad9c56b751893c94",
       "version_major": 2,
       "version_minor": 0
      },
      "text/plain": [
       "luo_Latn.parquet:   0%|          | 0.00/114k [00:00<?, ?B/s]"
      ]
     },
     "metadata": {},
     "output_type": "display_data"
    },
    {
     "data": {
      "application/vnd.jupyter.widget-view+json": {
       "model_id": "43412d8882fc4fd081c9c2eb9bd07f9d",
       "version_major": 2,
       "version_minor": 0
      },
      "text/plain": [
       "mai_Deva.parquet:   0%|          | 0.00/158k [00:00<?, ?B/s]"
      ]
     },
     "metadata": {},
     "output_type": "display_data"
    },
    {
     "data": {
      "application/vnd.jupyter.widget-view+json": {
       "model_id": "907bbfef6a04485783df5ec33f2d443d",
       "version_major": 2,
       "version_minor": 0
      },
      "text/plain": [
       "lvs_Latn.parquet:   0%|          | 0.00/125k [00:00<?, ?B/s]"
      ]
     },
     "metadata": {},
     "output_type": "display_data"
    },
    {
     "data": {
      "application/vnd.jupyter.widget-view+json": {
       "model_id": "105f837d7d86429eae43982038d915cf",
       "version_major": 2,
       "version_minor": 0
      },
      "text/plain": [
       "mal_Mlym.parquet:   0%|          | 0.00/184k [00:00<?, ?B/s]"
      ]
     },
     "metadata": {},
     "output_type": "display_data"
    },
    {
     "data": {
      "application/vnd.jupyter.widget-view+json": {
       "model_id": "40db3966005e4e40a5971f54600ad922",
       "version_major": 2,
       "version_minor": 0
      },
      "text/plain": [
       "mag_Deva.parquet:   0%|          | 0.00/154k [00:00<?, ?B/s]"
      ]
     },
     "metadata": {},
     "output_type": "display_data"
    },
    {
     "data": {
      "application/vnd.jupyter.widget-view+json": {
       "model_id": "18fd0f1cd88d49e29fd092619cfb38a1",
       "version_major": 2,
       "version_minor": 0
      },
      "text/plain": [
       "mar_Deva.parquet:   0%|          | 0.00/168k [00:00<?, ?B/s]"
      ]
     },
     "metadata": {},
     "output_type": "display_data"
    },
    {
     "data": {
      "application/vnd.jupyter.widget-view+json": {
       "model_id": "2707c07e2d7c4be09d34ea93d1cafdb9",
       "version_major": 2,
       "version_minor": 0
      },
      "text/plain": [
       "mhr_Cyrl.parquet:   0%|          | 0.00/151k [00:00<?, ?B/s]"
      ]
     },
     "metadata": {},
     "output_type": "display_data"
    },
    {
     "data": {
      "application/vnd.jupyter.widget-view+json": {
       "model_id": "15797a0ddaf74c5eb7b63c9f5d1dc080",
       "version_major": 2,
       "version_minor": 0
      },
      "text/plain": [
       "min_Arab.parquet:   0%|          | 0.00/137k [00:00<?, ?B/s]"
      ]
     },
     "metadata": {},
     "output_type": "display_data"
    },
    {
     "data": {
      "application/vnd.jupyter.widget-view+json": {
       "model_id": "ea114721d77243be91ac18103574f1a1",
       "version_major": 2,
       "version_minor": 0
      },
      "text/plain": [
       "min_Latn.parquet:   0%|          | 0.00/113k [00:00<?, ?B/s]"
      ]
     },
     "metadata": {},
     "output_type": "display_data"
    },
    {
     "data": {
      "application/vnd.jupyter.widget-view+json": {
       "model_id": "109e0aa56f2443f9994bd54564b9c506",
       "version_major": 2,
       "version_minor": 0
      },
      "text/plain": [
       "mkd_Cyrl.parquet:   0%|          | 0.00/148k [00:00<?, ?B/s]"
      ]
     },
     "metadata": {},
     "output_type": "display_data"
    },
    {
     "data": {
      "application/vnd.jupyter.widget-view+json": {
       "model_id": "6b506725859e443ba20ce120effd42eb",
       "version_major": 2,
       "version_minor": 0
      },
      "text/plain": [
       "mlt_Latn.parquet:   0%|          | 0.00/125k [00:00<?, ?B/s]"
      ]
     },
     "metadata": {},
     "output_type": "display_data"
    },
    {
     "data": {
      "application/vnd.jupyter.widget-view+json": {
       "model_id": "f835489b08824bdbaf5fc95182c2c655",
       "version_major": 2,
       "version_minor": 0
      },
      "text/plain": [
       "mni_Beng.parquet:   0%|          | 0.00/163k [00:00<?, ?B/s]"
      ]
     },
     "metadata": {},
     "output_type": "display_data"
    },
    {
     "data": {
      "application/vnd.jupyter.widget-view+json": {
       "model_id": "c699505b912143e8a7bbdc709c3c581f",
       "version_major": 2,
       "version_minor": 0
      },
      "text/plain": [
       "myv_Cyrl.parquet:   0%|          | 0.00/151k [00:00<?, ?B/s]"
      ]
     },
     "metadata": {},
     "output_type": "display_data"
    },
    {
     "data": {
      "application/vnd.jupyter.widget-view+json": {
       "model_id": "a53267af2cb44e6a9068a57f8cd17f05",
       "version_major": 2,
       "version_minor": 0
      },
      "text/plain": [
       "mya_Mymr.parquet:   0%|          | 0.00/185k [00:00<?, ?B/s]"
      ]
     },
     "metadata": {},
     "output_type": "display_data"
    },
    {
     "data": {
      "application/vnd.jupyter.widget-view+json": {
       "model_id": "39a24e2c381c43c5a2f18069069e259b",
       "version_major": 2,
       "version_minor": 0
      },
      "text/plain": [
       "mri_Latn.parquet:   0%|          | 0.00/113k [00:00<?, ?B/s]"
      ]
     },
     "metadata": {},
     "output_type": "display_data"
    },
    {
     "data": {
      "application/vnd.jupyter.widget-view+json": {
       "model_id": "8cbd4626ea18487eb8827e9b65afc3ee",
       "version_major": 2,
       "version_minor": 0
      },
      "text/plain": [
       "mni_Mtei.parquet:   0%|          | 0.00/153k [00:00<?, ?B/s]"
      ]
     },
     "metadata": {},
     "output_type": "display_data"
    },
    {
     "data": {
      "application/vnd.jupyter.widget-view+json": {
       "model_id": "f875234ba57842f3a59f7b8acf6ffe1e",
       "version_major": 2,
       "version_minor": 0
      },
      "text/plain": [
       "mos_Latn.parquet:   0%|          | 0.00/115k [00:00<?, ?B/s]"
      ]
     },
     "metadata": {},
     "output_type": "display_data"
    },
    {
     "data": {
      "application/vnd.jupyter.widget-view+json": {
       "model_id": "237f44027e154215b325487ec8a5d130",
       "version_major": 2,
       "version_minor": 0
      },
      "text/plain": [
       "nld_Latn.parquet:   0%|          | 0.00/121k [00:00<?, ?B/s]"
      ]
     },
     "metadata": {},
     "output_type": "display_data"
    },
    {
     "data": {
      "application/vnd.jupyter.widget-view+json": {
       "model_id": "ac5d7ac0f5a84be88415bb7a18d28ec8",
       "version_major": 2,
       "version_minor": 0
      },
      "text/plain": [
       "nob_Latn.parquet:   0%|          | 0.00/112k [00:00<?, ?B/s]"
      ]
     },
     "metadata": {},
     "output_type": "display_data"
    },
    {
     "data": {
      "application/vnd.jupyter.widget-view+json": {
       "model_id": "e4cebdaf147e421a99392b33f8dc3ff6",
       "version_major": 2,
       "version_minor": 0
      },
      "text/plain": [
       "npi_Deva.parquet:   0%|          | 0.00/161k [00:00<?, ?B/s]"
      ]
     },
     "metadata": {},
     "output_type": "display_data"
    },
    {
     "data": {
      "application/vnd.jupyter.widget-view+json": {
       "model_id": "65fcf4fc6bc947f08fe0f073f6eb12da",
       "version_major": 2,
       "version_minor": 0
      },
      "text/plain": [
       "nqo_Nkoo.parquet:   0%|          | 0.00/161k [00:00<?, ?B/s]"
      ]
     },
     "metadata": {},
     "output_type": "display_data"
    },
    {
     "data": {
      "application/vnd.jupyter.widget-view+json": {
       "model_id": "cd8b15d5c67e4ee794e1d102772ecfc9",
       "version_major": 2,
       "version_minor": 0
      },
      "text/plain": [
       "nno_Latn.parquet:   0%|          | 0.00/116k [00:00<?, ?B/s]"
      ]
     },
     "metadata": {},
     "output_type": "display_data"
    },
    {
     "data": {
      "application/vnd.jupyter.widget-view+json": {
       "model_id": "e57ea5a12327456f8bcf15a6fded8e70",
       "version_major": 2,
       "version_minor": 0
      },
      "text/plain": [
       "nso_Latn.parquet:   0%|          | 0.00/119k [00:00<?, ?B/s]"
      ]
     },
     "metadata": {},
     "output_type": "display_data"
    },
    {
     "data": {
      "application/vnd.jupyter.widget-view+json": {
       "model_id": "952454f23aa74f57a2c2faed41c46f22",
       "version_major": 2,
       "version_minor": 0
      },
      "text/plain": [
       "nus_Latn.parquet:   0%|          | 0.00/124k [00:00<?, ?B/s]"
      ]
     },
     "metadata": {},
     "output_type": "display_data"
    },
    {
     "data": {
      "application/vnd.jupyter.widget-view+json": {
       "model_id": "3239f1297ca74d1fa543500f1b140b77",
       "version_major": 2,
       "version_minor": 0
      },
      "text/plain": [
       "oci_Latn.parquet:   0%|          | 0.00/125k [00:00<?, ?B/s]"
      ]
     },
     "metadata": {},
     "output_type": "display_data"
    },
    {
     "data": {
      "application/vnd.jupyter.widget-view+json": {
       "model_id": "09212f07df3d4fb28de9d313cb7b407c",
       "version_major": 2,
       "version_minor": 0
      },
      "text/plain": [
       "nya_Latn.parquet:   0%|          | 0.00/117k [00:00<?, ?B/s]"
      ]
     },
     "metadata": {},
     "output_type": "display_data"
    },
    {
     "data": {
      "application/vnd.jupyter.widget-view+json": {
       "model_id": "3f56a13763764d77b4d589a87e4a3603",
       "version_major": 2,
       "version_minor": 0
      },
      "text/plain": [
       "oci_Latn_aran1260.parquet:   0%|          | 0.00/127k [00:00<?, ?B/s]"
      ]
     },
     "metadata": {},
     "output_type": "display_data"
    },
    {
     "data": {
      "application/vnd.jupyter.widget-view+json": {
       "model_id": "17989323b5b84dc4bf56284ecd3a236d",
       "version_major": 2,
       "version_minor": 0
      },
      "text/plain": [
       "pag_Latn.parquet:   0%|          | 0.00/111k [00:00<?, ?B/s]"
      ]
     },
     "metadata": {},
     "output_type": "display_data"
    },
    {
     "data": {
      "application/vnd.jupyter.widget-view+json": {
       "model_id": "6633fa670c1248efa76a7322a0329980",
       "version_major": 2,
       "version_minor": 0
      },
      "text/plain": [
       "ory_Orya.parquet:   0%|          | 0.00/169k [00:00<?, ?B/s]"
      ]
     },
     "metadata": {},
     "output_type": "display_data"
    },
    {
     "data": {
      "application/vnd.jupyter.widget-view+json": {
       "model_id": "0fa7803def6f4f1398e9712c9f3c77f5",
       "version_major": 2,
       "version_minor": 0
      },
      "text/plain": [
       "pan_Guru.parquet:   0%|          | 0.00/165k [00:00<?, ?B/s]"
      ]
     },
     "metadata": {},
     "output_type": "display_data"
    },
    {
     "data": {
      "application/vnd.jupyter.widget-view+json": {
       "model_id": "28a73b092d194dd290d246c1649bb926",
       "version_major": 2,
       "version_minor": 0
      },
      "text/plain": [
       "pes_Arab.parquet:   0%|          | 0.00/140k [00:00<?, ?B/s]"
      ]
     },
     "metadata": {},
     "output_type": "display_data"
    },
    {
     "data": {
      "application/vnd.jupyter.widget-view+json": {
       "model_id": "e528728f4933411ebe032928cbea96c4",
       "version_major": 2,
       "version_minor": 0
      },
      "text/plain": [
       "pbt_Arab.parquet:   0%|          | 0.00/145k [00:00<?, ?B/s]"
      ]
     },
     "metadata": {},
     "output_type": "display_data"
    },
    {
     "data": {
      "application/vnd.jupyter.widget-view+json": {
       "model_id": "394abcb6123b4202ade6b2ed4a48c949",
       "version_major": 2,
       "version_minor": 0
      },
      "text/plain": [
       "pap_Latn.parquet:   0%|          | 0.00/116k [00:00<?, ?B/s]"
      ]
     },
     "metadata": {},
     "output_type": "display_data"
    },
    {
     "data": {
      "application/vnd.jupyter.widget-view+json": {
       "model_id": "a0e37245f6924a45adc366e9eeea1ebe",
       "version_major": 2,
       "version_minor": 0
      },
      "text/plain": [
       "plt_Latn.parquet:   0%|          | 0.00/120k [00:00<?, ?B/s]"
      ]
     },
     "metadata": {},
     "output_type": "display_data"
    },
    {
     "data": {
      "application/vnd.jupyter.widget-view+json": {
       "model_id": "ea597309c0cb4a69b2fa8c915586a788",
       "version_major": 2,
       "version_minor": 0
      },
      "text/plain": [
       "pol_Latn.parquet:   0%|          | 0.00/129k [00:00<?, ?B/s]"
      ]
     },
     "metadata": {},
     "output_type": "display_data"
    },
    {
     "data": {
      "application/vnd.jupyter.widget-view+json": {
       "model_id": "d0b9784de1f3436b90ae357587720162",
       "version_major": 2,
       "version_minor": 0
      },
      "text/plain": [
       "prs_Arab.parquet:   0%|          | 0.00/135k [00:00<?, ?B/s]"
      ]
     },
     "metadata": {},
     "output_type": "display_data"
    },
    {
     "data": {
      "application/vnd.jupyter.widget-view+json": {
       "model_id": "01cb8b774a2848d7ba0582d8cd2a9dac",
       "version_major": 2,
       "version_minor": 0
      },
      "text/plain": [
       "por_Latn.parquet:   0%|          | 0.00/122k [00:00<?, ?B/s]"
      ]
     },
     "metadata": {},
     "output_type": "display_data"
    },
    {
     "data": {
      "application/vnd.jupyter.widget-view+json": {
       "model_id": "839ace531f554c5e8fcc942db78d710f",
       "version_major": 2,
       "version_minor": 0
      },
      "text/plain": [
       "ron_Latn.parquet:   0%|          | 0.00/127k [00:00<?, ?B/s]"
      ]
     },
     "metadata": {},
     "output_type": "display_data"
    },
    {
     "data": {
      "application/vnd.jupyter.widget-view+json": {
       "model_id": "c2d4a1fce46744b5afd5b799e3535066",
       "version_major": 2,
       "version_minor": 0
      },
      "text/plain": [
       "run_Latn.parquet:   0%|          | 0.00/121k [00:00<?, ?B/s]"
      ]
     },
     "metadata": {},
     "output_type": "display_data"
    },
    {
     "data": {
      "application/vnd.jupyter.widget-view+json": {
       "model_id": "3e158f4e65da4ffd82ced2743bf35d44",
       "version_major": 2,
       "version_minor": 0
      },
      "text/plain": [
       "quy_Latn.parquet:   0%|          | 0.00/114k [00:00<?, ?B/s]"
      ]
     },
     "metadata": {},
     "output_type": "display_data"
    },
    {
     "data": {
      "application/vnd.jupyter.widget-view+json": {
       "model_id": "7ce8b8820ac9402d99e92f9c507f18bb",
       "version_major": 2,
       "version_minor": 0
      },
      "text/plain": [
       "rus_Cyrl.parquet:   0%|          | 0.00/163k [00:00<?, ?B/s]"
      ]
     },
     "metadata": {},
     "output_type": "display_data"
    },
    {
     "data": {
      "application/vnd.jupyter.widget-view+json": {
       "model_id": "91d57216661f4039944dc5287a499491",
       "version_major": 2,
       "version_minor": 0
      },
      "text/plain": [
       "sag_Latn.parquet:   0%|          | 0.00/107k [00:00<?, ?B/s]"
      ]
     },
     "metadata": {},
     "output_type": "display_data"
    },
    {
     "data": {
      "application/vnd.jupyter.widget-view+json": {
       "model_id": "1cbd87ea800f454bbcc86f707e621248",
       "version_major": 2,
       "version_minor": 0
      },
      "text/plain": [
       "sat_Olck.parquet:   0%|          | 0.00/164k [00:00<?, ?B/s]"
      ]
     },
     "metadata": {},
     "output_type": "display_data"
    },
    {
     "data": {
      "application/vnd.jupyter.widget-view+json": {
       "model_id": "140de97ad7f9493cbd35a8567ee1d60f",
       "version_major": 2,
       "version_minor": 0
      },
      "text/plain": [
       "scn_Latn.parquet:   0%|          | 0.00/122k [00:00<?, ?B/s]"
      ]
     },
     "metadata": {},
     "output_type": "display_data"
    },
    {
     "data": {
      "application/vnd.jupyter.widget-view+json": {
       "model_id": "103540df11a949d6b747f596fbeb5289",
       "version_major": 2,
       "version_minor": 0
      },
      "text/plain": [
       "san_Deva.parquet:   0%|          | 0.00/165k [00:00<?, ?B/s]"
      ]
     },
     "metadata": {},
     "output_type": "display_data"
    },
    {
     "data": {
      "application/vnd.jupyter.widget-view+json": {
       "model_id": "9d6e232ad953479eaf6489d49593f7d8",
       "version_major": 2,
       "version_minor": 0
      },
      "text/plain": [
       "shn_Mymr.parquet:   0%|          | 0.00/213k [00:00<?, ?B/s]"
      ]
     },
     "metadata": {},
     "output_type": "display_data"
    },
    {
     "data": {
      "application/vnd.jupyter.widget-view+json": {
       "model_id": "678bc11baed243f1b8c4a10d20072004",
       "version_major": 2,
       "version_minor": 0
      },
      "text/plain": [
       "smo_Latn.parquet:   0%|          | 0.00/117k [00:00<?, ?B/s]"
      ]
     },
     "metadata": {},
     "output_type": "display_data"
    },
    {
     "data": {
      "application/vnd.jupyter.widget-view+json": {
       "model_id": "7e7dbe40e98f4a00948c85dd8d39121d",
       "version_major": 2,
       "version_minor": 0
      },
      "text/plain": [
       "slk_Latn.parquet:   0%|          | 0.00/128k [00:00<?, ?B/s]"
      ]
     },
     "metadata": {},
     "output_type": "display_data"
    },
    {
     "data": {
      "application/vnd.jupyter.widget-view+json": {
       "model_id": "95177598431149a8b97ae7aa0f84f3b2",
       "version_major": 2,
       "version_minor": 0
      },
      "text/plain": [
       "sna_Latn.parquet:   0%|          | 0.00/119k [00:00<?, ?B/s]"
      ]
     },
     "metadata": {},
     "output_type": "display_data"
    },
    {
     "data": {
      "application/vnd.jupyter.widget-view+json": {
       "model_id": "05ceeb625b504ca1bd52dce640628ec3",
       "version_major": 2,
       "version_minor": 0
      },
      "text/plain": [
       "slv_Latn.parquet:   0%|          | 0.00/119k [00:00<?, ?B/s]"
      ]
     },
     "metadata": {},
     "output_type": "display_data"
    },
    {
     "data": {
      "application/vnd.jupyter.widget-view+json": {
       "model_id": "896aafebfd2c488fb49f178977372783",
       "version_major": 2,
       "version_minor": 0
      },
      "text/plain": [
       "sin_Sinh.parquet:   0%|          | 0.00/174k [00:00<?, ?B/s]"
      ]
     },
     "metadata": {},
     "output_type": "display_data"
    },
    {
     "data": {
      "application/vnd.jupyter.widget-view+json": {
       "model_id": "5b7e03fa50c44469b9383952862f7d42",
       "version_major": 2,
       "version_minor": 0
      },
      "text/plain": [
       "snd_Arab.parquet:   0%|          | 0.00/134k [00:00<?, ?B/s]"
      ]
     },
     "metadata": {},
     "output_type": "display_data"
    },
    {
     "data": {
      "application/vnd.jupyter.widget-view+json": {
       "model_id": "2e373612ab4e438281a2dedea2b1ca6a",
       "version_major": 2,
       "version_minor": 0
      },
      "text/plain": [
       "snd_Deva.parquet:   0%|          | 0.00/168k [00:00<?, ?B/s]"
      ]
     },
     "metadata": {},
     "output_type": "display_data"
    },
    {
     "data": {
      "application/vnd.jupyter.widget-view+json": {
       "model_id": "da112448a1c54de4afa244a8c8b6d3d0",
       "version_major": 2,
       "version_minor": 0
      },
      "text/plain": [
       "srd_Latn.parquet:   0%|          | 0.00/123k [00:00<?, ?B/s]"
      ]
     },
     "metadata": {},
     "output_type": "display_data"
    },
    {
     "data": {
      "application/vnd.jupyter.widget-view+json": {
       "model_id": "020f871b404a4a3ebf45e2bce37686af",
       "version_major": 2,
       "version_minor": 0
      },
      "text/plain": [
       "spa_Latn.parquet:   0%|          | 0.00/129k [00:00<?, ?B/s]"
      ]
     },
     "metadata": {},
     "output_type": "display_data"
    },
    {
     "data": {
      "application/vnd.jupyter.widget-view+json": {
       "model_id": "c36cd0ac98e942e6aeac1c32f48d0739",
       "version_major": 2,
       "version_minor": 0
      },
      "text/plain": [
       "sot_Latn.parquet:   0%|          | 0.00/121k [00:00<?, ?B/s]"
      ]
     },
     "metadata": {},
     "output_type": "display_data"
    },
    {
     "data": {
      "application/vnd.jupyter.widget-view+json": {
       "model_id": "5e35ae9bc3d043069886a689c928c134",
       "version_major": 2,
       "version_minor": 0
      },
      "text/plain": [
       "som_Latn.parquet:   0%|          | 0.00/126k [00:00<?, ?B/s]"
      ]
     },
     "metadata": {},
     "output_type": "display_data"
    },
    {
     "data": {
      "application/vnd.jupyter.widget-view+json": {
       "model_id": "053a7cec50ab4da196a392927bb6311c",
       "version_major": 2,
       "version_minor": 0
      },
      "text/plain": [
       "srp_Cyrl.parquet:   0%|          | 0.00/148k [00:00<?, ?B/s]"
      ]
     },
     "metadata": {},
     "output_type": "display_data"
    },
    {
     "data": {
      "application/vnd.jupyter.widget-view+json": {
       "model_id": "e283dad900c64d0ca28baca9f0e49dd3",
       "version_major": 2,
       "version_minor": 0
      },
      "text/plain": [
       "ssw_Latn.parquet:   0%|          | 0.00/121k [00:00<?, ?B/s]"
      ]
     },
     "metadata": {},
     "output_type": "display_data"
    },
    {
     "data": {
      "application/vnd.jupyter.widget-view+json": {
       "model_id": "02d4c8e2ffdb4593b7255bec19db9225",
       "version_major": 2,
       "version_minor": 0
      },
      "text/plain": [
       "sun_Latn.parquet:   0%|          | 0.00/116k [00:00<?, ?B/s]"
      ]
     },
     "metadata": {},
     "output_type": "display_data"
    },
    {
     "data": {
      "application/vnd.jupyter.widget-view+json": {
       "model_id": "30f2d2c2b1f84a78a83d13256614a367",
       "version_major": 2,
       "version_minor": 0
      },
      "text/plain": [
       "szl_Latn.parquet:   0%|          | 0.00/126k [00:00<?, ?B/s]"
      ]
     },
     "metadata": {},
     "output_type": "display_data"
    },
    {
     "data": {
      "application/vnd.jupyter.widget-view+json": {
       "model_id": "d03a7df467684f53873aab18c13420c6",
       "version_major": 2,
       "version_minor": 0
      },
      "text/plain": [
       "swh_Latn.parquet:   0%|          | 0.00/113k [00:00<?, ?B/s]"
      ]
     },
     "metadata": {},
     "output_type": "display_data"
    },
    {
     "data": {
      "application/vnd.jupyter.widget-view+json": {
       "model_id": "d1006119febb49438716b5ed22a653af",
       "version_major": 2,
       "version_minor": 0
      },
      "text/plain": [
       "swe_Latn.parquet:   0%|          | 0.00/117k [00:00<?, ?B/s]"
      ]
     },
     "metadata": {},
     "output_type": "display_data"
    },
    {
     "data": {
      "application/vnd.jupyter.widget-view+json": {
       "model_id": "26736588e39f4920b6a8bb8c6748bf9b",
       "version_major": 2,
       "version_minor": 0
      },
      "text/plain": [
       "tam_Taml.parquet:   0%|          | 0.00/178k [00:00<?, ?B/s]"
      ]
     },
     "metadata": {},
     "output_type": "display_data"
    },
    {
     "data": {
      "application/vnd.jupyter.widget-view+json": {
       "model_id": "526ba0217f634382a58e53a03a522a80",
       "version_major": 2,
       "version_minor": 0
      },
      "text/plain": [
       "taq_Latn.parquet:   0%|          | 0.00/116k [00:00<?, ?B/s]"
      ]
     },
     "metadata": {},
     "output_type": "display_data"
    },
    {
     "data": {
      "application/vnd.jupyter.widget-view+json": {
       "model_id": "77a900deb4424789a537f108d9cee087",
       "version_major": 2,
       "version_minor": 0
      },
      "text/plain": [
       "taq_Tfng.parquet:   0%|          | 0.00/152k [00:00<?, ?B/s]"
      ]
     },
     "metadata": {},
     "output_type": "display_data"
    },
    {
     "data": {
      "application/vnd.jupyter.widget-view+json": {
       "model_id": "ccdbdd8b752c4ee1af7f775b483d92a5",
       "version_major": 2,
       "version_minor": 0
      },
      "text/plain": [
       "tat_Cyrl.parquet:   0%|          | 0.00/149k [00:00<?, ?B/s]"
      ]
     },
     "metadata": {},
     "output_type": "display_data"
    },
    {
     "data": {
      "application/vnd.jupyter.widget-view+json": {
       "model_id": "0756d93f48f34a8fbb804fe089454743",
       "version_major": 2,
       "version_minor": 0
      },
      "text/plain": [
       "tel_Telu.parquet:   0%|          | 0.00/171k [00:00<?, ?B/s]"
      ]
     },
     "metadata": {},
     "output_type": "display_data"
    },
    {
     "data": {
      "application/vnd.jupyter.widget-view+json": {
       "model_id": "4ae10382a6424af0aa18d098092c8087",
       "version_major": 2,
       "version_minor": 0
      },
      "text/plain": [
       "tha_Thai.parquet:   0%|          | 0.00/173k [00:00<?, ?B/s]"
      ]
     },
     "metadata": {},
     "output_type": "display_data"
    },
    {
     "data": {
      "application/vnd.jupyter.widget-view+json": {
       "model_id": "c373a995737b4f8a89350357ea4a7007",
       "version_major": 2,
       "version_minor": 0
      },
      "text/plain": [
       "tgk_Cyrl.parquet:   0%|          | 0.00/157k [00:00<?, ?B/s]"
      ]
     },
     "metadata": {},
     "output_type": "display_data"
    },
    {
     "data": {
      "application/vnd.jupyter.widget-view+json": {
       "model_id": "eaf5a832fdf94515ab68bafc342d7128",
       "version_major": 2,
       "version_minor": 0
      },
      "text/plain": [
       "tpi_Latn.parquet:   0%|          | 0.00/113k [00:00<?, ?B/s]"
      ]
     },
     "metadata": {},
     "output_type": "display_data"
    },
    {
     "data": {
      "application/vnd.jupyter.widget-view+json": {
       "model_id": "67c2e6c1b6fe4d5a95c4bf55466ddeac",
       "version_major": 2,
       "version_minor": 0
      },
      "text/plain": [
       "tir_Ethi.parquet:   0%|          | 0.00/149k [00:00<?, ?B/s]"
      ]
     },
     "metadata": {},
     "output_type": "display_data"
    },
    {
     "data": {
      "application/vnd.jupyter.widget-view+json": {
       "model_id": "e9c338c801294f68bdd48596882d5955",
       "version_major": 2,
       "version_minor": 0
      },
      "text/plain": [
       "tsn_Latn.parquet:   0%|          | 0.00/126k [00:00<?, ?B/s]"
      ]
     },
     "metadata": {},
     "output_type": "display_data"
    },
    {
     "data": {
      "application/vnd.jupyter.widget-view+json": {
       "model_id": "010e7ead1a8f4b38aa80979deb226eee",
       "version_major": 2,
       "version_minor": 0
      },
      "text/plain": [
       "tso_Latn.parquet:   0%|          | 0.00/120k [00:00<?, ?B/s]"
      ]
     },
     "metadata": {},
     "output_type": "display_data"
    },
    {
     "data": {
      "application/vnd.jupyter.widget-view+json": {
       "model_id": "e9bdcaf2edc94c389acdf43d08c12874",
       "version_major": 2,
       "version_minor": 0
      },
      "text/plain": [
       "tuk_Latn.parquet:   0%|          | 0.00/123k [00:00<?, ?B/s]"
      ]
     },
     "metadata": {},
     "output_type": "display_data"
    },
    {
     "data": {
      "application/vnd.jupyter.widget-view+json": {
       "model_id": "83e41ee91c1c4b26b1c68b664fb88fd1",
       "version_major": 2,
       "version_minor": 0
      },
      "text/plain": [
       "tur_Latn.parquet:   0%|          | 0.00/122k [00:00<?, ?B/s]"
      ]
     },
     "metadata": {},
     "output_type": "display_data"
    },
    {
     "data": {
      "application/vnd.jupyter.widget-view+json": {
       "model_id": "fab1d6d849f843b88d245489a7b02cf1",
       "version_major": 2,
       "version_minor": 0
      },
      "text/plain": [
       "twi_Latn_akua1239.parquet:   0%|          | 0.00/111k [00:00<?, ?B/s]"
      ]
     },
     "metadata": {},
     "output_type": "display_data"
    },
    {
     "data": {
      "application/vnd.jupyter.widget-view+json": {
       "model_id": "11a5648957644a6d86d870c10c739127",
       "version_major": 2,
       "version_minor": 0
      },
      "text/plain": [
       "tum_Latn.parquet:   0%|          | 0.00/125k [00:00<?, ?B/s]"
      ]
     },
     "metadata": {},
     "output_type": "display_data"
    },
    {
     "data": {
      "application/vnd.jupyter.widget-view+json": {
       "model_id": "85f7a0edf94140ac8064c0d39f51a726",
       "version_major": 2,
       "version_minor": 0
      },
      "text/plain": [
       "twi_Latn_asan1239.parquet:   0%|          | 0.00/114k [00:00<?, ?B/s]"
      ]
     },
     "metadata": {},
     "output_type": "display_data"
    },
    {
     "data": {
      "application/vnd.jupyter.widget-view+json": {
       "model_id": "7023bb4813b244a9a635c815c502698b",
       "version_major": 2,
       "version_minor": 0
      },
      "text/plain": [
       "umb_Latn.parquet:   0%|          | 0.00/110k [00:00<?, ?B/s]"
      ]
     },
     "metadata": {},
     "output_type": "display_data"
    },
    {
     "data": {
      "application/vnd.jupyter.widget-view+json": {
       "model_id": "d8eead0bd9e348f89f45af5e0114cbf9",
       "version_major": 2,
       "version_minor": 0
      },
      "text/plain": [
       "uig_Arab.parquet:   0%|          | 0.00/150k [00:00<?, ?B/s]"
      ]
     },
     "metadata": {},
     "output_type": "display_data"
    },
    {
     "data": {
      "application/vnd.jupyter.widget-view+json": {
       "model_id": "b7b90011875c4b5fbb9d3a8e4ef1645c",
       "version_major": 2,
       "version_minor": 0
      },
      "text/plain": [
       "tyv_Cyrl.parquet:   0%|          | 0.00/160k [00:00<?, ?B/s]"
      ]
     },
     "metadata": {},
     "output_type": "display_data"
    },
    {
     "data": {
      "application/vnd.jupyter.widget-view+json": {
       "model_id": "fc32a5b22bca4799a08331e821f77840",
       "version_major": 2,
       "version_minor": 0
      },
      "text/plain": [
       "ukr_Cyrl.parquet:   0%|          | 0.00/157k [00:00<?, ?B/s]"
      ]
     },
     "metadata": {},
     "output_type": "display_data"
    },
    {
     "data": {
      "application/vnd.jupyter.widget-view+json": {
       "model_id": "7f50c7e16ae64dc081580a4b2d55d52e",
       "version_major": 2,
       "version_minor": 0
      },
      "text/plain": [
       "wol_Latn.parquet:   0%|          | 0.00/117k [00:00<?, ?B/s]"
      ]
     },
     "metadata": {},
     "output_type": "display_data"
    },
    {
     "data": {
      "application/vnd.jupyter.widget-view+json": {
       "model_id": "60a99fb1c8c84afa8f4de82859bfc6f4",
       "version_major": 2,
       "version_minor": 0
      },
      "text/plain": [
       "vie_Latn.parquet:   0%|          | 0.00/128k [00:00<?, ?B/s]"
      ]
     },
     "metadata": {},
     "output_type": "display_data"
    },
    {
     "data": {
      "application/vnd.jupyter.widget-view+json": {
       "model_id": "9d065e273d904644b1bf7c4649a348cd",
       "version_major": 2,
       "version_minor": 0
      },
      "text/plain": [
       "war_Latn.parquet:   0%|          | 0.00/122k [00:00<?, ?B/s]"
      ]
     },
     "metadata": {},
     "output_type": "display_data"
    },
    {
     "data": {
      "application/vnd.jupyter.widget-view+json": {
       "model_id": "deebf594bc014b55b6109f3f25c4a48e",
       "version_major": 2,
       "version_minor": 0
      },
      "text/plain": [
       "urd_Arab.parquet:   0%|          | 0.00/146k [00:00<?, ?B/s]"
      ]
     },
     "metadata": {},
     "output_type": "display_data"
    },
    {
     "data": {
      "application/vnd.jupyter.widget-view+json": {
       "model_id": "0d37a267571c4fc9950e24f75507acb7",
       "version_major": 2,
       "version_minor": 0
      },
      "text/plain": [
       "uzn_Latn.parquet:   0%|          | 0.00/121k [00:00<?, ?B/s]"
      ]
     },
     "metadata": {},
     "output_type": "display_data"
    },
    {
     "data": {
      "application/vnd.jupyter.widget-view+json": {
       "model_id": "7f6a1d82daeb43cab1e7d511229bf1fb",
       "version_major": 2,
       "version_minor": 0
      },
      "text/plain": [
       "vec_Latn.parquet:   0%|          | 0.00/118k [00:00<?, ?B/s]"
      ]
     },
     "metadata": {},
     "output_type": "display_data"
    },
    {
     "data": {
      "application/vnd.jupyter.widget-view+json": {
       "model_id": "98651d7fc12c460f92c3deb98f162dd5",
       "version_major": 2,
       "version_minor": 0
      },
      "text/plain": [
       "vmw_Latn.parquet:   0%|          | 0.00/121k [00:00<?, ?B/s]"
      ]
     },
     "metadata": {},
     "output_type": "display_data"
    },
    {
     "data": {
      "application/vnd.jupyter.widget-view+json": {
       "model_id": "f322607d70414efe993d4eab474ecc98",
       "version_major": 2,
       "version_minor": 0
      },
      "text/plain": [
       "xho_Latn.parquet:   0%|          | 0.00/121k [00:00<?, ?B/s]"
      ]
     },
     "metadata": {},
     "output_type": "display_data"
    },
    {
     "data": {
      "application/vnd.jupyter.widget-view+json": {
       "model_id": "ac20f2659f8c4f4bbc9a81688f9e914e",
       "version_major": 2,
       "version_minor": 0
      },
      "text/plain": [
       "yue_Hant.parquet:   0%|          | 0.00/112k [00:00<?, ?B/s]"
      ]
     },
     "metadata": {},
     "output_type": "display_data"
    },
    {
     "data": {
      "application/vnd.jupyter.widget-view+json": {
       "model_id": "7743c68551ef4059a1632ffe20aa7aae",
       "version_major": 2,
       "version_minor": 0
      },
      "text/plain": [
       "wuu_Hans.parquet:   0%|          | 0.00/114k [00:00<?, ?B/s]"
      ]
     },
     "metadata": {},
     "output_type": "display_data"
    },
    {
     "data": {
      "application/vnd.jupyter.widget-view+json": {
       "model_id": "61c73508616a48298e074538e719f2f2",
       "version_major": 2,
       "version_minor": 0
      },
      "text/plain": [
       "yor_Latn.parquet:   0%|          | 0.00/132k [00:00<?, ?B/s]"
      ]
     },
     "metadata": {},
     "output_type": "display_data"
    },
    {
     "data": {
      "application/vnd.jupyter.widget-view+json": {
       "model_id": "5b8dc13d703e4b729da81049767dadf7",
       "version_major": 2,
       "version_minor": 0
      },
      "text/plain": [
       "ydd_Hebr.parquet:   0%|          | 0.00/148k [00:00<?, ?B/s]"
      ]
     },
     "metadata": {},
     "output_type": "display_data"
    },
    {
     "data": {
      "application/vnd.jupyter.widget-view+json": {
       "model_id": "fc886664d94f4c0f832f7cc68d7c2758",
       "version_major": 2,
       "version_minor": 0
      },
      "text/plain": [
       "zgh_Tfng.parquet:   0%|          | 0.00/154k [00:00<?, ?B/s]"
      ]
     },
     "metadata": {},
     "output_type": "display_data"
    },
    {
     "data": {
      "application/vnd.jupyter.widget-view+json": {
       "model_id": "06f4f2582de74f39894fed9323411ade",
       "version_major": 2,
       "version_minor": 0
      },
      "text/plain": [
       "zsm_Latn.parquet:   0%|          | 0.00/115k [00:00<?, ?B/s]"
      ]
     },
     "metadata": {},
     "output_type": "display_data"
    },
    {
     "data": {
      "application/vnd.jupyter.widget-view+json": {
       "model_id": "3335f0bcdea74dcb9cbf27de92ae3cf8",
       "version_major": 2,
       "version_minor": 0
      },
      "text/plain": [
       "zul_Latn.parquet:   0%|          | 0.00/121k [00:00<?, ?B/s]"
      ]
     },
     "metadata": {},
     "output_type": "display_data"
    },
    {
     "data": {
      "application/vnd.jupyter.widget-view+json": {
       "model_id": "1008fcce8eef49be954d3f59b724b32f",
       "version_major": 2,
       "version_minor": 0
      },
      "text/plain": [
       "Downloading data:   0%|          | 0/213 [00:00<?, ?files/s]"
      ]
     },
     "metadata": {},
     "output_type": "display_data"
    },
    {
     "data": {
      "application/vnd.jupyter.widget-view+json": {
       "model_id": "2b855b529d9e42569c5e437a51355bb0",
       "version_major": 2,
       "version_minor": 0
      },
      "text/plain": [
       "arg_Latn.parquet:   0%|          | 0.00/132k [00:00<?, ?B/s]"
      ]
     },
     "metadata": {},
     "output_type": "display_data"
    },
    {
     "data": {
      "application/vnd.jupyter.widget-view+json": {
       "model_id": "55b7dc91ef6341479d03569a3f3d971f",
       "version_major": 2,
       "version_minor": 0
      },
      "text/plain": [
       "aeb_Arab.parquet:   0%|          | 0.00/139k [00:00<?, ?B/s]"
      ]
     },
     "metadata": {},
     "output_type": "display_data"
    },
    {
     "data": {
      "application/vnd.jupyter.widget-view+json": {
       "model_id": "60d4a9e7b9c747a98974f21e690b0765",
       "version_major": 2,
       "version_minor": 0
      },
      "text/plain": [
       "arz_Arab.parquet:   0%|          | 0.00/139k [00:00<?, ?B/s]"
      ]
     },
     "metadata": {},
     "output_type": "display_data"
    },
    {
     "data": {
      "application/vnd.jupyter.widget-view+json": {
       "model_id": "6299b328089f4575911f92fc14a8f09a",
       "version_major": 2,
       "version_minor": 0
      },
      "text/plain": [
       "apc_Arab_nort3139.parquet:   0%|          | 0.00/135k [00:00<?, ?B/s]"
      ]
     },
     "metadata": {},
     "output_type": "display_data"
    },
    {
     "data": {
      "application/vnd.jupyter.widget-view+json": {
       "model_id": "8c959667921b46f08fae5dbf7d1f4c66",
       "version_major": 2,
       "version_minor": 0
      },
      "text/plain": [
       "als_Latn.parquet:   0%|          | 0.00/130k [00:00<?, ?B/s]"
      ]
     },
     "metadata": {},
     "output_type": "display_data"
    },
    {
     "data": {
      "application/vnd.jupyter.widget-view+json": {
       "model_id": "14d8a32d72874d3c92a4917c500a1679",
       "version_major": 2,
       "version_minor": 0
      },
      "text/plain": [
       "ars_Arab.parquet:   0%|          | 0.00/144k [00:00<?, ?B/s]"
      ]
     },
     "metadata": {},
     "output_type": "display_data"
    },
    {
     "data": {
      "application/vnd.jupyter.widget-view+json": {
       "model_id": "c73a2550cfb64083b93db09085606f01",
       "version_major": 2,
       "version_minor": 0
      },
      "text/plain": [
       "afr_Latn.parquet:   0%|          | 0.00/123k [00:00<?, ?B/s]"
      ]
     },
     "metadata": {},
     "output_type": "display_data"
    },
    {
     "data": {
      "application/vnd.jupyter.widget-view+json": {
       "model_id": "04a1bfa3d904432dafbb8d9d27889403",
       "version_major": 2,
       "version_minor": 0
      },
      "text/plain": [
       "acq_Arab.parquet:   0%|          | 0.00/143k [00:00<?, ?B/s]"
      ]
     },
     "metadata": {},
     "output_type": "display_data"
    },
    {
     "data": {
      "application/vnd.jupyter.widget-view+json": {
       "model_id": "daaee92214a84c7d9c54c468104cfd81",
       "version_major": 2,
       "version_minor": 0
      },
      "text/plain": [
       "acm_Arab.parquet:   0%|          | 0.00/140k [00:00<?, ?B/s]"
      ]
     },
     "metadata": {},
     "output_type": "display_data"
    },
    {
     "data": {
      "application/vnd.jupyter.widget-view+json": {
       "model_id": "bed3ce462a804d4aba1cc84aef80552f",
       "version_major": 2,
       "version_minor": 0
      },
      "text/plain": [
       "ace_Arab.parquet:   0%|          | 0.00/130k [00:00<?, ?B/s]"
      ]
     },
     "metadata": {},
     "output_type": "display_data"
    },
    {
     "data": {
      "application/vnd.jupyter.widget-view+json": {
       "model_id": "46f5feab3ca4438ba16ddc0b1a32e152",
       "version_major": 2,
       "version_minor": 0
      },
      "text/plain": [
       "apc_Arab_sout3123.parquet:   0%|          | 0.00/135k [00:00<?, ?B/s]"
      ]
     },
     "metadata": {},
     "output_type": "display_data"
    },
    {
     "data": {
      "application/vnd.jupyter.widget-view+json": {
       "model_id": "82fd84a3542746128a4efd05dddb58b3",
       "version_major": 2,
       "version_minor": 0
      },
      "text/plain": [
       "arb_Latn.parquet:   0%|          | 0.00/136k [00:00<?, ?B/s]"
      ]
     },
     "metadata": {},
     "output_type": "display_data"
    },
    {
     "data": {
      "application/vnd.jupyter.widget-view+json": {
       "model_id": "749851cb83da4c358137f81318f2d8b7",
       "version_major": 2,
       "version_minor": 0
      },
      "text/plain": [
       "arb_Arab.parquet:   0%|          | 0.00/143k [00:00<?, ?B/s]"
      ]
     },
     "metadata": {},
     "output_type": "display_data"
    },
    {
     "data": {
      "application/vnd.jupyter.widget-view+json": {
       "model_id": "47a0e7dcd6824f0fa86fce7be0b56c42",
       "version_major": 2,
       "version_minor": 0
      },
      "text/plain": [
       "amh_Ethi.parquet:   0%|          | 0.00/149k [00:00<?, ?B/s]"
      ]
     },
     "metadata": {},
     "output_type": "display_data"
    },
    {
     "data": {
      "application/vnd.jupyter.widget-view+json": {
       "model_id": "74450f6a2fb7478c800b3c6f6fad0118",
       "version_major": 2,
       "version_minor": 0
      },
      "text/plain": [
       "ace_Latn.parquet:   0%|          | 0.00/118k [00:00<?, ?B/s]"
      ]
     },
     "metadata": {},
     "output_type": "display_data"
    },
    {
     "data": {
      "application/vnd.jupyter.widget-view+json": {
       "model_id": "f3cb7e6190494cc3a667a64c59a0da5b",
       "version_major": 2,
       "version_minor": 0
      },
      "text/plain": [
       "ary_Arab.parquet:   0%|          | 0.00/140k [00:00<?, ?B/s]"
      ]
     },
     "metadata": {},
     "output_type": "display_data"
    },
    {
     "data": {
      "application/vnd.jupyter.widget-view+json": {
       "model_id": "4ad1102cf00e4b71bf1ba029627f8d81",
       "version_major": 2,
       "version_minor": 0
      },
      "text/plain": [
       "awa_Deva.parquet:   0%|          | 0.00/165k [00:00<?, ?B/s]"
      ]
     },
     "metadata": {},
     "output_type": "display_data"
    },
    {
     "data": {
      "application/vnd.jupyter.widget-view+json": {
       "model_id": "0c3d2da2ea024825989be3ee0b8b89cc",
       "version_major": 2,
       "version_minor": 0
      },
      "text/plain": [
       "asm_Beng.parquet:   0%|          | 0.00/174k [00:00<?, ?B/s]"
      ]
     },
     "metadata": {},
     "output_type": "display_data"
    },
    {
     "data": {
      "application/vnd.jupyter.widget-view+json": {
       "model_id": "e7f863f8195f4ef398bc8665ad97afb7",
       "version_major": 2,
       "version_minor": 0
      },
      "text/plain": [
       "azj_Latn.parquet:   0%|          | 0.00/134k [00:00<?, ?B/s]"
      ]
     },
     "metadata": {},
     "output_type": "display_data"
    },
    {
     "data": {
      "application/vnd.jupyter.widget-view+json": {
       "model_id": "104ecb54b58847b7b31353a65411a824",
       "version_major": 2,
       "version_minor": 0
      },
      "text/plain": [
       "ast_Latn.parquet:   0%|          | 0.00/124k [00:00<?, ?B/s]"
      ]
     },
     "metadata": {},
     "output_type": "display_data"
    },
    {
     "data": {
      "application/vnd.jupyter.widget-view+json": {
       "model_id": "4fe6f2d48d094237ad4dd386da57069e",
       "version_major": 2,
       "version_minor": 0
      },
      "text/plain": [
       "azb_Arab.parquet:   0%|          | 0.00/140k [00:00<?, ?B/s]"
      ]
     },
     "metadata": {},
     "output_type": "display_data"
    },
    {
     "data": {
      "application/vnd.jupyter.widget-view+json": {
       "model_id": "b5a5108971b147159b0e6df04206ffa4",
       "version_major": 2,
       "version_minor": 0
      },
      "text/plain": [
       "ayr_Latn.parquet:   0%|          | 0.00/122k [00:00<?, ?B/s]"
      ]
     },
     "metadata": {},
     "output_type": "display_data"
    },
    {
     "data": {
      "application/vnd.jupyter.widget-view+json": {
       "model_id": "3368e26e208c4a92b5fc2b93397c879b",
       "version_major": 2,
       "version_minor": 0
      },
      "text/plain": [
       "bak_Cyrl.parquet:   0%|          | 0.00/155k [00:00<?, ?B/s]"
      ]
     },
     "metadata": {},
     "output_type": "display_data"
    },
    {
     "data": {
      "application/vnd.jupyter.widget-view+json": {
       "model_id": "736bb9b429974c9a9ad6cf890f760c46",
       "version_major": 2,
       "version_minor": 0
      },
      "text/plain": [
       "bam_Latn.parquet:   0%|          | 0.00/116k [00:00<?, ?B/s]"
      ]
     },
     "metadata": {},
     "output_type": "display_data"
    },
    {
     "data": {
      "application/vnd.jupyter.widget-view+json": {
       "model_id": "2a8da1a44b4042e1a89019896ec9a2e8",
       "version_major": 2,
       "version_minor": 0
      },
      "text/plain": [
       "bod_Tibt.parquet:   0%|          | 0.00/171k [00:00<?, ?B/s]"
      ]
     },
     "metadata": {},
     "output_type": "display_data"
    },
    {
     "data": {
      "application/vnd.jupyter.widget-view+json": {
       "model_id": "873e003987974756b4527fb3406bf19a",
       "version_major": 2,
       "version_minor": 0
      },
      "text/plain": [
       "ban_Latn.parquet:   0%|          | 0.00/118k [00:00<?, ?B/s]"
      ]
     },
     "metadata": {},
     "output_type": "display_data"
    },
    {
     "data": {
      "application/vnd.jupyter.widget-view+json": {
       "model_id": "cb727042b9c343758cd5705b070636cb",
       "version_major": 2,
       "version_minor": 0
      },
      "text/plain": [
       "bjn_Arab.parquet:   0%|          | 0.00/141k [00:00<?, ?B/s]"
      ]
     },
     "metadata": {},
     "output_type": "display_data"
    },
    {
     "data": {
      "application/vnd.jupyter.widget-view+json": {
       "model_id": "3bc2cdc431e04c4ab7ed6b79247b8867",
       "version_major": 2,
       "version_minor": 0
      },
      "text/plain": [
       "bjn_Latn.parquet:   0%|          | 0.00/116k [00:00<?, ?B/s]"
      ]
     },
     "metadata": {},
     "output_type": "display_data"
    },
    {
     "data": {
      "application/vnd.jupyter.widget-view+json": {
       "model_id": "c62c494477794cb39ae17dd4287b2763",
       "version_major": 2,
       "version_minor": 0
      },
      "text/plain": [
       "ben_Beng.parquet:   0%|          | 0.00/172k [00:00<?, ?B/s]"
      ]
     },
     "metadata": {},
     "output_type": "display_data"
    },
    {
     "data": {
      "application/vnd.jupyter.widget-view+json": {
       "model_id": "bd382c9cae9f42faa043dccd3dc2b67c",
       "version_major": 2,
       "version_minor": 0
      },
      "text/plain": [
       "bho_Deva.parquet:   0%|          | 0.00/163k [00:00<?, ?B/s]"
      ]
     },
     "metadata": {},
     "output_type": "display_data"
    },
    {
     "data": {
      "application/vnd.jupyter.widget-view+json": {
       "model_id": "363bc12a2c0f4e7db749d768b287d925",
       "version_major": 2,
       "version_minor": 0
      },
      "text/plain": [
       "bel_Cyrl.parquet:   0%|          | 0.00/173k [00:00<?, ?B/s]"
      ]
     },
     "metadata": {},
     "output_type": "display_data"
    },
    {
     "data": {
      "application/vnd.jupyter.widget-view+json": {
       "model_id": "22adaf8dc72441d09ac24840ac78e6d9",
       "version_major": 2,
       "version_minor": 0
      },
      "text/plain": [
       "bem_Latn.parquet:   0%|          | 0.00/129k [00:00<?, ?B/s]"
      ]
     },
     "metadata": {},
     "output_type": "display_data"
    },
    {
     "data": {
      "application/vnd.jupyter.widget-view+json": {
       "model_id": "46632565c14649f08415dcbd68e2652f",
       "version_major": 2,
       "version_minor": 0
      },
      "text/plain": [
       "bug_Latn.parquet:   0%|          | 0.00/126k [00:00<?, ?B/s]"
      ]
     },
     "metadata": {},
     "output_type": "display_data"
    },
    {
     "data": {
      "application/vnd.jupyter.widget-view+json": {
       "model_id": "93f7197ecab1489487649bf646b7ec4d",
       "version_major": 2,
       "version_minor": 0
      },
      "text/plain": [
       "cat_Latn.parquet:   0%|          | 0.00/128k [00:00<?, ?B/s]"
      ]
     },
     "metadata": {},
     "output_type": "display_data"
    },
    {
     "data": {
      "application/vnd.jupyter.widget-view+json": {
       "model_id": "b959d276186d43fc86892a80a236bb44",
       "version_major": 2,
       "version_minor": 0
      },
      "text/plain": [
       "bul_Cyrl.parquet:   0%|          | 0.00/157k [00:00<?, ?B/s]"
      ]
     },
     "metadata": {},
     "output_type": "display_data"
    },
    {
     "data": {
      "application/vnd.jupyter.widget-view+json": {
       "model_id": "32e1370e8eb04340b03cf2d26f50be07",
       "version_major": 2,
       "version_minor": 0
      },
      "text/plain": [
       "bos_Latn.parquet:   0%|          | 0.00/126k [00:00<?, ?B/s]"
      ]
     },
     "metadata": {},
     "output_type": "display_data"
    },
    {
     "data": {
      "application/vnd.jupyter.widget-view+json": {
       "model_id": "012321948b4d44848c14fcc709e44398",
       "version_major": 2,
       "version_minor": 0
      },
      "text/plain": [
       "cat_Latn_vale1252.parquet:   0%|          | 0.00/129k [00:00<?, ?B/s]"
      ]
     },
     "metadata": {},
     "output_type": "display_data"
    },
    {
     "data": {
      "application/vnd.jupyter.widget-view+json": {
       "model_id": "2a4f291852834717840fc281e70bcbcb",
       "version_major": 2,
       "version_minor": 0
      },
      "text/plain": [
       "ceb_Latn.parquet:   0%|          | 0.00/126k [00:00<?, ?B/s]"
      ]
     },
     "metadata": {},
     "output_type": "display_data"
    },
    {
     "data": {
      "application/vnd.jupyter.widget-view+json": {
       "model_id": "24b75474d7434387895de470f3961587",
       "version_major": 2,
       "version_minor": 0
      },
      "text/plain": [
       "ces_Latn.parquet:   0%|          | 0.00/131k [00:00<?, ?B/s]"
      ]
     },
     "metadata": {},
     "output_type": "display_data"
    },
    {
     "data": {
      "application/vnd.jupyter.widget-view+json": {
       "model_id": "69744a357c7e4a5e8ee675bea03e085b",
       "version_major": 2,
       "version_minor": 0
      },
      "text/plain": [
       "cjk_Latn.parquet:   0%|          | 0.00/125k [00:00<?, ?B/s]"
      ]
     },
     "metadata": {},
     "output_type": "display_data"
    },
    {
     "data": {
      "application/vnd.jupyter.widget-view+json": {
       "model_id": "d674825fe6b046f78f34f8892e6a62c6",
       "version_major": 2,
       "version_minor": 0
      },
      "text/plain": [
       "chv_Cyrl.parquet:   0%|          | 0.00/150k [00:00<?, ?B/s]"
      ]
     },
     "metadata": {},
     "output_type": "display_data"
    },
    {
     "data": {
      "application/vnd.jupyter.widget-view+json": {
       "model_id": "f465c9d917004bd08c1add61fc131011",
       "version_major": 2,
       "version_minor": 0
      },
      "text/plain": [
       "cmn_Hans.parquet:   0%|          | 0.00/120k [00:00<?, ?B/s]"
      ]
     },
     "metadata": {},
     "output_type": "display_data"
    },
    {
     "data": {
      "application/vnd.jupyter.widget-view+json": {
       "model_id": "33c36613d4d3499980e0a51dbddae595",
       "version_major": 2,
       "version_minor": 0
      },
      "text/plain": [
       "cmn_Hant.parquet:   0%|          | 0.00/119k [00:00<?, ?B/s]"
      ]
     },
     "metadata": {},
     "output_type": "display_data"
    },
    {
     "data": {
      "application/vnd.jupyter.widget-view+json": {
       "model_id": "5fe25730dd7a48bca586206db510a93a",
       "version_major": 2,
       "version_minor": 0
      },
      "text/plain": [
       "crh_Latn.parquet:   0%|          | 0.00/125k [00:00<?, ?B/s]"
      ]
     },
     "metadata": {},
     "output_type": "display_data"
    },
    {
     "data": {
      "application/vnd.jupyter.widget-view+json": {
       "model_id": "31aa7a03bf144c2998771f78d451d928",
       "version_major": 2,
       "version_minor": 0
      },
      "text/plain": [
       "dan_Latn.parquet:   0%|          | 0.00/122k [00:00<?, ?B/s]"
      ]
     },
     "metadata": {},
     "output_type": "display_data"
    },
    {
     "data": {
      "application/vnd.jupyter.widget-view+json": {
       "model_id": "bd3f57de50d04b60b90824ba2af442e6",
       "version_major": 2,
       "version_minor": 0
      },
      "text/plain": [
       "cym_Latn.parquet:   0%|          | 0.00/123k [00:00<?, ?B/s]"
      ]
     },
     "metadata": {},
     "output_type": "display_data"
    },
    {
     "data": {
      "application/vnd.jupyter.widget-view+json": {
       "model_id": "3da08fc549f5431b8e2c101bb66eb866",
       "version_major": 2,
       "version_minor": 0
      },
      "text/plain": [
       "ckb_Arab.parquet:   0%|          | 0.00/150k [00:00<?, ?B/s]"
      ]
     },
     "metadata": {},
     "output_type": "display_data"
    },
    {
     "data": {
      "application/vnd.jupyter.widget-view+json": {
       "model_id": "43a60313cd4a4cd78371e7496aebd1ab",
       "version_major": 2,
       "version_minor": 0
      },
      "text/plain": [
       "dik_Latn.parquet:   0%|          | 0.00/110k [00:00<?, ?B/s]"
      ]
     },
     "metadata": {},
     "output_type": "display_data"
    },
    {
     "data": {
      "application/vnd.jupyter.widget-view+json": {
       "model_id": "47cf1a9952d147ac9de23747c135ddb8",
       "version_major": 2,
       "version_minor": 0
      },
      "text/plain": [
       "dyu_Latn.parquet:   0%|          | 0.00/128k [00:00<?, ?B/s]"
      ]
     },
     "metadata": {},
     "output_type": "display_data"
    },
    {
     "data": {
      "application/vnd.jupyter.widget-view+json": {
       "model_id": "a82d7a8ed7254dceb10d5593ed55bc15",
       "version_major": 2,
       "version_minor": 0
      },
      "text/plain": [
       "dzo_Tibt.parquet:   0%|          | 0.00/183k [00:00<?, ?B/s]"
      ]
     },
     "metadata": {},
     "output_type": "display_data"
    },
    {
     "data": {
      "application/vnd.jupyter.widget-view+json": {
       "model_id": "2cc77b2af2154349958038d786e6610f",
       "version_major": 2,
       "version_minor": 0
      },
      "text/plain": [
       "ekk_Latn.parquet:   0%|          | 0.00/123k [00:00<?, ?B/s]"
      ]
     },
     "metadata": {},
     "output_type": "display_data"
    },
    {
     "data": {
      "application/vnd.jupyter.widget-view+json": {
       "model_id": "fd102fba9b7d4babb84ab3aa6f45067e",
       "version_major": 2,
       "version_minor": 0
      },
      "text/plain": [
       "deu_Latn.parquet:   0%|          | 0.00/133k [00:00<?, ?B/s]"
      ]
     },
     "metadata": {},
     "output_type": "display_data"
    },
    {
     "data": {
      "application/vnd.jupyter.widget-view+json": {
       "model_id": "5970834313d04f77b2bd09cb1301f06c",
       "version_major": 2,
       "version_minor": 0
      },
      "text/plain": [
       "epo_Latn.parquet:   0%|          | 0.00/119k [00:00<?, ?B/s]"
      ]
     },
     "metadata": {},
     "output_type": "display_data"
    },
    {
     "data": {
      "application/vnd.jupyter.widget-view+json": {
       "model_id": "de42940e8d1841ecbd879b202a42bcce",
       "version_major": 2,
       "version_minor": 0
      },
      "text/plain": [
       "ell_Grek.parquet:   0%|          | 0.00/178k [00:00<?, ?B/s]"
      ]
     },
     "metadata": {},
     "output_type": "display_data"
    },
    {
     "data": {
      "application/vnd.jupyter.widget-view+json": {
       "model_id": "a27a2a51413144928b1e06bdd98da834",
       "version_major": 2,
       "version_minor": 0
      },
      "text/plain": [
       "eng_Latn.parquet:   0%|          | 0.00/117k [00:00<?, ?B/s]"
      ]
     },
     "metadata": {},
     "output_type": "display_data"
    },
    {
     "data": {
      "application/vnd.jupyter.widget-view+json": {
       "model_id": "bd8faef627814e4f9f13268c3af8e3de",
       "version_major": 2,
       "version_minor": 0
      },
      "text/plain": [
       "eus_Latn.parquet:   0%|          | 0.00/121k [00:00<?, ?B/s]"
      ]
     },
     "metadata": {},
     "output_type": "display_data"
    },
    {
     "data": {
      "application/vnd.jupyter.widget-view+json": {
       "model_id": "00e2fb47eb0143d1bb8769c5df7445dc",
       "version_major": 2,
       "version_minor": 0
      },
      "text/plain": [
       "ewe_Latn.parquet:   0%|          | 0.00/114k [00:00<?, ?B/s]"
      ]
     },
     "metadata": {},
     "output_type": "display_data"
    },
    {
     "data": {
      "application/vnd.jupyter.widget-view+json": {
       "model_id": "903840d8289440b5937ebab2be565ea5",
       "version_major": 2,
       "version_minor": 0
      },
      "text/plain": [
       "fij_Latn.parquet:   0%|          | 0.00/116k [00:00<?, ?B/s]"
      ]
     },
     "metadata": {},
     "output_type": "display_data"
    },
    {
     "data": {
      "application/vnd.jupyter.widget-view+json": {
       "model_id": "2fec41a32c9648b58bf84d4fc52eb689",
       "version_major": 2,
       "version_minor": 0
      },
      "text/plain": [
       "fil_Latn.parquet:   0%|          | 0.00/130k [00:00<?, ?B/s]"
      ]
     },
     "metadata": {},
     "output_type": "display_data"
    },
    {
     "data": {
      "application/vnd.jupyter.widget-view+json": {
       "model_id": "39225b07a767478b96faadcb75a7f698",
       "version_major": 2,
       "version_minor": 0
      },
      "text/plain": [
       "fra_Latn.parquet:   0%|          | 0.00/134k [00:00<?, ?B/s]"
      ]
     },
     "metadata": {},
     "output_type": "display_data"
    },
    {
     "data": {
      "application/vnd.jupyter.widget-view+json": {
       "model_id": "b7ff1898f8054d1ea42267920961acf5",
       "version_major": 2,
       "version_minor": 0
      },
      "text/plain": [
       "fin_Latn.parquet:   0%|          | 0.00/128k [00:00<?, ?B/s]"
      ]
     },
     "metadata": {},
     "output_type": "display_data"
    },
    {
     "data": {
      "application/vnd.jupyter.widget-view+json": {
       "model_id": "cbc30d08d8b545e4ba73a16f8791f792",
       "version_major": 2,
       "version_minor": 0
      },
      "text/plain": [
       "fao_Latn.parquet:   0%|          | 0.00/124k [00:00<?, ?B/s]"
      ]
     },
     "metadata": {},
     "output_type": "display_data"
    },
    {
     "data": {
      "application/vnd.jupyter.widget-view+json": {
       "model_id": "b0e84faf7f5147d99367c6109397d33c",
       "version_major": 2,
       "version_minor": 0
      },
      "text/plain": [
       "fon_Latn.parquet:   0%|          | 0.00/130k [00:00<?, ?B/s]"
      ]
     },
     "metadata": {},
     "output_type": "display_data"
    },
    {
     "data": {
      "application/vnd.jupyter.widget-view+json": {
       "model_id": "ae688741a2b94352b0db81f058f6d5e7",
       "version_major": 2,
       "version_minor": 0
      },
      "text/plain": [
       "fuv_Latn.parquet:   0%|          | 0.00/115k [00:00<?, ?B/s]"
      ]
     },
     "metadata": {},
     "output_type": "display_data"
    },
    {
     "data": {
      "application/vnd.jupyter.widget-view+json": {
       "model_id": "52a4f43bfef146a58500f804c59d6ee9",
       "version_major": 2,
       "version_minor": 0
      },
      "text/plain": [
       "fur_Latn.parquet:   0%|          | 0.00/126k [00:00<?, ?B/s]"
      ]
     },
     "metadata": {},
     "output_type": "display_data"
    },
    {
     "data": {
      "application/vnd.jupyter.widget-view+json": {
       "model_id": "1f6f5f48c1de4b0c846aad159f3b991a",
       "version_major": 2,
       "version_minor": 0
      },
      "text/plain": [
       "gaz_Latn.parquet:   0%|          | 0.00/130k [00:00<?, ?B/s]"
      ]
     },
     "metadata": {},
     "output_type": "display_data"
    },
    {
     "data": {
      "application/vnd.jupyter.widget-view+json": {
       "model_id": "a9e40294885f40b3a0233e765b17da6f",
       "version_major": 2,
       "version_minor": 0
      },
      "text/plain": [
       "gla_Latn.parquet:   0%|          | 0.00/133k [00:00<?, ?B/s]"
      ]
     },
     "metadata": {},
     "output_type": "display_data"
    },
    {
     "data": {
      "application/vnd.jupyter.widget-view+json": {
       "model_id": "949fec02d04f4059a4ba58238aff41e8",
       "version_major": 2,
       "version_minor": 0
      },
      "text/plain": [
       "gug_Latn.parquet:   0%|          | 0.00/118k [00:00<?, ?B/s]"
      ]
     },
     "metadata": {},
     "output_type": "display_data"
    },
    {
     "data": {
      "application/vnd.jupyter.widget-view+json": {
       "model_id": "34c3141adc5d4c799ba0a71cf9216e9c",
       "version_major": 2,
       "version_minor": 0
      },
      "text/plain": [
       "gle_Latn.parquet:   0%|          | 0.00/133k [00:00<?, ?B/s]"
      ]
     },
     "metadata": {},
     "output_type": "display_data"
    },
    {
     "data": {
      "application/vnd.jupyter.widget-view+json": {
       "model_id": "6857a1a3834d42038b24766d17a633c5",
       "version_major": 2,
       "version_minor": 0
      },
      "text/plain": [
       "guj_Gujr.parquet:   0%|          | 0.00/170k [00:00<?, ?B/s]"
      ]
     },
     "metadata": {},
     "output_type": "display_data"
    },
    {
     "data": {
      "application/vnd.jupyter.widget-view+json": {
       "model_id": "c05bf9fb391e43f6b3ae8913dcb6a199",
       "version_major": 2,
       "version_minor": 0
      },
      "text/plain": [
       "glg_Latn.parquet:   0%|          | 0.00/128k [00:00<?, ?B/s]"
      ]
     },
     "metadata": {},
     "output_type": "display_data"
    },
    {
     "data": {
      "application/vnd.jupyter.widget-view+json": {
       "model_id": "a70b4994ba86414d913887197374d7fb",
       "version_major": 2,
       "version_minor": 0
      },
      "text/plain": [
       "hat_Latn.parquet:   0%|          | 0.00/111k [00:00<?, ?B/s]"
      ]
     },
     "metadata": {},
     "output_type": "display_data"
    },
    {
     "data": {
      "application/vnd.jupyter.widget-view+json": {
       "model_id": "58e39eb0d03b4a43bad2ac169640d0e0",
       "version_major": 2,
       "version_minor": 0
      },
      "text/plain": [
       "hau_Latn.parquet:   0%|          | 0.00/120k [00:00<?, ?B/s]"
      ]
     },
     "metadata": {},
     "output_type": "display_data"
    },
    {
     "data": {
      "application/vnd.jupyter.widget-view+json": {
       "model_id": "98f56c8733a24dcd8987d5cd33b020d3",
       "version_major": 2,
       "version_minor": 0
      },
      "text/plain": [
       "heb_Hebr.parquet:   0%|          | 0.00/129k [00:00<?, ?B/s]"
      ]
     },
     "metadata": {},
     "output_type": "display_data"
    },
    {
     "data": {
      "application/vnd.jupyter.widget-view+json": {
       "model_id": "2c277949ec814b71b1c829327d5b0f55",
       "version_major": 2,
       "version_minor": 0
      },
      "text/plain": [
       "hin_Deva.parquet:   0%|          | 0.00/168k [00:00<?, ?B/s]"
      ]
     },
     "metadata": {},
     "output_type": "display_data"
    },
    {
     "data": {
      "application/vnd.jupyter.widget-view+json": {
       "model_id": "90b70191c28046889ad4a3f6db0b7b3c",
       "version_major": 2,
       "version_minor": 0
      },
      "text/plain": [
       "hrv_Latn.parquet:   0%|          | 0.00/123k [00:00<?, ?B/s]"
      ]
     },
     "metadata": {},
     "output_type": "display_data"
    },
    {
     "data": {
      "application/vnd.jupyter.widget-view+json": {
       "model_id": "8f298825984a439181e1b084cd7b086e",
       "version_major": 2,
       "version_minor": 0
      },
      "text/plain": [
       "hne_Deva.parquet:   0%|          | 0.00/164k [00:00<?, ?B/s]"
      ]
     },
     "metadata": {},
     "output_type": "display_data"
    },
    {
     "data": {
      "application/vnd.jupyter.widget-view+json": {
       "model_id": "09ed50a5797142d0a6b7a4653a36e882",
       "version_major": 2,
       "version_minor": 0
      },
      "text/plain": [
       "hun_Latn.parquet:   0%|          | 0.00/134k [00:00<?, ?B/s]"
      ]
     },
     "metadata": {},
     "output_type": "display_data"
    },
    {
     "data": {
      "application/vnd.jupyter.widget-view+json": {
       "model_id": "cedf0d6cfe064319898b27218d8c54b4",
       "version_major": 2,
       "version_minor": 0
      },
      "text/plain": [
       "ilo_Latn.parquet:   0%|          | 0.00/127k [00:00<?, ?B/s]"
      ]
     },
     "metadata": {},
     "output_type": "display_data"
    },
    {
     "data": {
      "application/vnd.jupyter.widget-view+json": {
       "model_id": "a3b979a0f56c4d45bc7f57177cda52b1",
       "version_major": 2,
       "version_minor": 0
      },
      "text/plain": [
       "ibo_Latn.parquet:   0%|          | 0.00/124k [00:00<?, ?B/s]"
      ]
     },
     "metadata": {},
     "output_type": "display_data"
    },
    {
     "data": {
      "application/vnd.jupyter.widget-view+json": {
       "model_id": "a0d9612e182b4f198bf86a94ad7e6485",
       "version_major": 2,
       "version_minor": 0
      },
      "text/plain": [
       "ita_Latn.parquet:   0%|          | 0.00/133k [00:00<?, ?B/s]"
      ]
     },
     "metadata": {},
     "output_type": "display_data"
    },
    {
     "data": {
      "application/vnd.jupyter.widget-view+json": {
       "model_id": "9cf6813646e24c1da0189629514ea1f2",
       "version_major": 2,
       "version_minor": 0
      },
      "text/plain": [
       "hye_Armn.parquet:   0%|          | 0.00/164k [00:00<?, ?B/s]"
      ]
     },
     "metadata": {},
     "output_type": "display_data"
    },
    {
     "data": {
      "application/vnd.jupyter.widget-view+json": {
       "model_id": "db08c60fa68f44e786c5f13a605a4008",
       "version_major": 2,
       "version_minor": 0
      },
      "text/plain": [
       "ind_Latn.parquet:   0%|          | 0.00/118k [00:00<?, ?B/s]"
      ]
     },
     "metadata": {},
     "output_type": "display_data"
    },
    {
     "data": {
      "application/vnd.jupyter.widget-view+json": {
       "model_id": "f6f0cfe8e50749679383d3db3a00e395",
       "version_major": 2,
       "version_minor": 0
      },
      "text/plain": [
       "isl_Latn.parquet:   0%|          | 0.00/126k [00:00<?, ?B/s]"
      ]
     },
     "metadata": {},
     "output_type": "display_data"
    },
    {
     "data": {
      "application/vnd.jupyter.widget-view+json": {
       "model_id": "3208a372add04cf29ff0ee33c9991a77",
       "version_major": 2,
       "version_minor": 0
      },
      "text/plain": [
       "jav_Latn.parquet:   0%|          | 0.00/116k [00:00<?, ?B/s]"
      ]
     },
     "metadata": {},
     "output_type": "display_data"
    },
    {
     "data": {
      "application/vnd.jupyter.widget-view+json": {
       "model_id": "a06d90d795b44b89a6c11878653d1854",
       "version_major": 2,
       "version_minor": 0
      },
      "text/plain": [
       "kaa_Latn.parquet:   0%|          | 0.00/123k [00:00<?, ?B/s]"
      ]
     },
     "metadata": {},
     "output_type": "display_data"
    },
    {
     "data": {
      "application/vnd.jupyter.widget-view+json": {
       "model_id": "04cd1fac953c4137b8510791aadfe416",
       "version_major": 2,
       "version_minor": 0
      },
      "text/plain": [
       "kab_Latn.parquet:   0%|          | 0.00/122k [00:00<?, ?B/s]"
      ]
     },
     "metadata": {},
     "output_type": "display_data"
    },
    {
     "data": {
      "application/vnd.jupyter.widget-view+json": {
       "model_id": "2e6ed6cb746a4f25870d00a8799846cb",
       "version_major": 2,
       "version_minor": 0
      },
      "text/plain": [
       "jpn_Jpan.parquet:   0%|          | 0.00/131k [00:00<?, ?B/s]"
      ]
     },
     "metadata": {},
     "output_type": "display_data"
    },
    {
     "data": {
      "application/vnd.jupyter.widget-view+json": {
       "model_id": "f1e466a1b7bb4c1c84c37eb45620c3dc",
       "version_major": 2,
       "version_minor": 0
      },
      "text/plain": [
       "kas_Arab.parquet:   0%|          | 0.00/156k [00:00<?, ?B/s]"
      ]
     },
     "metadata": {},
     "output_type": "display_data"
    },
    {
     "data": {
      "application/vnd.jupyter.widget-view+json": {
       "model_id": "bc2fba045b324dde8f369ecdd091dc2d",
       "version_major": 2,
       "version_minor": 0
      },
      "text/plain": [
       "kam_Latn.parquet:   0%|          | 0.00/120k [00:00<?, ?B/s]"
      ]
     },
     "metadata": {},
     "output_type": "display_data"
    },
    {
     "data": {
      "application/vnd.jupyter.widget-view+json": {
       "model_id": "e047a2f1f78547ac974c149b155dcec9",
       "version_major": 2,
       "version_minor": 0
      },
      "text/plain": [
       "kac_Latn.parquet:   0%|          | 0.00/126k [00:00<?, ?B/s]"
      ]
     },
     "metadata": {},
     "output_type": "display_data"
    },
    {
     "data": {
      "application/vnd.jupyter.widget-view+json": {
       "model_id": "d8b9426ed73c434db9fd29b07970b2e1",
       "version_major": 2,
       "version_minor": 0
      },
      "text/plain": [
       "kan_Knda.parquet:   0%|          | 0.00/180k [00:00<?, ?B/s]"
      ]
     },
     "metadata": {},
     "output_type": "display_data"
    },
    {
     "data": {
      "application/vnd.jupyter.widget-view+json": {
       "model_id": "1aede7a1b68241128dfe609938027be1",
       "version_major": 2,
       "version_minor": 0
      },
      "text/plain": [
       "kas_Deva.parquet:   0%|          | 0.00/172k [00:00<?, ?B/s]"
      ]
     },
     "metadata": {},
     "output_type": "display_data"
    },
    {
     "data": {
      "application/vnd.jupyter.widget-view+json": {
       "model_id": "fea9cd317ad24b6fb160b80a71852f94",
       "version_major": 2,
       "version_minor": 0
      },
      "text/plain": [
       "kat_Geor.parquet:   0%|          | 0.00/177k [00:00<?, ?B/s]"
      ]
     },
     "metadata": {},
     "output_type": "display_data"
    },
    {
     "data": {
      "application/vnd.jupyter.widget-view+json": {
       "model_id": "d700ba48574140b980459a5c85a374f9",
       "version_major": 2,
       "version_minor": 0
      },
      "text/plain": [
       "kik_Latn.parquet:   0%|          | 0.00/130k [00:00<?, ?B/s]"
      ]
     },
     "metadata": {},
     "output_type": "display_data"
    },
    {
     "data": {
      "application/vnd.jupyter.widget-view+json": {
       "model_id": "dac23adbe1d84597827ed47b9ade91ed",
       "version_major": 2,
       "version_minor": 0
      },
      "text/plain": [
       "kbp_Latn.parquet:   0%|          | 0.00/127k [00:00<?, ?B/s]"
      ]
     },
     "metadata": {},
     "output_type": "display_data"
    },
    {
     "data": {
      "application/vnd.jupyter.widget-view+json": {
       "model_id": "f818f2b203ee4ef18fa05adc956440d6",
       "version_major": 2,
       "version_minor": 0
      },
      "text/plain": [
       "kea_Latn.parquet:   0%|          | 0.00/118k [00:00<?, ?B/s]"
      ]
     },
     "metadata": {},
     "output_type": "display_data"
    },
    {
     "data": {
      "application/vnd.jupyter.widget-view+json": {
       "model_id": "ee24a0e68d3b488e8d036d0d14117820",
       "version_major": 2,
       "version_minor": 0
      },
      "text/plain": [
       "kaz_Cyrl.parquet:   0%|          | 0.00/155k [00:00<?, ?B/s]"
      ]
     },
     "metadata": {},
     "output_type": "display_data"
    },
    {
     "data": {
      "application/vnd.jupyter.widget-view+json": {
       "model_id": "28886ea4f5b247f8bd71653e659d263a",
       "version_major": 2,
       "version_minor": 0
      },
      "text/plain": [
       "kin_Latn.parquet:   0%|          | 0.00/124k [00:00<?, ?B/s]"
      ]
     },
     "metadata": {},
     "output_type": "display_data"
    },
    {
     "data": {
      "application/vnd.jupyter.widget-view+json": {
       "model_id": "29b7738dce7f48fc95ac379ae6eddd68",
       "version_major": 2,
       "version_minor": 0
      },
      "text/plain": [
       "khm_Khmr.parquet:   0%|          | 0.00/209k [00:00<?, ?B/s]"
      ]
     },
     "metadata": {},
     "output_type": "display_data"
    },
    {
     "data": {
      "application/vnd.jupyter.widget-view+json": {
       "model_id": "48db2d533e3c470a9bd8cd8abacb8b7f",
       "version_major": 2,
       "version_minor": 0
      },
      "text/plain": [
       "khk_Cyrl.parquet:   0%|          | 0.00/156k [00:00<?, ?B/s]"
      ]
     },
     "metadata": {},
     "output_type": "display_data"
    },
    {
     "data": {
      "application/vnd.jupyter.widget-view+json": {
       "model_id": "4895358686094f8ea8eafedf6a0d45ba",
       "version_major": 2,
       "version_minor": 0
      },
      "text/plain": [
       "kmb_Latn.parquet:   0%|          | 0.00/121k [00:00<?, ?B/s]"
      ]
     },
     "metadata": {},
     "output_type": "display_data"
    },
    {
     "data": {
      "application/vnd.jupyter.widget-view+json": {
       "model_id": "10a0215193544fe5a033cb768bb76b9f",
       "version_major": 2,
       "version_minor": 0
      },
      "text/plain": [
       "kir_Cyrl.parquet:   0%|          | 0.00/157k [00:00<?, ?B/s]"
      ]
     },
     "metadata": {},
     "output_type": "display_data"
    },
    {
     "data": {
      "application/vnd.jupyter.widget-view+json": {
       "model_id": "0a52f125989b4430be2ae1abacca7b6e",
       "version_major": 2,
       "version_minor": 0
      },
      "text/plain": [
       "kmr_Latn.parquet:   0%|          | 0.00/126k [00:00<?, ?B/s]"
      ]
     },
     "metadata": {},
     "output_type": "display_data"
    },
    {
     "data": {
      "application/vnd.jupyter.widget-view+json": {
       "model_id": "73c5f219f629442eadbb52329522f488",
       "version_major": 2,
       "version_minor": 0
      },
      "text/plain": [
       "knc_Latn.parquet:   0%|          | 0.00/123k [00:00<?, ?B/s]"
      ]
     },
     "metadata": {},
     "output_type": "display_data"
    },
    {
     "data": {
      "application/vnd.jupyter.widget-view+json": {
       "model_id": "f31088aa67764c2d8ffec9de3b10d40b",
       "version_major": 2,
       "version_minor": 0
      },
      "text/plain": [
       "knc_Arab.parquet:   0%|          | 0.00/135k [00:00<?, ?B/s]"
      ]
     },
     "metadata": {},
     "output_type": "display_data"
    },
    {
     "data": {
      "application/vnd.jupyter.widget-view+json": {
       "model_id": "9642b28ea5494d80a5d5948c436e6469",
       "version_major": 2,
       "version_minor": 0
      },
      "text/plain": [
       "kor_Hang.parquet:   0%|          | 0.00/131k [00:00<?, ?B/s]"
      ]
     },
     "metadata": {},
     "output_type": "display_data"
    },
    {
     "data": {
      "application/vnd.jupyter.widget-view+json": {
       "model_id": "6b0f31229bb6479982488f3ef50cf5ff",
       "version_major": 2,
       "version_minor": 0
      },
      "text/plain": [
       "ktu_Latn.parquet:   0%|          | 0.00/114k [00:00<?, ?B/s]"
      ]
     },
     "metadata": {},
     "output_type": "display_data"
    },
    {
     "data": {
      "application/vnd.jupyter.widget-view+json": {
       "model_id": "a4ccbab5073541e284c74b10f36f0001",
       "version_major": 2,
       "version_minor": 0
      },
      "text/plain": [
       "lij_Latn.parquet:   0%|          | 0.00/131k [00:00<?, ?B/s]"
      ]
     },
     "metadata": {},
     "output_type": "display_data"
    },
    {
     "data": {
      "application/vnd.jupyter.widget-view+json": {
       "model_id": "efe39d06f6e94d6480b425130cd347a3",
       "version_major": 2,
       "version_minor": 0
      },
      "text/plain": [
       "lao_Laoo.parquet:   0%|          | 0.00/178k [00:00<?, ?B/s]"
      ]
     },
     "metadata": {},
     "output_type": "display_data"
    },
    {
     "data": {
      "application/vnd.jupyter.widget-view+json": {
       "model_id": "0e382240863d4918ba11f2f62b6a474e",
       "version_major": 2,
       "version_minor": 0
      },
      "text/plain": [
       "lim_Latn.parquet:   0%|          | 0.00/126k [00:00<?, ?B/s]"
      ]
     },
     "metadata": {},
     "output_type": "display_data"
    },
    {
     "data": {
      "application/vnd.jupyter.widget-view+json": {
       "model_id": "196fca92923f4baa9adf419616fbea46",
       "version_major": 2,
       "version_minor": 0
      },
      "text/plain": [
       "lit_Latn.parquet:   0%|          | 0.00/127k [00:00<?, ?B/s]"
      ]
     },
     "metadata": {},
     "output_type": "display_data"
    },
    {
     "data": {
      "application/vnd.jupyter.widget-view+json": {
       "model_id": "e7b02f040a834e6b8457b571d805e93f",
       "version_major": 2,
       "version_minor": 0
      },
      "text/plain": [
       "lmo_Latn.parquet:   0%|          | 0.00/131k [00:00<?, ?B/s]"
      ]
     },
     "metadata": {},
     "output_type": "display_data"
    },
    {
     "data": {
      "application/vnd.jupyter.widget-view+json": {
       "model_id": "66310ae2c1864306858c1e4ed734b306",
       "version_major": 2,
       "version_minor": 0
      },
      "text/plain": [
       "lin_Latn.parquet:   0%|          | 0.00/109k [00:00<?, ?B/s]"
      ]
     },
     "metadata": {},
     "output_type": "display_data"
    },
    {
     "data": {
      "application/vnd.jupyter.widget-view+json": {
       "model_id": "2a4703dc8fb440858a0728eca78cad8d",
       "version_major": 2,
       "version_minor": 0
      },
      "text/plain": [
       "ltg_Latn.parquet:   0%|          | 0.00/124k [00:00<?, ?B/s]"
      ]
     },
     "metadata": {},
     "output_type": "display_data"
    },
    {
     "data": {
      "application/vnd.jupyter.widget-view+json": {
       "model_id": "2116c1f009a649e68bbcf50784b1e512",
       "version_major": 2,
       "version_minor": 0
      },
      "text/plain": [
       "lug_Latn.parquet:   0%|          | 0.00/122k [00:00<?, ?B/s]"
      ]
     },
     "metadata": {},
     "output_type": "display_data"
    },
    {
     "data": {
      "application/vnd.jupyter.widget-view+json": {
       "model_id": "1390f95dabfa411f9e037a15a9128cdf",
       "version_major": 2,
       "version_minor": 0
      },
      "text/plain": [
       "lua_Latn.parquet:   0%|          | 0.00/118k [00:00<?, ?B/s]"
      ]
     },
     "metadata": {},
     "output_type": "display_data"
    },
    {
     "data": {
      "application/vnd.jupyter.widget-view+json": {
       "model_id": "7b92b780b2d04022a08af4c91b1dc5e0",
       "version_major": 2,
       "version_minor": 0
      },
      "text/plain": [
       "ltz_Latn.parquet:   0%|          | 0.00/130k [00:00<?, ?B/s]"
      ]
     },
     "metadata": {},
     "output_type": "display_data"
    },
    {
     "data": {
      "application/vnd.jupyter.widget-view+json": {
       "model_id": "62913597b2bc4faca4fabc12118ce24e",
       "version_major": 2,
       "version_minor": 0
      },
      "text/plain": [
       "luo_Latn.parquet:   0%|          | 0.00/118k [00:00<?, ?B/s]"
      ]
     },
     "metadata": {},
     "output_type": "display_data"
    },
    {
     "data": {
      "application/vnd.jupyter.widget-view+json": {
       "model_id": "cd98e39005e24636819b48925c92cfb2",
       "version_major": 2,
       "version_minor": 0
      },
      "text/plain": [
       "lvs_Latn.parquet:   0%|          | 0.00/129k [00:00<?, ?B/s]"
      ]
     },
     "metadata": {},
     "output_type": "display_data"
    },
    {
     "data": {
      "application/vnd.jupyter.widget-view+json": {
       "model_id": "ee0406e313d8453c81b499922c57395f",
       "version_major": 2,
       "version_minor": 0
      },
      "text/plain": [
       "mag_Deva.parquet:   0%|          | 0.00/162k [00:00<?, ?B/s]"
      ]
     },
     "metadata": {},
     "output_type": "display_data"
    },
    {
     "data": {
      "application/vnd.jupyter.widget-view+json": {
       "model_id": "d0a434c1f448430fb712b57591d2fb15",
       "version_major": 2,
       "version_minor": 0
      },
      "text/plain": [
       "lus_Latn.parquet:   0%|          | 0.00/122k [00:00<?, ?B/s]"
      ]
     },
     "metadata": {},
     "output_type": "display_data"
    },
    {
     "data": {
      "application/vnd.jupyter.widget-view+json": {
       "model_id": "fa2df856db8945dc8d61c12574bdabf4",
       "version_major": 2,
       "version_minor": 0
      },
      "text/plain": [
       "mal_Mlym.parquet:   0%|          | 0.00/192k [00:00<?, ?B/s]"
      ]
     },
     "metadata": {},
     "output_type": "display_data"
    },
    {
     "data": {
      "application/vnd.jupyter.widget-view+json": {
       "model_id": "1a5bd977f9934870929434371a20907f",
       "version_major": 2,
       "version_minor": 0
      },
      "text/plain": [
       "mar_Deva.parquet:   0%|          | 0.00/176k [00:00<?, ?B/s]"
      ]
     },
     "metadata": {},
     "output_type": "display_data"
    },
    {
     "data": {
      "application/vnd.jupyter.widget-view+json": {
       "model_id": "84a1846070844e5da42231bdb5975530",
       "version_major": 2,
       "version_minor": 0
      },
      "text/plain": [
       "mai_Deva.parquet:   0%|          | 0.00/165k [00:00<?, ?B/s]"
      ]
     },
     "metadata": {},
     "output_type": "display_data"
    },
    {
     "data": {
      "application/vnd.jupyter.widget-view+json": {
       "model_id": "30578f851e384987a9af10657ae65374",
       "version_major": 2,
       "version_minor": 0
      },
      "text/plain": [
       "mlt_Latn.parquet:   0%|          | 0.00/131k [00:00<?, ?B/s]"
      ]
     },
     "metadata": {},
     "output_type": "display_data"
    },
    {
     "data": {
      "application/vnd.jupyter.widget-view+json": {
       "model_id": "2e08ff70349e40529cf86c58fc161cdd",
       "version_major": 2,
       "version_minor": 0
      },
      "text/plain": [
       "mni_Beng.parquet:   0%|          | 0.00/171k [00:00<?, ?B/s]"
      ]
     },
     "metadata": {},
     "output_type": "display_data"
    },
    {
     "data": {
      "application/vnd.jupyter.widget-view+json": {
       "model_id": "d7d4696fa8704f25aa9aab4530dd5fed",
       "version_major": 2,
       "version_minor": 0
      },
      "text/plain": [
       "min_Arab.parquet:   0%|          | 0.00/144k [00:00<?, ?B/s]"
      ]
     },
     "metadata": {},
     "output_type": "display_data"
    },
    {
     "data": {
      "application/vnd.jupyter.widget-view+json": {
       "model_id": "92eba40ec7ad46358f199c80bc71585e",
       "version_major": 2,
       "version_minor": 0
      },
      "text/plain": [
       "min_Latn.parquet:   0%|          | 0.00/118k [00:00<?, ?B/s]"
      ]
     },
     "metadata": {},
     "output_type": "display_data"
    },
    {
     "data": {
      "application/vnd.jupyter.widget-view+json": {
       "model_id": "ba5bb8a452cc4420b818049ee801b665",
       "version_major": 2,
       "version_minor": 0
      },
      "text/plain": [
       "mkd_Cyrl.parquet:   0%|          | 0.00/155k [00:00<?, ?B/s]"
      ]
     },
     "metadata": {},
     "output_type": "display_data"
    },
    {
     "data": {
      "application/vnd.jupyter.widget-view+json": {
       "model_id": "e76e096e2f7b4f5b9be214fdd646234a",
       "version_major": 2,
       "version_minor": 0
      },
      "text/plain": [
       "mos_Latn.parquet:   0%|          | 0.00/119k [00:00<?, ?B/s]"
      ]
     },
     "metadata": {},
     "output_type": "display_data"
    },
    {
     "data": {
      "application/vnd.jupyter.widget-view+json": {
       "model_id": "ef977c38145940e68b19f2b4709965f4",
       "version_major": 2,
       "version_minor": 0
      },
      "text/plain": [
       "mri_Latn.parquet:   0%|          | 0.00/117k [00:00<?, ?B/s]"
      ]
     },
     "metadata": {},
     "output_type": "display_data"
    },
    {
     "data": {
      "application/vnd.jupyter.widget-view+json": {
       "model_id": "611c3b0ea7bb4b5dab3ddf8ef2c76a85",
       "version_major": 2,
       "version_minor": 0
      },
      "text/plain": [
       "mya_Mymr.parquet:   0%|          | 0.00/193k [00:00<?, ?B/s]"
      ]
     },
     "metadata": {},
     "output_type": "display_data"
    },
    {
     "data": {
      "application/vnd.jupyter.widget-view+json": {
       "model_id": "3788dff9cd3a4126852e0163cc504330",
       "version_major": 2,
       "version_minor": 0
      },
      "text/plain": [
       "nob_Latn.parquet:   0%|          | 0.00/117k [00:00<?, ?B/s]"
      ]
     },
     "metadata": {},
     "output_type": "display_data"
    },
    {
     "data": {
      "application/vnd.jupyter.widget-view+json": {
       "model_id": "c8438dc2ee3b48e09a1453b0f380ca15",
       "version_major": 2,
       "version_minor": 0
      },
      "text/plain": [
       "nld_Latn.parquet:   0%|          | 0.00/126k [00:00<?, ?B/s]"
      ]
     },
     "metadata": {},
     "output_type": "display_data"
    },
    {
     "data": {
      "application/vnd.jupyter.widget-view+json": {
       "model_id": "b8dbfc34c55c4d4e9249d35c56ad90ca",
       "version_major": 2,
       "version_minor": 0
      },
      "text/plain": [
       "myv_Cyrl.parquet:   0%|          | 0.00/154k [00:00<?, ?B/s]"
      ]
     },
     "metadata": {},
     "output_type": "display_data"
    },
    {
     "data": {
      "application/vnd.jupyter.widget-view+json": {
       "model_id": "4345774e5cf54816b89fb6d53f787571",
       "version_major": 2,
       "version_minor": 0
      },
      "text/plain": [
       "nno_Latn.parquet:   0%|          | 0.00/120k [00:00<?, ?B/s]"
      ]
     },
     "metadata": {},
     "output_type": "display_data"
    },
    {
     "data": {
      "application/vnd.jupyter.widget-view+json": {
       "model_id": "0b8d60bb8b984ec0b002fecd29ab0376",
       "version_major": 2,
       "version_minor": 0
      },
      "text/plain": [
       "npi_Deva.parquet:   0%|          | 0.00/169k [00:00<?, ?B/s]"
      ]
     },
     "metadata": {},
     "output_type": "display_data"
    },
    {
     "data": {
      "application/vnd.jupyter.widget-view+json": {
       "model_id": "526fe1ae33fd49dc8a6c9ba3a8b57ef5",
       "version_major": 2,
       "version_minor": 0
      },
      "text/plain": [
       "nya_Latn.parquet:   0%|          | 0.00/122k [00:00<?, ?B/s]"
      ]
     },
     "metadata": {},
     "output_type": "display_data"
    },
    {
     "data": {
      "application/vnd.jupyter.widget-view+json": {
       "model_id": "8e98ceceec1d4470acdd44a5988c45cd",
       "version_major": 2,
       "version_minor": 0
      },
      "text/plain": [
       "nso_Latn.parquet:   0%|          | 0.00/124k [00:00<?, ?B/s]"
      ]
     },
     "metadata": {},
     "output_type": "display_data"
    },
    {
     "data": {
      "application/vnd.jupyter.widget-view+json": {
       "model_id": "c7df72124db24b87a1392891e389a052",
       "version_major": 2,
       "version_minor": 0
      },
      "text/plain": [
       "oci_Latn.parquet:   0%|          | 0.00/130k [00:00<?, ?B/s]"
      ]
     },
     "metadata": {},
     "output_type": "display_data"
    },
    {
     "data": {
      "application/vnd.jupyter.widget-view+json": {
       "model_id": "21627266d50e4ca6a6fb25adca9effa1",
       "version_major": 2,
       "version_minor": 0
      },
      "text/plain": [
       "oci_Latn_aran1260.parquet:   0%|          | 0.00/132k [00:00<?, ?B/s]"
      ]
     },
     "metadata": {},
     "output_type": "display_data"
    },
    {
     "data": {
      "application/vnd.jupyter.widget-view+json": {
       "model_id": "ea274ca42f654b9d91087822a72bbc7d",
       "version_major": 2,
       "version_minor": 0
      },
      "text/plain": [
       "nqo_Nkoo.parquet:   0%|          | 0.00/168k [00:00<?, ?B/s]"
      ]
     },
     "metadata": {},
     "output_type": "display_data"
    },
    {
     "data": {
      "application/vnd.jupyter.widget-view+json": {
       "model_id": "48509de67a1f407ea640857a1c192a83",
       "version_major": 2,
       "version_minor": 0
      },
      "text/plain": [
       "pag_Latn.parquet:   0%|          | 0.00/114k [00:00<?, ?B/s]"
      ]
     },
     "metadata": {},
     "output_type": "display_data"
    },
    {
     "data": {
      "application/vnd.jupyter.widget-view+json": {
       "model_id": "e9f5630f98264486837e14c285e411fd",
       "version_major": 2,
       "version_minor": 0
      },
      "text/plain": [
       "ory_Orya.parquet:   0%|          | 0.00/177k [00:00<?, ?B/s]"
      ]
     },
     "metadata": {},
     "output_type": "display_data"
    },
    {
     "data": {
      "application/vnd.jupyter.widget-view+json": {
       "model_id": "7fa49e82c38541ffbf2b25ea96496d9f",
       "version_major": 2,
       "version_minor": 0
      },
      "text/plain": [
       "nus_Latn.parquet:   0%|          | 0.00/128k [00:00<?, ?B/s]"
      ]
     },
     "metadata": {},
     "output_type": "display_data"
    },
    {
     "data": {
      "application/vnd.jupyter.widget-view+json": {
       "model_id": "1aa63b75d4b1408ea694436b029fc0f6",
       "version_major": 2,
       "version_minor": 0
      },
      "text/plain": [
       "pap_Latn.parquet:   0%|          | 0.00/121k [00:00<?, ?B/s]"
      ]
     },
     "metadata": {},
     "output_type": "display_data"
    },
    {
     "data": {
      "application/vnd.jupyter.widget-view+json": {
       "model_id": "3a9708255da04f5f97924bb50860929b",
       "version_major": 2,
       "version_minor": 0
      },
      "text/plain": [
       "pan_Guru.parquet:   0%|          | 0.00/172k [00:00<?, ?B/s]"
      ]
     },
     "metadata": {},
     "output_type": "display_data"
    },
    {
     "data": {
      "application/vnd.jupyter.widget-view+json": {
       "model_id": "6b744703345a47cf8cf02d2c27198a52",
       "version_major": 2,
       "version_minor": 0
      },
      "text/plain": [
       "pbt_Arab.parquet:   0%|          | 0.00/145k [00:00<?, ?B/s]"
      ]
     },
     "metadata": {},
     "output_type": "display_data"
    },
    {
     "data": {
      "application/vnd.jupyter.widget-view+json": {
       "model_id": "fc961553071b4dcb80aeb4c4a9fc1e16",
       "version_major": 2,
       "version_minor": 0
      },
      "text/plain": [
       "prs_Arab.parquet:   0%|          | 0.00/140k [00:00<?, ?B/s]"
      ]
     },
     "metadata": {},
     "output_type": "display_data"
    },
    {
     "data": {
      "application/vnd.jupyter.widget-view+json": {
       "model_id": "d3bd2d43fe0c4e11bac1fc1e52a145db",
       "version_major": 2,
       "version_minor": 0
      },
      "text/plain": [
       "pes_Arab.parquet:   0%|          | 0.00/145k [00:00<?, ?B/s]"
      ]
     },
     "metadata": {},
     "output_type": "display_data"
    },
    {
     "data": {
      "application/vnd.jupyter.widget-view+json": {
       "model_id": "be22aec965e34c0d906e157b6aa5cc77",
       "version_major": 2,
       "version_minor": 0
      },
      "text/plain": [
       "pol_Latn.parquet:   0%|          | 0.00/134k [00:00<?, ?B/s]"
      ]
     },
     "metadata": {},
     "output_type": "display_data"
    },
    {
     "data": {
      "application/vnd.jupyter.widget-view+json": {
       "model_id": "8100cb8e72cf40ffa272e531a42cec81",
       "version_major": 2,
       "version_minor": 0
      },
      "text/plain": [
       "plt_Latn.parquet:   0%|          | 0.00/124k [00:00<?, ?B/s]"
      ]
     },
     "metadata": {},
     "output_type": "display_data"
    },
    {
     "data": {
      "application/vnd.jupyter.widget-view+json": {
       "model_id": "f22674dce1ff48bfbf1568d3a7a8a48a",
       "version_major": 2,
       "version_minor": 0
      },
      "text/plain": [
       "por_Latn.parquet:   0%|          | 0.00/127k [00:00<?, ?B/s]"
      ]
     },
     "metadata": {},
     "output_type": "display_data"
    },
    {
     "data": {
      "application/vnd.jupyter.widget-view+json": {
       "model_id": "e44dd504bb2c4b22808b981bd1762bb8",
       "version_major": 2,
       "version_minor": 0
      },
      "text/plain": [
       "quy_Latn.parquet:   0%|          | 0.00/118k [00:00<?, ?B/s]"
      ]
     },
     "metadata": {},
     "output_type": "display_data"
    },
    {
     "data": {
      "application/vnd.jupyter.widget-view+json": {
       "model_id": "1ea3c2b375ca41bfb3020ff373457525",
       "version_major": 2,
       "version_minor": 0
      },
      "text/plain": [
       "run_Latn.parquet:   0%|          | 0.00/126k [00:00<?, ?B/s]"
      ]
     },
     "metadata": {},
     "output_type": "display_data"
    },
    {
     "data": {
      "application/vnd.jupyter.widget-view+json": {
       "model_id": "ffa46008f93941f4b8373ea429db9dd1",
       "version_major": 2,
       "version_minor": 0
      },
      "text/plain": [
       "rus_Cyrl.parquet:   0%|          | 0.00/167k [00:00<?, ?B/s]"
      ]
     },
     "metadata": {},
     "output_type": "display_data"
    },
    {
     "data": {
      "application/vnd.jupyter.widget-view+json": {
       "model_id": "1b46f429cc4d4ae4a3e8540ce744a7eb",
       "version_major": 2,
       "version_minor": 0
      },
      "text/plain": [
       "ron_Latn.parquet:   0%|          | 0.00/133k [00:00<?, ?B/s]"
      ]
     },
     "metadata": {},
     "output_type": "display_data"
    },
    {
     "data": {
      "application/vnd.jupyter.widget-view+json": {
       "model_id": "1120c13f5e5e446f84976e89233277e2",
       "version_major": 2,
       "version_minor": 0
      },
      "text/plain": [
       "sat_Olck.parquet:   0%|          | 0.00/170k [00:00<?, ?B/s]"
      ]
     },
     "metadata": {},
     "output_type": "display_data"
    },
    {
     "data": {
      "application/vnd.jupyter.widget-view+json": {
       "model_id": "c73884dad42845afa4bc6c1ed0eacc91",
       "version_major": 2,
       "version_minor": 0
      },
      "text/plain": [
       "sag_Latn.parquet:   0%|          | 0.00/111k [00:00<?, ?B/s]"
      ]
     },
     "metadata": {},
     "output_type": "display_data"
    },
    {
     "data": {
      "application/vnd.jupyter.widget-view+json": {
       "model_id": "dc8a8ffacfc9461b97939172d913fab3",
       "version_major": 2,
       "version_minor": 0
      },
      "text/plain": [
       "san_Deva.parquet:   0%|          | 0.00/171k [00:00<?, ?B/s]"
      ]
     },
     "metadata": {},
     "output_type": "display_data"
    },
    {
     "data": {
      "application/vnd.jupyter.widget-view+json": {
       "model_id": "3503d3c06235488086cf7af225105a52",
       "version_major": 2,
       "version_minor": 0
      },
      "text/plain": [
       "scn_Latn.parquet:   0%|          | 0.00/126k [00:00<?, ?B/s]"
      ]
     },
     "metadata": {},
     "output_type": "display_data"
    },
    {
     "data": {
      "application/vnd.jupyter.widget-view+json": {
       "model_id": "67595d208f9d4d80920af0993ad8a8be",
       "version_major": 2,
       "version_minor": 0
      },
      "text/plain": [
       "shn_Mymr.parquet:   0%|          | 0.00/223k [00:00<?, ?B/s]"
      ]
     },
     "metadata": {},
     "output_type": "display_data"
    },
    {
     "data": {
      "application/vnd.jupyter.widget-view+json": {
       "model_id": "1ba6aac0693946ce9a0521f6e6ead4f6",
       "version_major": 2,
       "version_minor": 0
      },
      "text/plain": [
       "sin_Sinh.parquet:   0%|          | 0.00/180k [00:00<?, ?B/s]"
      ]
     },
     "metadata": {},
     "output_type": "display_data"
    },
    {
     "data": {
      "application/vnd.jupyter.widget-view+json": {
       "model_id": "c063919293264345881c4d132e813507",
       "version_major": 2,
       "version_minor": 0
      },
      "text/plain": [
       "slv_Latn.parquet:   0%|          | 0.00/124k [00:00<?, ?B/s]"
      ]
     },
     "metadata": {},
     "output_type": "display_data"
    },
    {
     "data": {
      "application/vnd.jupyter.widget-view+json": {
       "model_id": "9dc2df7a8dba4cd7a467cf7b8effc4d6",
       "version_major": 2,
       "version_minor": 0
      },
      "text/plain": [
       "slk_Latn.parquet:   0%|          | 0.00/132k [00:00<?, ?B/s]"
      ]
     },
     "metadata": {},
     "output_type": "display_data"
    },
    {
     "data": {
      "application/vnd.jupyter.widget-view+json": {
       "model_id": "95c513cb3a364c53aefe0b601c88c808",
       "version_major": 2,
       "version_minor": 0
      },
      "text/plain": [
       "smo_Latn.parquet:   0%|          | 0.00/121k [00:00<?, ?B/s]"
      ]
     },
     "metadata": {},
     "output_type": "display_data"
    },
    {
     "data": {
      "application/vnd.jupyter.widget-view+json": {
       "model_id": "9fc9bc6c7d364185b14d1ed6f6e6b32f",
       "version_major": 2,
       "version_minor": 0
      },
      "text/plain": [
       "sna_Latn.parquet:   0%|          | 0.00/124k [00:00<?, ?B/s]"
      ]
     },
     "metadata": {},
     "output_type": "display_data"
    },
    {
     "data": {
      "application/vnd.jupyter.widget-view+json": {
       "model_id": "be17126013f14801a04c5c008a10b33e",
       "version_major": 2,
       "version_minor": 0
      },
      "text/plain": [
       "snd_Arab.parquet:   0%|          | 0.00/141k [00:00<?, ?B/s]"
      ]
     },
     "metadata": {},
     "output_type": "display_data"
    },
    {
     "data": {
      "application/vnd.jupyter.widget-view+json": {
       "model_id": "57cef53d47d74a5ebf1b3580fe99cadf",
       "version_major": 2,
       "version_minor": 0
      },
      "text/plain": [
       "som_Latn.parquet:   0%|          | 0.00/133k [00:00<?, ?B/s]"
      ]
     },
     "metadata": {},
     "output_type": "display_data"
    },
    {
     "data": {
      "application/vnd.jupyter.widget-view+json": {
       "model_id": "7c30c4e0b1914e249750acf99cba7315",
       "version_major": 2,
       "version_minor": 0
      },
      "text/plain": [
       "sot_Latn.parquet:   0%|          | 0.00/126k [00:00<?, ?B/s]"
      ]
     },
     "metadata": {},
     "output_type": "display_data"
    },
    {
     "data": {
      "application/vnd.jupyter.widget-view+json": {
       "model_id": "8fcfbf4bfa7049e0ab30c7eeba23d747",
       "version_major": 2,
       "version_minor": 0
      },
      "text/plain": [
       "ssw_Latn.parquet:   0%|          | 0.00/126k [00:00<?, ?B/s]"
      ]
     },
     "metadata": {},
     "output_type": "display_data"
    },
    {
     "data": {
      "application/vnd.jupyter.widget-view+json": {
       "model_id": "5c42a2e6a0f94f77be7ee70eb34bf79f",
       "version_major": 2,
       "version_minor": 0
      },
      "text/plain": [
       "spa_Latn.parquet:   0%|          | 0.00/134k [00:00<?, ?B/s]"
      ]
     },
     "metadata": {},
     "output_type": "display_data"
    },
    {
     "data": {
      "application/vnd.jupyter.widget-view+json": {
       "model_id": "0988cb21a9914f7fb3ab05409fe2f23e",
       "version_major": 2,
       "version_minor": 0
      },
      "text/plain": [
       "srd_Latn.parquet:   0%|          | 0.00/128k [00:00<?, ?B/s]"
      ]
     },
     "metadata": {},
     "output_type": "display_data"
    },
    {
     "data": {
      "application/vnd.jupyter.widget-view+json": {
       "model_id": "b7ce5a212adf428f9ee68eac1486d99e",
       "version_major": 2,
       "version_minor": 0
      },
      "text/plain": [
       "srp_Cyrl.parquet:   0%|          | 0.00/154k [00:00<?, ?B/s]"
      ]
     },
     "metadata": {},
     "output_type": "display_data"
    },
    {
     "data": {
      "application/vnd.jupyter.widget-view+json": {
       "model_id": "fdab32df135248b5b898e94e981196ff",
       "version_major": 2,
       "version_minor": 0
      },
      "text/plain": [
       "sun_Latn.parquet:   0%|          | 0.00/120k [00:00<?, ?B/s]"
      ]
     },
     "metadata": {},
     "output_type": "display_data"
    },
    {
     "data": {
      "application/vnd.jupyter.widget-view+json": {
       "model_id": "366bb039cd6f494793e83d9dce6b7b2c",
       "version_major": 2,
       "version_minor": 0
      },
      "text/plain": [
       "swe_Latn.parquet:   0%|          | 0.00/122k [00:00<?, ?B/s]"
      ]
     },
     "metadata": {},
     "output_type": "display_data"
    },
    {
     "data": {
      "application/vnd.jupyter.widget-view+json": {
       "model_id": "98d4eea5f90c416e8bd99f461580c1e6",
       "version_major": 2,
       "version_minor": 0
      },
      "text/plain": [
       "swh_Latn.parquet:   0%|          | 0.00/117k [00:00<?, ?B/s]"
      ]
     },
     "metadata": {},
     "output_type": "display_data"
    },
    {
     "data": {
      "application/vnd.jupyter.widget-view+json": {
       "model_id": "f221e0cdea684504a3fd2066d85263d8",
       "version_major": 2,
       "version_minor": 0
      },
      "text/plain": [
       "tam_Taml.parquet:   0%|          | 0.00/187k [00:00<?, ?B/s]"
      ]
     },
     "metadata": {},
     "output_type": "display_data"
    },
    {
     "data": {
      "application/vnd.jupyter.widget-view+json": {
       "model_id": "213e01fd76014d5aa0c21fbaa2e49546",
       "version_major": 2,
       "version_minor": 0
      },
      "text/plain": [
       "szl_Latn.parquet:   0%|          | 0.00/133k [00:00<?, ?B/s]"
      ]
     },
     "metadata": {},
     "output_type": "display_data"
    },
    {
     "data": {
      "application/vnd.jupyter.widget-view+json": {
       "model_id": "8e76f374ba094cc699c435dd9b700189",
       "version_major": 2,
       "version_minor": 0
      },
      "text/plain": [
       "taq_Latn.parquet:   0%|          | 0.00/120k [00:00<?, ?B/s]"
      ]
     },
     "metadata": {},
     "output_type": "display_data"
    },
    {
     "data": {
      "application/vnd.jupyter.widget-view+json": {
       "model_id": "9bd4376bf4da4deb89c4e00a371f1292",
       "version_major": 2,
       "version_minor": 0
      },
      "text/plain": [
       "tat_Cyrl.parquet:   0%|          | 0.00/154k [00:00<?, ?B/s]"
      ]
     },
     "metadata": {},
     "output_type": "display_data"
    },
    {
     "data": {
      "application/vnd.jupyter.widget-view+json": {
       "model_id": "663e879e0d52460fb90581ea03d60d7f",
       "version_major": 2,
       "version_minor": 0
      },
      "text/plain": [
       "taq_Tfng.parquet:   0%|          | 0.00/158k [00:00<?, ?B/s]"
      ]
     },
     "metadata": {},
     "output_type": "display_data"
    },
    {
     "data": {
      "application/vnd.jupyter.widget-view+json": {
       "model_id": "fa90a31edb73467b9b2c508cae8bc14f",
       "version_major": 2,
       "version_minor": 0
      },
      "text/plain": [
       "tgk_Cyrl.parquet:   0%|          | 0.00/163k [00:00<?, ?B/s]"
      ]
     },
     "metadata": {},
     "output_type": "display_data"
    },
    {
     "data": {
      "application/vnd.jupyter.widget-view+json": {
       "model_id": "e768c36b71704ac6b5ee36e01f22df66",
       "version_major": 2,
       "version_minor": 0
      },
      "text/plain": [
       "tel_Telu.parquet:   0%|          | 0.00/176k [00:00<?, ?B/s]"
      ]
     },
     "metadata": {},
     "output_type": "display_data"
    },
    {
     "data": {
      "application/vnd.jupyter.widget-view+json": {
       "model_id": "138fb6d6a1cc4a1585725feee7d640a6",
       "version_major": 2,
       "version_minor": 0
      },
      "text/plain": [
       "tha_Thai.parquet:   0%|          | 0.00/180k [00:00<?, ?B/s]"
      ]
     },
     "metadata": {},
     "output_type": "display_data"
    },
    {
     "data": {
      "application/vnd.jupyter.widget-view+json": {
       "model_id": "d376a90a0a8242a3ac229a52b337ed01",
       "version_major": 2,
       "version_minor": 0
      },
      "text/plain": [
       "tpi_Latn.parquet:   0%|          | 0.00/117k [00:00<?, ?B/s]"
      ]
     },
     "metadata": {},
     "output_type": "display_data"
    },
    {
     "data": {
      "application/vnd.jupyter.widget-view+json": {
       "model_id": "d04979f307284d7494794c3baa8c637b",
       "version_major": 2,
       "version_minor": 0
      },
      "text/plain": [
       "tir_Ethi.parquet:   0%|          | 0.00/155k [00:00<?, ?B/s]"
      ]
     },
     "metadata": {},
     "output_type": "display_data"
    },
    {
     "data": {
      "application/vnd.jupyter.widget-view+json": {
       "model_id": "aba797ba0996498ba958f318447c4107",
       "version_major": 2,
       "version_minor": 0
      },
      "text/plain": [
       "tso_Latn.parquet:   0%|          | 0.00/124k [00:00<?, ?B/s]"
      ]
     },
     "metadata": {},
     "output_type": "display_data"
    },
    {
     "data": {
      "application/vnd.jupyter.widget-view+json": {
       "model_id": "df94f9b59f284aa89a3e17eed4b74e3a",
       "version_major": 2,
       "version_minor": 0
      },
      "text/plain": [
       "tsn_Latn.parquet:   0%|          | 0.00/130k [00:00<?, ?B/s]"
      ]
     },
     "metadata": {},
     "output_type": "display_data"
    },
    {
     "data": {
      "application/vnd.jupyter.widget-view+json": {
       "model_id": "565ed399e24548398456d69bd88df576",
       "version_major": 2,
       "version_minor": 0
      },
      "text/plain": [
       "tum_Latn.parquet:   0%|          | 0.00/130k [00:00<?, ?B/s]"
      ]
     },
     "metadata": {},
     "output_type": "display_data"
    },
    {
     "data": {
      "application/vnd.jupyter.widget-view+json": {
       "model_id": "7bb6896c454b43cd81ceb13856c9f150",
       "version_major": 2,
       "version_minor": 0
      },
      "text/plain": [
       "tuk_Latn.parquet:   0%|          | 0.00/127k [00:00<?, ?B/s]"
      ]
     },
     "metadata": {},
     "output_type": "display_data"
    },
    {
     "data": {
      "application/vnd.jupyter.widget-view+json": {
       "model_id": "0fffdcbd770c4602b14fed51bad30f5c",
       "version_major": 2,
       "version_minor": 0
      },
      "text/plain": [
       "twi_Latn_asan1239.parquet:   0%|          | 0.00/119k [00:00<?, ?B/s]"
      ]
     },
     "metadata": {},
     "output_type": "display_data"
    },
    {
     "data": {
      "application/vnd.jupyter.widget-view+json": {
       "model_id": "b20f28089a4942b791a302bf66d38320",
       "version_major": 2,
       "version_minor": 0
      },
      "text/plain": [
       "twi_Latn_akua1239.parquet:   0%|          | 0.00/116k [00:00<?, ?B/s]"
      ]
     },
     "metadata": {},
     "output_type": "display_data"
    },
    {
     "data": {
      "application/vnd.jupyter.widget-view+json": {
       "model_id": "1ecd60b1f6be4aacad5b8e5b8ab6dce9",
       "version_major": 2,
       "version_minor": 0
      },
      "text/plain": [
       "tur_Latn.parquet:   0%|          | 0.00/126k [00:00<?, ?B/s]"
      ]
     },
     "metadata": {},
     "output_type": "display_data"
    },
    {
     "data": {
      "application/vnd.jupyter.widget-view+json": {
       "model_id": "33fb50984cc44a7cbee5d08774055919",
       "version_major": 2,
       "version_minor": 0
      },
      "text/plain": [
       "uig_Arab.parquet:   0%|          | 0.00/157k [00:00<?, ?B/s]"
      ]
     },
     "metadata": {},
     "output_type": "display_data"
    },
    {
     "data": {
      "application/vnd.jupyter.widget-view+json": {
       "model_id": "674e0a2dcca448bb9d6e5c9166f153be",
       "version_major": 2,
       "version_minor": 0
      },
      "text/plain": [
       "tyv_Cyrl.parquet:   0%|          | 0.00/163k [00:00<?, ?B/s]"
      ]
     },
     "metadata": {},
     "output_type": "display_data"
    },
    {
     "data": {
      "application/vnd.jupyter.widget-view+json": {
       "model_id": "4b1eacafe29b46be876f62ecd13a8ede",
       "version_major": 2,
       "version_minor": 0
      },
      "text/plain": [
       "ukr_Cyrl.parquet:   0%|          | 0.00/162k [00:00<?, ?B/s]"
      ]
     },
     "metadata": {},
     "output_type": "display_data"
    },
    {
     "data": {
      "application/vnd.jupyter.widget-view+json": {
       "model_id": "5d993880b5984151b443281d2cda6baa",
       "version_major": 2,
       "version_minor": 0
      },
      "text/plain": [
       "umb_Latn.parquet:   0%|          | 0.00/115k [00:00<?, ?B/s]"
      ]
     },
     "metadata": {},
     "output_type": "display_data"
    },
    {
     "data": {
      "application/vnd.jupyter.widget-view+json": {
       "model_id": "1f1368426706420fa19bc0b5adf4e721",
       "version_major": 2,
       "version_minor": 0
      },
      "text/plain": [
       "urd_Arab.parquet:   0%|          | 0.00/151k [00:00<?, ?B/s]"
      ]
     },
     "metadata": {},
     "output_type": "display_data"
    },
    {
     "data": {
      "application/vnd.jupyter.widget-view+json": {
       "model_id": "2b6b50ec3e054b3eb4ddb5a8d8d0d22e",
       "version_major": 2,
       "version_minor": 0
      },
      "text/plain": [
       "uzn_Latn.parquet:   0%|          | 0.00/125k [00:00<?, ?B/s]"
      ]
     },
     "metadata": {},
     "output_type": "display_data"
    },
    {
     "data": {
      "application/vnd.jupyter.widget-view+json": {
       "model_id": "1318a20b6b374ef098cae8cab7dd3635",
       "version_major": 2,
       "version_minor": 0
      },
      "text/plain": [
       "vie_Latn.parquet:   0%|          | 0.00/133k [00:00<?, ?B/s]"
      ]
     },
     "metadata": {},
     "output_type": "display_data"
    },
    {
     "data": {
      "application/vnd.jupyter.widget-view+json": {
       "model_id": "82df0460b125407c84e4f2d2e93c237c",
       "version_major": 2,
       "version_minor": 0
      },
      "text/plain": [
       "war_Latn.parquet:   0%|          | 0.00/128k [00:00<?, ?B/s]"
      ]
     },
     "metadata": {},
     "output_type": "display_data"
    },
    {
     "data": {
      "application/vnd.jupyter.widget-view+json": {
       "model_id": "f6acbda85330459bb19df250e0112109",
       "version_major": 2,
       "version_minor": 0
      },
      "text/plain": [
       "vec_Latn.parquet:   0%|          | 0.00/123k [00:00<?, ?B/s]"
      ]
     },
     "metadata": {},
     "output_type": "display_data"
    },
    {
     "data": {
      "application/vnd.jupyter.widget-view+json": {
       "model_id": "f91e08af66f8442b98f0f31a47f75f60",
       "version_major": 2,
       "version_minor": 0
      },
      "text/plain": [
       "vmw_Latn.parquet:   0%|          | 0.00/129k [00:00<?, ?B/s]"
      ]
     },
     "metadata": {},
     "output_type": "display_data"
    },
    {
     "data": {
      "application/vnd.jupyter.widget-view+json": {
       "model_id": "00a48a171e604236935568a54b2bceef",
       "version_major": 2,
       "version_minor": 0
      },
      "text/plain": [
       "yue_Hant.parquet:   0%|          | 0.00/115k [00:00<?, ?B/s]"
      ]
     },
     "metadata": {},
     "output_type": "display_data"
    },
    {
     "data": {
      "application/vnd.jupyter.widget-view+json": {
       "model_id": "2f5fb2e6495f430c90bf0cee52de30fd",
       "version_major": 2,
       "version_minor": 0
      },
      "text/plain": [
       "wol_Latn.parquet:   0%|          | 0.00/123k [00:00<?, ?B/s]"
      ]
     },
     "metadata": {},
     "output_type": "display_data"
    },
    {
     "data": {
      "application/vnd.jupyter.widget-view+json": {
       "model_id": "b57059d028a842548ebf564856bbd93a",
       "version_major": 2,
       "version_minor": 0
      },
      "text/plain": [
       "xho_Latn.parquet:   0%|          | 0.00/125k [00:00<?, ?B/s]"
      ]
     },
     "metadata": {},
     "output_type": "display_data"
    },
    {
     "data": {
      "application/vnd.jupyter.widget-view+json": {
       "model_id": "28a9c0ffcf90487bae797364d7a37e35",
       "version_major": 2,
       "version_minor": 0
      },
      "text/plain": [
       "ydd_Hebr.parquet:   0%|          | 0.00/153k [00:00<?, ?B/s]"
      ]
     },
     "metadata": {},
     "output_type": "display_data"
    },
    {
     "data": {
      "application/vnd.jupyter.widget-view+json": {
       "model_id": "ac2f819ea9ef4432a3f6d2d51f33b2ee",
       "version_major": 2,
       "version_minor": 0
      },
      "text/plain": [
       "zgh_Tfng.parquet:   0%|          | 0.00/160k [00:00<?, ?B/s]"
      ]
     },
     "metadata": {},
     "output_type": "display_data"
    },
    {
     "data": {
      "application/vnd.jupyter.widget-view+json": {
       "model_id": "6e4ff93d0387445e9ce8cab211f3f282",
       "version_major": 2,
       "version_minor": 0
      },
      "text/plain": [
       "zsm_Latn.parquet:   0%|          | 0.00/119k [00:00<?, ?B/s]"
      ]
     },
     "metadata": {},
     "output_type": "display_data"
    },
    {
     "data": {
      "application/vnd.jupyter.widget-view+json": {
       "model_id": "3a50268fd7044426a88eadea8dbf49ba",
       "version_major": 2,
       "version_minor": 0
      },
      "text/plain": [
       "yor_Latn.parquet:   0%|          | 0.00/135k [00:00<?, ?B/s]"
      ]
     },
     "metadata": {},
     "output_type": "display_data"
    },
    {
     "data": {
      "application/vnd.jupyter.widget-view+json": {
       "model_id": "19b3ffecb07a4d6d86ecb15ac168db15",
       "version_major": 2,
       "version_minor": 0
      },
      "text/plain": [
       "zul_Latn.parquet:   0%|          | 0.00/126k [00:00<?, ?B/s]"
      ]
     },
     "metadata": {},
     "output_type": "display_data"
    },
    {
     "data": {
      "application/vnd.jupyter.widget-view+json": {
       "model_id": "a83ced94a9e549a7a38ec3c3db688eb5",
       "version_major": 2,
       "version_minor": 0
      },
      "text/plain": [
       "Generating dev split:   0%|          | 0/217346 [00:00<?, ? examples/s]"
      ]
     },
     "metadata": {},
     "output_type": "display_data"
    },
    {
     "data": {
      "application/vnd.jupyter.widget-view+json": {
       "model_id": "3dcda2198d8e4029bfe1d989c7078d56",
       "version_major": 2,
       "version_minor": 0
      },
      "text/plain": [
       "Generating devtest split:   0%|          | 0/215556 [00:00<?, ? examples/s]"
      ]
     },
     "metadata": {},
     "output_type": "display_data"
    }
   ],
   "source": [
    "# Load FLORES dataset and convert to Pandas DataFrame\n",
    "flores_plus_dev = load_dataset(\"openlanguagedata/flores_plus\", split='dev').to_pandas()\n",
    "flores_plus_dev = flores_plus_dev.rename(columns={'iso_15924': 'language'})"
   ]
  },
  {
   "cell_type": "code",
   "execution_count": 11,
   "metadata": {},
   "outputs": [],
   "source": [
    "# Clean and prepare text data\n",
    "def clean_texts(ids, texts):\n",
    "    cleaned_ids = []\n",
    "    cleaned_texts = []\n",
    "    for id_, text in zip(ids, texts):\n",
    "        if isinstance(text, str) and text.strip():\n",
    "            cleaned_ids.append(id_)\n",
    "            cleaned_texts.append(text)\n",
    "    return cleaned_ids, cleaned_texts"
   ]
  },
  {
   "cell_type": "code",
   "execution_count": 12,
   "metadata": {},
   "outputs": [],
   "source": [
    "# Function to compute fertility for a single text\n",
    "def fertility(text, tokenizer):\n",
    "    tokenized = tokenizer.tokenize(text)\n",
    "    num_words = len(text.split())\n",
    "    fertility_score = len(tokenized) / num_words if num_words > 0 else 0\n",
    "    return fertility_score, tokenized"
   ]
  },
  {
   "cell_type": "code",
   "execution_count": 13,
   "metadata": {},
   "outputs": [],
   "source": [
    "# Parallel processing function\n",
    "def parallel_fertility_batches(texts, tokenizer, batch_size=32, n_jobs=-1):\n",
    "    def process_batch(batch):\n",
    "        return [fertility(text, tokenizer) for text in batch]\n",
    "    \n",
    "    # Split texts into batches\n",
    "    batches = [texts[i:i+batch_size] for i in range(0, len(texts), batch_size)]\n",
    "    results = Parallel(n_jobs=n_jobs)(\n",
    "        delayed(process_batch)(batch) for batch in batches\n",
    "    )\n",
    "    \n",
    "    # Flatten results\n",
    "    fertility_scores = []\n",
    "    tokenized_texts = []\n",
    "    for batch_results in results:\n",
    "        for score, tokens in batch_results:\n",
    "            fertility_scores.append(score)\n",
    "            tokenized_texts.append(tokens)\n",
    "    return fertility_scores, tokenized_texts"
   ]
  },
  {
   "cell_type": "code",
   "execution_count": 19,
   "metadata": {},
   "outputs": [],
   "source": [
    "# Function to load cached data if available\n",
    "def load_cached_results(csv_name):\n",
    "    if os.path.exists(csv_name):\n",
    "        print(f\"Loading cached results from {csv_name}\")\n",
    "        return pd.read_csv(csv_name)\n",
    "    return None\n",
    "\n",
    "# Function to save intermediate results\n",
    "def save_results_to_cache(dataframe, csv_name):\n",
    "    dataframe.to_csv(csv_name, index=False)\n",
    "    print(f\"Cached results saved to {csv_name}\")\n",
    "\n",
    "# Function to process fertility\n",
    "def process_model(model_name, name_for_csv, tokenizer, ids, texts):\n",
    "    # Clean and prepare text data\n",
    "    cleaned_ids, cleaned_texts = clean_texts(ids, texts)\n",
    "\n",
    "    # Compute fertility scores and tokenized texts\n",
    "    fertility_scores, tokenized_texts = parallel_fertility_batches(\n",
    "        cleaned_texts, tokenizer, batch_size=32, n_jobs=-1\n",
    "    )\n",
    "\n",
    "    # Create DataFrame\n",
    "    output_df = pd.DataFrame({\n",
    "        'id': cleaned_ids,\n",
    "        'text': cleaned_texts,\n",
    "        'fertility_score': fertility_scores,\n",
    "        'tokens': tokenized_texts  # Keep tokens as a list\n",
    "    })\n",
    "    return output_df"
   ]
  },
  {
   "cell_type": "code",
   "execution_count": 26,
   "metadata": {},
   "outputs": [
    {
     "name": "stdout",
     "output_type": "stream",
     "text": [
      "GPU Available: False\n",
      "Using CPU.\n"
     ]
    }
   ],
   "source": [
    "# Check if GPU is available\n",
    "print(\"GPU Available:\", torch.cuda.is_available())\n",
    "\n",
    "# If GPU is available, show GPU details\n",
    "if torch.cuda.is_available():\n",
    "    print(\"GPU Name:\", torch.cuda.get_device_name(0))\n",
    "    print(\"Number of GPUs:\", torch.cuda.device_count())\n",
    "else:\n",
    "    print(\"Using CPU.\")\n"
   ]
  },
  {
   "cell_type": "code",
   "execution_count": 23,
   "metadata": {},
   "outputs": [],
   "source": [
    "# List of models for tokenization\n",
    "models = [\n",
    "    {\"name\": \"google/flan-t5-xxl\", \"csv_name\": \"flan-t5-xxl\"},\n",
    "    {\"name\": \"bigscience/mt0-xxl\", \"csv_name\": \"mt0-xxl\"},\n",
    "    {\"name\": \"bigscience/bloom-7b1\", \"csv_name\": \"bloom-7b\"},\n",
    "    {\"name\": \"meta-llama/Llama-2-7b\", \"csv_name\": \"llama-2-7b\"},\n",
    "    {\"name\": \"bert-base-multilingual-cased\", \"csv_name\": \"mBERT\"},\n",
    "    {\"name\": \"QwQ-32B-Preview\", \"csv_name\": \"qwq-32b-preview\"}\n",
    "]"
   ]
  },
  {
   "cell_type": "code",
   "execution_count": null,
   "metadata": {},
   "outputs": [
    {
     "name": "stdout",
     "output_type": "stream",
     "text": [
      "Processing models:\n"
     ]
    },
    {
     "name": "stderr",
     "output_type": "stream",
     "text": [
      "Model Progress:   0%|          | 0/6 [00:00<?, ?model/s]"
     ]
    },
    {
     "name": "stdout",
     "output_type": "stream",
     "text": [
      "Loading cached results from flores_fertilized_and_tokenized_with_flan-t5-xxl.csv\n"
     ]
    },
    {
     "name": "stderr",
     "output_type": "stream",
     "text": [
      "Model Progress:  17%|█▋        | 1/6 [00:02<00:13,  2.64s/model]"
     ]
    },
    {
     "name": "stdout",
     "output_type": "stream",
     "text": [
      "Skipped google/flan-t5-xxl (cached results found).\n",
      "Loading tokenizer for bigscience/mt0-xxl...\n"
     ]
    },
    {
     "name": "stderr",
     "output_type": "stream",
     "text": [
      "Model Progress:  17%|█▋        | 1/6 [00:04<00:13,  2.64s/model]"
     ]
    },
    {
     "name": "stdout",
     "output_type": "stream",
     "text": [
      "Processing bigscience/mt0-xxl...\n"
     ]
    },
    {
     "name": "stderr",
     "output_type": "stream",
     "text": [
      "Model Progress:  17%|█▋        | 1/6 [04:40<23:21, 280.34s/model]\n"
     ]
    },
    {
     "ename": "KeyboardInterrupt",
     "evalue": "",
     "output_type": "error",
     "traceback": [
      "\u001b[1;31m---------------------------------------------------------------------------\u001b[0m",
      "\u001b[1;31mKeyboardInterrupt\u001b[0m                         Traceback (most recent call last)",
      "Cell \u001b[1;32mIn[24], line 28\u001b[0m\n\u001b[0;32m     26\u001b[0m raw_texts \u001b[38;5;241m=\u001b[39m flores_plus_dev[\u001b[38;5;124m'\u001b[39m\u001b[38;5;124mtext\u001b[39m\u001b[38;5;124m'\u001b[39m]\u001b[38;5;241m.\u001b[39mtolist()\n\u001b[0;32m     27\u001b[0m tqdm\u001b[38;5;241m.\u001b[39mwrite(\u001b[38;5;124mf\u001b[39m\u001b[38;5;124m\"\u001b[39m\u001b[38;5;124mProcessing \u001b[39m\u001b[38;5;132;01m{\u001b[39;00mmodel_name\u001b[38;5;132;01m}\u001b[39;00m\u001b[38;5;124m...\u001b[39m\u001b[38;5;124m\"\u001b[39m)\n\u001b[1;32m---> 28\u001b[0m output_df \u001b[38;5;241m=\u001b[39m \u001b[43mprocess_model\u001b[49m\u001b[43m(\u001b[49m\u001b[43mmodel_name\u001b[49m\u001b[43m,\u001b[49m\u001b[43m \u001b[49m\u001b[43mname_for_csv\u001b[49m\u001b[43m,\u001b[49m\u001b[43m \u001b[49m\u001b[43mtokenizer\u001b[49m\u001b[43m,\u001b[49m\u001b[43m \u001b[49m\u001b[43mids\u001b[49m\u001b[43m,\u001b[49m\u001b[43m \u001b[49m\u001b[43mraw_texts\u001b[49m\u001b[43m)\u001b[49m\n\u001b[0;32m     30\u001b[0m \u001b[38;5;66;03m# Save results to cache\u001b[39;00m\n\u001b[0;32m     31\u001b[0m tqdm\u001b[38;5;241m.\u001b[39mwrite(\u001b[38;5;124mf\u001b[39m\u001b[38;5;124m\"\u001b[39m\u001b[38;5;124mSaving results for \u001b[39m\u001b[38;5;132;01m{\u001b[39;00mmodel_name\u001b[38;5;132;01m}\u001b[39;00m\u001b[38;5;124m...\u001b[39m\u001b[38;5;124m\"\u001b[39m)\n",
      "Cell \u001b[1;32mIn[19], line 19\u001b[0m, in \u001b[0;36mprocess_model\u001b[1;34m(model_name, name_for_csv, tokenizer, ids, texts)\u001b[0m\n\u001b[0;32m     16\u001b[0m cleaned_ids, cleaned_texts \u001b[38;5;241m=\u001b[39m clean_texts(ids, texts)\n\u001b[0;32m     18\u001b[0m \u001b[38;5;66;03m# Compute fertility scores and tokenized texts\u001b[39;00m\n\u001b[1;32m---> 19\u001b[0m fertility_scores, tokenized_texts \u001b[38;5;241m=\u001b[39m \u001b[43mparallel_fertility_batches\u001b[49m\u001b[43m(\u001b[49m\n\u001b[0;32m     20\u001b[0m \u001b[43m    \u001b[49m\u001b[43mcleaned_texts\u001b[49m\u001b[43m,\u001b[49m\u001b[43m \u001b[49m\u001b[43mtokenizer\u001b[49m\u001b[43m,\u001b[49m\u001b[43m \u001b[49m\u001b[43mbatch_size\u001b[49m\u001b[38;5;241;43m=\u001b[39;49m\u001b[38;5;241;43m32\u001b[39;49m\u001b[43m,\u001b[49m\u001b[43m \u001b[49m\u001b[43mn_jobs\u001b[49m\u001b[38;5;241;43m=\u001b[39;49m\u001b[38;5;241;43m-\u001b[39;49m\u001b[38;5;241;43m1\u001b[39;49m\n\u001b[0;32m     21\u001b[0m \u001b[43m\u001b[49m\u001b[43m)\u001b[49m\n\u001b[0;32m     23\u001b[0m \u001b[38;5;66;03m# Create DataFrame\u001b[39;00m\n\u001b[0;32m     24\u001b[0m output_df \u001b[38;5;241m=\u001b[39m pd\u001b[38;5;241m.\u001b[39mDataFrame({\n\u001b[0;32m     25\u001b[0m     \u001b[38;5;124m'\u001b[39m\u001b[38;5;124mid\u001b[39m\u001b[38;5;124m'\u001b[39m: cleaned_ids,\n\u001b[0;32m     26\u001b[0m     \u001b[38;5;124m'\u001b[39m\u001b[38;5;124mtext\u001b[39m\u001b[38;5;124m'\u001b[39m: cleaned_texts,\n\u001b[0;32m     27\u001b[0m     \u001b[38;5;124m'\u001b[39m\u001b[38;5;124mfertility_score\u001b[39m\u001b[38;5;124m'\u001b[39m: fertility_scores,\n\u001b[0;32m     28\u001b[0m     \u001b[38;5;124m'\u001b[39m\u001b[38;5;124mtokens\u001b[39m\u001b[38;5;124m'\u001b[39m: tokenized_texts  \u001b[38;5;66;03m# Keep tokens as a list\u001b[39;00m\n\u001b[0;32m     29\u001b[0m })\n",
      "Cell \u001b[1;32mIn[13], line 8\u001b[0m, in \u001b[0;36mparallel_fertility_batches\u001b[1;34m(texts, tokenizer, batch_size, n_jobs)\u001b[0m\n\u001b[0;32m      6\u001b[0m \u001b[38;5;66;03m# Split texts into batches\u001b[39;00m\n\u001b[0;32m      7\u001b[0m batches \u001b[38;5;241m=\u001b[39m [texts[i:i\u001b[38;5;241m+\u001b[39mbatch_size] \u001b[38;5;28;01mfor\u001b[39;00m i \u001b[38;5;129;01min\u001b[39;00m \u001b[38;5;28mrange\u001b[39m(\u001b[38;5;241m0\u001b[39m, \u001b[38;5;28mlen\u001b[39m(texts), batch_size)]\n\u001b[1;32m----> 8\u001b[0m results \u001b[38;5;241m=\u001b[39m \u001b[43mParallel\u001b[49m\u001b[43m(\u001b[49m\u001b[43mn_jobs\u001b[49m\u001b[38;5;241;43m=\u001b[39;49m\u001b[43mn_jobs\u001b[49m\u001b[43m)\u001b[49m\u001b[43m(\u001b[49m\n\u001b[0;32m      9\u001b[0m \u001b[43m    \u001b[49m\u001b[43mdelayed\u001b[49m\u001b[43m(\u001b[49m\u001b[43mprocess_batch\u001b[49m\u001b[43m)\u001b[49m\u001b[43m(\u001b[49m\u001b[43mbatch\u001b[49m\u001b[43m)\u001b[49m\u001b[43m \u001b[49m\u001b[38;5;28;43;01mfor\u001b[39;49;00m\u001b[43m \u001b[49m\u001b[43mbatch\u001b[49m\u001b[43m \u001b[49m\u001b[38;5;129;43;01min\u001b[39;49;00m\u001b[43m \u001b[49m\u001b[43mbatches\u001b[49m\n\u001b[0;32m     10\u001b[0m \u001b[43m\u001b[49m\u001b[43m)\u001b[49m\n\u001b[0;32m     12\u001b[0m \u001b[38;5;66;03m# Flatten results\u001b[39;00m\n\u001b[0;32m     13\u001b[0m fertility_scores \u001b[38;5;241m=\u001b[39m []\n",
      "File \u001b[1;32mc:\\Users\\guoha\\AppData\\Local\\Programs\\Python\\Python312\\Lib\\site-packages\\joblib\\parallel.py:2007\u001b[0m, in \u001b[0;36mParallel.__call__\u001b[1;34m(self, iterable)\u001b[0m\n\u001b[0;32m   2001\u001b[0m \u001b[38;5;66;03m# The first item from the output is blank, but it makes the interpreter\u001b[39;00m\n\u001b[0;32m   2002\u001b[0m \u001b[38;5;66;03m# progress until it enters the Try/Except block of the generator and\u001b[39;00m\n\u001b[0;32m   2003\u001b[0m \u001b[38;5;66;03m# reaches the first `yield` statement. This starts the asynchronous\u001b[39;00m\n\u001b[0;32m   2004\u001b[0m \u001b[38;5;66;03m# dispatch of the tasks to the workers.\u001b[39;00m\n\u001b[0;32m   2005\u001b[0m \u001b[38;5;28mnext\u001b[39m(output)\n\u001b[1;32m-> 2007\u001b[0m \u001b[38;5;28;01mreturn\u001b[39;00m output \u001b[38;5;28;01mif\u001b[39;00m \u001b[38;5;28mself\u001b[39m\u001b[38;5;241m.\u001b[39mreturn_generator \u001b[38;5;28;01melse\u001b[39;00m \u001b[38;5;28;43mlist\u001b[39;49m\u001b[43m(\u001b[49m\u001b[43moutput\u001b[49m\u001b[43m)\u001b[49m\n",
      "File \u001b[1;32mc:\\Users\\guoha\\AppData\\Local\\Programs\\Python\\Python312\\Lib\\site-packages\\joblib\\parallel.py:1650\u001b[0m, in \u001b[0;36mParallel._get_outputs\u001b[1;34m(self, iterator, pre_dispatch)\u001b[0m\n\u001b[0;32m   1647\u001b[0m     \u001b[38;5;28;01myield\u001b[39;00m\n\u001b[0;32m   1649\u001b[0m     \u001b[38;5;28;01mwith\u001b[39;00m \u001b[38;5;28mself\u001b[39m\u001b[38;5;241m.\u001b[39m_backend\u001b[38;5;241m.\u001b[39mretrieval_context():\n\u001b[1;32m-> 1650\u001b[0m         \u001b[38;5;28;01myield from\u001b[39;00m \u001b[38;5;28mself\u001b[39m\u001b[38;5;241m.\u001b[39m_retrieve()\n\u001b[0;32m   1652\u001b[0m \u001b[38;5;28;01mexcept\u001b[39;00m \u001b[38;5;167;01mGeneratorExit\u001b[39;00m:\n\u001b[0;32m   1653\u001b[0m     \u001b[38;5;66;03m# The generator has been garbage collected before being fully\u001b[39;00m\n\u001b[0;32m   1654\u001b[0m     \u001b[38;5;66;03m# consumed. This aborts the remaining tasks if possible and warn\u001b[39;00m\n\u001b[0;32m   1655\u001b[0m     \u001b[38;5;66;03m# the user if necessary.\u001b[39;00m\n\u001b[0;32m   1656\u001b[0m     \u001b[38;5;28mself\u001b[39m\u001b[38;5;241m.\u001b[39m_exception \u001b[38;5;241m=\u001b[39m \u001b[38;5;28;01mTrue\u001b[39;00m\n",
      "File \u001b[1;32mc:\\Users\\guoha\\AppData\\Local\\Programs\\Python\\Python312\\Lib\\site-packages\\joblib\\parallel.py:1762\u001b[0m, in \u001b[0;36mParallel._retrieve\u001b[1;34m(self)\u001b[0m\n\u001b[0;32m   1757\u001b[0m \u001b[38;5;66;03m# If the next job is not ready for retrieval yet, we just wait for\u001b[39;00m\n\u001b[0;32m   1758\u001b[0m \u001b[38;5;66;03m# async callbacks to progress.\u001b[39;00m\n\u001b[0;32m   1759\u001b[0m \u001b[38;5;28;01mif\u001b[39;00m ((\u001b[38;5;28mlen\u001b[39m(\u001b[38;5;28mself\u001b[39m\u001b[38;5;241m.\u001b[39m_jobs) \u001b[38;5;241m==\u001b[39m \u001b[38;5;241m0\u001b[39m) \u001b[38;5;129;01mor\u001b[39;00m\n\u001b[0;32m   1760\u001b[0m     (\u001b[38;5;28mself\u001b[39m\u001b[38;5;241m.\u001b[39m_jobs[\u001b[38;5;241m0\u001b[39m]\u001b[38;5;241m.\u001b[39mget_status(\n\u001b[0;32m   1761\u001b[0m         timeout\u001b[38;5;241m=\u001b[39m\u001b[38;5;28mself\u001b[39m\u001b[38;5;241m.\u001b[39mtimeout) \u001b[38;5;241m==\u001b[39m TASK_PENDING)):\n\u001b[1;32m-> 1762\u001b[0m     \u001b[43mtime\u001b[49m\u001b[38;5;241;43m.\u001b[39;49m\u001b[43msleep\u001b[49m\u001b[43m(\u001b[49m\u001b[38;5;241;43m0.01\u001b[39;49m\u001b[43m)\u001b[49m\n\u001b[0;32m   1763\u001b[0m     \u001b[38;5;28;01mcontinue\u001b[39;00m\n\u001b[0;32m   1765\u001b[0m \u001b[38;5;66;03m# We need to be careful: the job list can be filling up as\u001b[39;00m\n\u001b[0;32m   1766\u001b[0m \u001b[38;5;66;03m# we empty it and Python list are not thread-safe by\u001b[39;00m\n\u001b[0;32m   1767\u001b[0m \u001b[38;5;66;03m# default hence the use of the lock\u001b[39;00m\n",
      "\u001b[1;31mKeyboardInterrupt\u001b[0m: "
     ]
    }
   ],
   "source": [
    "# Start processing\n",
    "start_time = time.time()\n",
    "\n",
    "# Add progress bar for models\n",
    "print(\"Processing models:\")\n",
    "for model_info in tqdm(models, desc=\"Model Progress\", unit=\"model\"):\n",
    "    model_name = model_info[\"name\"]\n",
    "    name_for_csv = f\"flores_fertilized_and_tokenized_with_{model_info['csv_name']}.csv\"\n",
    "    \n",
    "    # Check if results are cached\n",
    "    cached_results = load_cached_results(name_for_csv)\n",
    "    if cached_results is not None:\n",
    "        tqdm.write(f\"Skipped {model_name} (cached results found).\")\n",
    "        continue\n",
    "\n",
    "    try:\n",
    "        # Load tokenizer\n",
    "        tqdm.write(f\"Loading tokenizer for {model_name}...\")\n",
    "        tokenizer = AutoTokenizer.from_pretrained(model_name, token=True)\n",
    "        model = AutoModel.from_pretrained(model_name).to(\"cuda\")\n",
    "    except OSError as e:\n",
    "        tqdm.write(f\"Error loading model {model_name}: {e}\")\n",
    "        continue\n",
    "\n",
    "    # Clean and prepare text and ID data\n",
    "    ids = flores_plus_dev['id'].tolist()\n",
    "    raw_texts = flores_plus_dev['text'].tolist()\n",
    "    tqdm.write(f\"Processing {model_name}...\")\n",
    "    output_df = process_model(model_name, name_for_csv, tokenizer, ids, raw_texts)\n",
    "    \n",
    "    # Save results to cache\n",
    "    tqdm.write(f\"Saving results for {model_name}...\")\n",
    "    save_results_to_cache(output_df, name_for_csv)\n",
    "\n",
    "end_time = time.time()\n",
    "print(f\"Runtime: {end_time - start_time:.2f} seconds\")"
   ]
  },
  {
   "cell_type": "code",
   "execution_count": null,
   "metadata": {},
   "outputs": [],
   "source": []
  }
 ],
 "metadata": {
  "kernelspec": {
   "display_name": "Python 3",
   "language": "python",
   "name": "python3"
  },
  "language_info": {
   "codemirror_mode": {
    "name": "ipython",
    "version": 3
   },
   "file_extension": ".py",
   "mimetype": "text/x-python",
   "name": "python",
   "nbconvert_exporter": "python",
   "pygments_lexer": "ipython3",
   "version": "3.12.4"
  }
 },
 "nbformat": 4,
 "nbformat_minor": 2
}
