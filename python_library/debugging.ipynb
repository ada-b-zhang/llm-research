{
 "cells": [
  {
   "cell_type": "markdown",
   "metadata": {},
   "source": [
    "This is a file for debugging and experimenting with `token_scoring.py` and `test_token_scoring.py`"
   ]
  },
  {
   "cell_type": "markdown",
   "metadata": {},
   "source": [
    "# Import Libraries & Dataset"
   ]
  },
  {
   "cell_type": "code",
   "execution_count": 1,
   "metadata": {},
   "outputs": [
    {
     "data": {
      "application/vnd.jupyter.widget-view+json": {
       "model_id": "70def8a2aacf43d2b3319bf48d47fe3d",
       "version_major": 2,
       "version_minor": 0
      },
      "text/plain": [
       "Resolving data files:   0%|          | 0/218 [00:00<?, ?it/s]"
      ]
     },
     "metadata": {},
     "output_type": "display_data"
    },
    {
     "data": {
      "application/vnd.jupyter.widget-view+json": {
       "model_id": "ea89fc7c0d8e49a8b83163665606b7db",
       "version_major": 2,
       "version_minor": 0
      },
      "text/plain": [
       "Resolving data files:   0%|          | 0/213 [00:00<?, ?it/s]"
      ]
     },
     "metadata": {},
     "output_type": "display_data"
    },
    {
     "data": {
      "application/vnd.jupyter.widget-view+json": {
       "model_id": "9bb876d5052c405aa1370dc17a12ac5b",
       "version_major": 2,
       "version_minor": 0
      },
      "text/plain": [
       "Resolving data files:   0%|          | 0/218 [00:00<?, ?it/s]"
      ]
     },
     "metadata": {},
     "output_type": "display_data"
    },
    {
     "data": {
      "application/vnd.jupyter.widget-view+json": {
       "model_id": "ae14a9f14c154bada64fea6fa1dc67c0",
       "version_major": 2,
       "version_minor": 0
      },
      "text/plain": [
       "Resolving data files:   0%|          | 0/213 [00:00<?, ?it/s]"
      ]
     },
     "metadata": {},
     "output_type": "display_data"
    }
   ],
   "source": [
    "from transformers import AutoTokenizer\n",
    "from datasets import load_dataset\n",
    "import pandas as pd\n",
    "from tqdm import tqdm\n",
    "\n",
    "from token_scoring import *\n",
    "from test_token_scoring import *\n",
    "\n",
    "# Use sample from FLORES+ dataset \n",
    "flores_sample = load_dataset(\"openlanguagedata/flores_plus\", split='dev').to_pandas().sample(10)"
   ]
  },
  {
   "cell_type": "code",
   "execution_count": 2,
   "metadata": {},
   "outputs": [
    {
     "name": "stdout",
     "output_type": "stream",
     "text": [
      "(10, 3)\n"
     ]
    },
    {
     "data": {
      "text/html": [
       "<div>\n",
       "<style scoped>\n",
       "    .dataframe tbody tr th:only-of-type {\n",
       "        vertical-align: middle;\n",
       "    }\n",
       "\n",
       "    .dataframe tbody tr th {\n",
       "        vertical-align: top;\n",
       "    }\n",
       "\n",
       "    .dataframe thead th {\n",
       "        text-align: right;\n",
       "    }\n",
       "</style>\n",
       "<table border=\"1\" class=\"dataframe\">\n",
       "  <thead>\n",
       "    <tr style=\"text-align: right;\">\n",
       "      <th></th>\n",
       "      <th>index</th>\n",
       "      <th>language</th>\n",
       "      <th>text</th>\n",
       "    </tr>\n",
       "  </thead>\n",
       "  <tbody>\n",
       "    <tr>\n",
       "      <th>0</th>\n",
       "      <td>179951</td>\n",
       "      <td>Latn</td>\n",
       "      <td>Induskulturen var en bronsålderscivilisation p...</td>\n",
       "    </tr>\n",
       "    <tr>\n",
       "      <th>1</th>\n",
       "      <td>83580</td>\n",
       "      <td>Latn</td>\n",
       "      <td>Pos periksa imigrasi biasanya jadi perhentian ...</td>\n",
       "    </tr>\n",
       "  </tbody>\n",
       "</table>\n",
       "</div>"
      ],
      "text/plain": [
       "    index language                                               text\n",
       "0  179951     Latn  Induskulturen var en bronsålderscivilisation p...\n",
       "1   83580     Latn  Pos periksa imigrasi biasanya jadi perhentian ..."
      ]
     },
     "execution_count": 2,
     "metadata": {},
     "output_type": "execute_result"
    }
   ],
   "source": [
    "relevant_columns = ['language', 'text']\n",
    "flores_sample = flores_sample.rename(columns={'iso_15924':'language'})[relevant_columns].reset_index()\n",
    "print(flores_sample.shape)\n",
    "flores_sample.head(2)"
   ]
  },
  {
   "cell_type": "markdown",
   "metadata": {},
   "source": [
    "# Try Functions from `token_scoring.py`"
   ]
  },
  {
   "cell_type": "code",
   "execution_count": 3,
   "metadata": {},
   "outputs": [
    {
     "name": "stdout",
     "output_type": "stream",
     "text": [
      "Fertility Score: 2.2\n",
      "Tokens: ['Ind', 'usk', 'ulture', 'n', 'Ġvar', 'Ġen', 'Ġbr', 'ons', 'Ã¥', 'ld', 'ers', 'civil', 'isation', 'ĠpÃ¥', 'Ġden', 'Ġnord', 'vÃ¤', 'stra', 'Ġind', 'iska', 'Ġsub', 'kont', 'inent', 'en', 'Ġsom', 'Ġom', 'f', 'att', 'ade', 'Ġst', 'Ã¶r', 're', 'Ġdel', 'en', 'Ġav', 'Ġdag', 'ens', 'ĠPakistan', 'Ġsamt', 'Ġv', 'issa', 'Ġregion', 'er', 'Ġi', 'Ġnord', 'vÃ¤', 'stra', 'ĠInd', 'ien', 'Ġoch', 'Ġnord', 'Ã¶', 'stra', 'ĠAfghanistan', '.']\n"
     ]
    }
   ],
   "source": [
    "text = flores_sample['text'][0]\n",
    "\n",
    "fertility_score, tokens = fertility(text)\n",
    "print('Fertility Score:', fertility_score)\n",
    "print('Tokens:', tokens)"
   ]
  },
  {
   "cell_type": "code",
   "execution_count": 4,
   "metadata": {},
   "outputs": [
    {
     "name": "stdout",
     "output_type": "stream",
     "text": [
      "Fertility Score: 2.24\n",
      "Tokens: ['▁Ind', 'usk', 'ultur', 'en', '▁var', '▁en', '▁br', 'ons', 'å', 'ld', 'ers', 'c', 'ivil', 'isation', '▁på', '▁den', '▁nord', 'vä', 'stra', '▁ind', 'iska', '▁sub', 'k', 'ont', 'inent', 'en', '▁som', '▁om', 'f', 'atta', 'de', '▁stör', 're', '▁delen', '▁av', '▁dag', 'ens', '▁Pakistan', '▁samt', '▁v', 'issa', '▁region', 'er', '▁i', '▁nord', 'vä', 'stra', '▁Ind', 'ien', '▁och', '▁nord', 'ö', 'stra', '▁Afghan', 'istan', '.']\n"
     ]
    }
   ],
   "source": [
    "text = flores_sample['text'][0]\n",
    "tokenizer = AutoTokenizer.from_pretrained('microsoft/Phi-3.5-mini-instruct')\n",
    "\n",
    "fertility_score, tokens = fertility(text, tokenizer)\n",
    "print('Fertility Score:', fertility_score)\n",
    "print('Tokens:', tokens)"
   ]
  },
  {
   "cell_type": "code",
   "execution_count": 5,
   "metadata": {},
   "outputs": [
    {
     "data": {
      "image/png": "[encoded data removed]",
      "text/plain": [
       "<Figure size 1200x600 with 1 Axes>"
      ]
     },
     "metadata": {},
     "output_type": "display_data"
    }
   ],
   "source": [
    "scored = get_fertilities(flores_sample, visualize=True)"
   ]
  },
  {
   "cell_type": "code",
   "execution_count": 6,
   "metadata": {},
   "outputs": [
    {
     "data": {
      "text/html": [
       "<div>\n",
       "<style scoped>\n",
       "    .dataframe tbody tr th:only-of-type {\n",
       "        vertical-align: middle;\n",
       "    }\n",
       "\n",
       "    .dataframe tbody tr th {\n",
       "        vertical-align: top;\n",
       "    }\n",
       "\n",
       "    .dataframe thead th {\n",
       "        text-align: right;\n",
       "    }\n",
       "</style>\n",
       "<table border=\"1\" class=\"dataframe\">\n",
       "  <thead>\n",
       "    <tr style=\"text-align: right;\">\n",
       "      <th></th>\n",
       "      <th>index</th>\n",
       "      <th>language</th>\n",
       "      <th>text</th>\n",
       "      <th>fertility</th>\n",
       "      <th>tokens</th>\n",
       "    </tr>\n",
       "  </thead>\n",
       "  <tbody>\n",
       "    <tr>\n",
       "      <th>0</th>\n",
       "      <td>179951</td>\n",
       "      <td>Latn</td>\n",
       "      <td>Induskulturen var en bronsålderscivilisation p...</td>\n",
       "      <td>2.200000</td>\n",
       "      <td>[Ind, usk, ulture, n, Ġvar, Ġen, Ġbr, ons, Ã¥,...</td>\n",
       "    </tr>\n",
       "    <tr>\n",
       "      <th>1</th>\n",
       "      <td>83580</td>\n",
       "      <td>Latn</td>\n",
       "      <td>Pos periksa imigrasi biasanya jadi perhentian ...</td>\n",
       "      <td>2.375000</td>\n",
       "      <td>[Pos, Ġper, ik, sa, Ġim, igr, asi, Ġbias, anya...</td>\n",
       "    </tr>\n",
       "    <tr>\n",
       "      <th>2</th>\n",
       "      <td>32317</td>\n",
       "      <td>Latn</td>\n",
       "      <td>Znamo mnoge grčke političare, naučnike i umjet...</td>\n",
       "      <td>2.625000</td>\n",
       "      <td>[Z, nam, o, Ġmn, oge, Ġgr, Äį, ke, Ġpolit, iÄį...</td>\n",
       "    </tr>\n",
       "    <tr>\n",
       "      <th>3</th>\n",
       "      <td>173945</td>\n",
       "      <td>Latn</td>\n",
       "      <td>Ho latela mehla eo, Qhobosheane ya Kirby Muxlo...</td>\n",
       "      <td>2.240000</td>\n",
       "      <td>[Ho, Ġlat, ela, Ġme, h, la, Ġeo, ,, ĠQ, h, ob,...</td>\n",
       "    </tr>\n",
       "    <tr>\n",
       "      <th>4</th>\n",
       "      <td>190536</td>\n",
       "      <td>Latn</td>\n",
       "      <td>Dispela 'capsule' bai i ron long kain olsem 12...</td>\n",
       "      <td>1.722222</td>\n",
       "      <td>[Disp, ela, Ġ', caps, ule, ', Ġb, ai, Ġi, Ġr, ...</td>\n",
       "    </tr>\n",
       "    <tr>\n",
       "      <th>5</th>\n",
       "      <td>198697</td>\n",
       "      <td>Cyrl</td>\n",
       "      <td>\"Луно\" буступ каарга база күштүг хат ону чалгы...</td>\n",
       "      <td>4.705882</td>\n",
       "      <td>[\", ÐĽ, Ñĥ, Ð½Ð¾, \", ĠÐ±, ÑĥÑģÑĤ, ÑĥÐ¿, ĠÐºÐ°,...</td>\n",
       "    </tr>\n",
       "    <tr>\n",
       "      <th>6</th>\n",
       "      <td>191437</td>\n",
       "      <td>Latn</td>\n",
       "      <td>Nadal o kgobokantse dintlha tsa 88% mo motsham...</td>\n",
       "      <td>2.238095</td>\n",
       "      <td>[N, adal, Ġo, Ġkg, ob, ok, ant, se, Ġdint, l, ...</td>\n",
       "    </tr>\n",
       "    <tr>\n",
       "      <th>7</th>\n",
       "      <td>116848</td>\n",
       "      <td>Latn</td>\n",
       "      <td>\"Ngela menji kupingana ku mudimu mu dimue,\" mu...</td>\n",
       "      <td>2.090909</td>\n",
       "      <td>[\", Ng, ela, Ġmen, ji, Ġkup, ing, ana, Ġku, Ġm...</td>\n",
       "    </tr>\n",
       "    <tr>\n",
       "      <th>8</th>\n",
       "      <td>178290</td>\n",
       "      <td>Latn</td>\n",
       "      <td>Buka kutsi nguluphi luhambo lomdayisi layilukh...</td>\n",
       "      <td>3.909091</td>\n",
       "      <td>[B, uka, Ġk, uts, i, Ġng, ul, up, hi, Ġlu, ham...</td>\n",
       "    </tr>\n",
       "    <tr>\n",
       "      <th>9</th>\n",
       "      <td>146717</td>\n",
       "      <td>Orya</td>\n",
       "      <td>7 ପଏଣ୍ଟ ପଛରେ, ଜନସନ 2,243 ସହିତ ଦ୍ଵିତୀୟ ସ୍ଥାନରେ ...</td>\n",
       "      <td>12.777778</td>\n",
       "      <td>[7, Ġà, ¬, ª, à, ¬, ı, à, ¬, £, à, Ń, į, à, ¬,...</td>\n",
       "    </tr>\n",
       "  </tbody>\n",
       "</table>\n",
       "</div>"
      ],
      "text/plain": [
       "    index language                                               text  \\\n",
       "0  179951     Latn  Induskulturen var en bronsålderscivilisation p...   \n",
       "1   83580     Latn  Pos periksa imigrasi biasanya jadi perhentian ...   \n",
       "2   32317     Latn  Znamo mnoge grčke političare, naučnike i umjet...   \n",
       "3  173945     Latn  Ho latela mehla eo, Qhobosheane ya Kirby Muxlo...   \n",
       "4  190536     Latn  Dispela 'capsule' bai i ron long kain olsem 12...   \n",
       "5  198697     Cyrl  \"Луно\" буступ каарга база күштүг хат ону чалгы...   \n",
       "6  191437     Latn  Nadal o kgobokantse dintlha tsa 88% mo motsham...   \n",
       "7  116848     Latn  \"Ngela menji kupingana ku mudimu mu dimue,\" mu...   \n",
       "8  178290     Latn  Buka kutsi nguluphi luhambo lomdayisi layilukh...   \n",
       "9  146717     Orya  7 ପଏଣ୍ଟ ପଛରେ, ଜନସନ 2,243 ସହିତ ଦ୍ଵିତୀୟ ସ୍ଥାନରେ ...   \n",
       "\n",
       "   fertility                                             tokens  \n",
       "0   2.200000  [Ind, usk, ulture, n, Ġvar, Ġen, Ġbr, ons, Ã¥,...  \n",
       "1   2.375000  [Pos, Ġper, ik, sa, Ġim, igr, asi, Ġbias, anya...  \n",
       "2   2.625000  [Z, nam, o, Ġmn, oge, Ġgr, Äį, ke, Ġpolit, iÄį...  \n",
       "3   2.240000  [Ho, Ġlat, ela, Ġme, h, la, Ġeo, ,, ĠQ, h, ob,...  \n",
       "4   1.722222  [Disp, ela, Ġ', caps, ule, ', Ġb, ai, Ġi, Ġr, ...  \n",
       "5   4.705882  [\", ÐĽ, Ñĥ, Ð½Ð¾, \", ĠÐ±, ÑĥÑģÑĤ, ÑĥÐ¿, ĠÐºÐ°,...  \n",
       "6   2.238095  [N, adal, Ġo, Ġkg, ob, ok, ant, se, Ġdint, l, ...  \n",
       "7   2.090909  [\", Ng, ela, Ġmen, ji, Ġkup, ing, ana, Ġku, Ġm...  \n",
       "8   3.909091  [B, uka, Ġk, uts, i, Ġng, ul, up, hi, Ġlu, ham...  \n",
       "9  12.777778  [7, Ġà, ¬, ª, à, ¬, ı, à, ¬, £, à, Ń, į, à, ¬,...  "
      ]
     },
     "execution_count": 6,
     "metadata": {},
     "output_type": "execute_result"
    }
   ],
   "source": [
    "scored"
   ]
  },
  {
   "cell_type": "code",
   "execution_count": null,
   "metadata": {},
   "outputs": [],
   "source": []
  }
 ],
 "metadata": {
  "kernelspec": {
   "display_name": "base",
   "language": "python",
   "name": "python3"
  },
  "language_info": {
   "codemirror_mode": {
    "name": "ipython",
    "version": 3
   },
   "file_extension": ".py",
   "mimetype": "text/x-python",
   "name": "python",
   "nbconvert_exporter": "python",
   "pygments_lexer": "ipython3",
   "version": "3.12.2"
  }
 },
 "nbformat": 4,
 "nbformat_minor": 2
}
